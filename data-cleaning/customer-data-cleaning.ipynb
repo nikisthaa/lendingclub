{
 "cells": [
  {
   "cell_type": "markdown",
   "id": "04bfc3b3",
   "metadata": {},
   "source": [
    "# Cleaning Customer Data\n",
    "\n",
    "## Data Cleaning Actions to Take\n",
    "\n",
    "1. Create a dataframe with proper datatypes\n",
    "2. Rename a few columns\n",
    "annual_inc -> annual_income\n",
    "addr_state -> address_state\n",
    "xip_cod -> address_zipcode\n",
    "country -> address_country\n",
    "total_hi_cred_lim -> total_high_credit_limit\n",
    "annual_inc_joint -> join_annual_income\n",
    "\n",
    "3. Insert a new column named as ingestion date (current time )\n",
    "\n",
    "4. Remove complete duplicate rows\n",
    "\n",
    "5. Remove rows where annual_income is null\n",
    "\n",
    "6. Convert emp_length to integer\n",
    "\n",
    "7. We need to replace all the nulls in emp_lenths column with average of this column\n",
    "\n",
    "8. Clean the address_state (it should be 2 characters only), replace all others with NA\n",
    "\n",
    "9. Write the cleaned customers data in cleaned folder in hdfs"
   ]
  },
  {
   "cell_type": "code",
   "execution_count": 2,
   "id": "46079e2b",
   "metadata": {},
   "outputs": [],
   "source": [
    "# Create spark session\n",
    "import getpass\n",
    "from pyspark.sql import SparkSession\n",
    "\n",
    "\n",
    "username = getpass.getuser()\n",
    "spark = SparkSession.builder.\\\n",
    "    config('spark.shuffle.useOldFetchProtocol','true').\\\n",
    "    config('spark.ui.port', '0').\\\n",
    "    config('spark.sql.warehouse.dir', f'/user/{username}/warehouse').\\\n",
    "    enableHiveSupport().\\\n",
    "    master('yarn').\\\n",
    "    getOrCreate()"
   ]
  },
  {
   "cell_type": "markdown",
   "id": "cb829afa",
   "metadata": {},
   "source": [
    "## 1. Handle Datatype"
   ]
  },
  {
   "cell_type": "code",
   "execution_count": 5,
   "id": "2ded45fb",
   "metadata": {},
   "outputs": [],
   "source": [
    "customer_schema = \"\"\"member_id string, emp_title string, emp_length string, home_ownership string, \n",
    "annual_inc float, addr_state string, zip_code string, country string, grade string, sub_grade string, \n",
    "verification_status string, tot_hi_cred_lim float, application_type string, annual_inc_joint float, \n",
    "verification_status_joint string\"\"\""
   ]
  },
  {
   "cell_type": "code",
   "execution_count": 7,
   "id": "67d20788",
   "metadata": {},
   "outputs": [],
   "source": [
    "# Load customers raw data with the schema defined above\n",
    "\n",
    "customers_raw_df = spark.read\\\n",
    ".format(\"csv\")\\\n",
    ".option(\"header\", True)\\\n",
    ".schema(customer_schema)\\\n",
    ".load(\"/user/itv008299/lendingclubproject/raw/customers_data_csv\")"
   ]
  },
  {
   "cell_type": "code",
   "execution_count": 8,
   "id": "98e3a154",
   "metadata": {},
   "outputs": [
    {
     "data": {
      "text/html": [
       "<table border='1'>\n",
       "<tr><th>member_id</th><th>emp_title</th><th>emp_length</th><th>home_ownership</th><th>annual_inc</th><th>addr_state</th><th>zip_code</th><th>country</th><th>grade</th><th>sub_grade</th><th>verification_status</th><th>tot_hi_cred_lim</th><th>application_type</th><th>annual_inc_joint</th><th>verification_status_joint</th></tr>\n",
       "<tr><td>6d5091b3fcaaeb4ea...</td><td>leadman</td><td>10+ years</td><td>MORTGAGE</td><td>55000.0</td><td>PA</td><td>190xx</td><td>USA</td><td>C</td><td>C4</td><td>Not Verified</td><td>178050.0</td><td>Individual</td><td>null</td><td>null</td></tr>\n",
       "<tr><td>b5e7938b0a2da4cea...</td><td>Engineer</td><td>10+ years</td><td>MORTGAGE</td><td>65000.0</td><td>SD</td><td>577xx</td><td>USA</td><td>C</td><td>C1</td><td>Not Verified</td><td>314017.0</td><td>Individual</td><td>null</td><td>null</td></tr>\n",
       "<tr><td>91060b858433e8a61...</td><td>truck driver</td><td>10+ years</td><td>MORTGAGE</td><td>63000.0</td><td>IL</td><td>605xx</td><td>USA</td><td>B</td><td>B4</td><td>Not Verified</td><td>218418.0</td><td>Joint App</td><td>71000.0</td><td>Not Verified</td></tr>\n",
       "<tr><td>cab1fa9f533688b0a...</td><td>Information Syste...</td><td>10+ years</td><td>MORTGAGE</td><td>110000.0</td><td>NJ</td><td>076xx</td><td>USA</td><td>C</td><td>C5</td><td>Source Verified</td><td>381215.0</td><td>Individual</td><td>null</td><td>null</td></tr>\n",
       "<tr><td>f74e401c1ab0adf78...</td><td>Contract Specialist</td><td>3 years</td><td>MORTGAGE</td><td>104433.0</td><td>PA</td><td>174xx</td><td>USA</td><td>F</td><td>F1</td><td>Source Verified</td><td>439570.0</td><td>Individual</td><td>null</td><td>null</td></tr>\n",
       "<tr><td>8aef4bb29d609d8d6...</td><td>Veterinary Tecnician</td><td>4 years</td><td>RENT</td><td>34000.0</td><td>GA</td><td>300xx</td><td>USA</td><td>C</td><td>C3</td><td>Source Verified</td><td>16900.0</td><td>Individual</td><td>null</td><td>null</td></tr>\n",
       "<tr><td>538b4653da3b1e814...</td><td>Vice President of...</td><td>10+ years</td><td>MORTGAGE</td><td>180000.0</td><td>MN</td><td>550xx</td><td>USA</td><td>B</td><td>B2</td><td>Not Verified</td><td>388852.0</td><td>Individual</td><td>null</td><td>null</td></tr>\n",
       "<tr><td>b24d55f21390533c5...</td><td>road driver</td><td>10+ years</td><td>MORTGAGE</td><td>85000.0</td><td>SC</td><td>293xx</td><td>USA</td><td>B</td><td>B1</td><td>Not Verified</td><td>193390.0</td><td>Individual</td><td>null</td><td>null</td></tr>\n",
       "<tr><td>1035c5401b0ca76d0...</td><td>SERVICE MANAGER</td><td>6 years</td><td>RENT</td><td>85000.0</td><td>PA</td><td>160xx</td><td>USA</td><td>A</td><td>A2</td><td>Not Verified</td><td>61099.0</td><td>Individual</td><td>null</td><td>null</td></tr>\n",
       "<tr><td>cb0f1777593e77909...</td><td>Vendor liaison</td><td>10+ years</td><td>MORTGAGE</td><td>42000.0</td><td>RI</td><td>029xx</td><td>USA</td><td>B</td><td>B5</td><td>Not Verified</td><td>256513.0</td><td>Individual</td><td>null</td><td>null</td></tr>\n",
       "<tr><td>a962f4d59caec5fa1...</td><td>Executive Director</td><td>6 years</td><td>MORTGAGE</td><td>95000.0</td><td>SC</td><td>290xx</td><td>USA</td><td>C</td><td>C2</td><td>Not Verified</td><td>436841.0</td><td>Individual</td><td>null</td><td>null</td></tr>\n",
       "<tr><td>e7592ab57b3afd9f1...</td><td>Senior Structural...</td><td>1 year</td><td>MORTGAGE</td><td>70000.0</td><td>TX</td><td>786xx</td><td>USA</td><td>C</td><td>C2</td><td>Not Verified</td><td>309638.0</td><td>Individual</td><td>null</td><td>null</td></tr>\n",
       "<tr><td>603afa9d1be879b7b...</td><td>Logistics Manager</td><td>3 years</td><td>MORTGAGE</td><td>64000.0</td><td>NC</td><td>275xx</td><td>USA</td><td>C</td><td>C2</td><td>Not Verified</td><td>372109.0</td><td>Individual</td><td>null</td><td>null</td></tr>\n",
       "<tr><td>9fe2d59ddf2a4f37e...</td><td>Software Manager</td><td>7 years</td><td>RENT</td><td>150000.0</td><td>CA</td><td>916xx</td><td>USA</td><td>E</td><td>E2</td><td>Not Verified</td><td>65819.0</td><td>Individual</td><td>null</td><td>null</td></tr>\n",
       "<tr><td>23857480ccf555ce4...</td><td>Senior Manager</td><td>10+ years</td><td>MORTGAGE</td><td>92000.0</td><td>NC</td><td>275xx</td><td>USA</td><td>A</td><td>A2</td><td>Not Verified</td><td>304003.0</td><td>Individual</td><td>null</td><td>null</td></tr>\n",
       "<tr><td>7c69d5f36fdabf6e1...</td><td>tech</td><td>8 years</td><td>MORTGAGE</td><td>60000.0</td><td>SC</td><td>299xx</td><td>USA</td><td>A</td><td>A4</td><td>Not Verified</td><td>88635.0</td><td>Individual</td><td>null</td><td>null</td></tr>\n",
       "<tr><td>08bf9e080503b0113...</td><td>Sales Manager</td><td>10+ years</td><td>MORTGAGE</td><td>109000.0</td><td>VA</td><td>226xx</td><td>USA</td><td>A</td><td>A4</td><td>Not Verified</td><td>373572.0</td><td>Individual</td><td>null</td><td>null</td></tr>\n",
       "<tr><td>1cafb05aa6c894c30...</td><td>GS-11</td><td>10+ years</td><td>MORTGAGE</td><td>112000.0</td><td>AZ</td><td>856xx</td><td>USA</td><td>C</td><td>C1</td><td>Not Verified</td><td>309710.0</td><td>Individual</td><td>null</td><td>null</td></tr>\n",
       "<tr><td>f2c4010f700d8c9c4...</td><td>Teacher</td><td>5 years</td><td>RENT</td><td>64000.0</td><td>NY</td><td>117xx</td><td>USA</td><td>B</td><td>B1</td><td>Not Verified</td><td>93962.0</td><td>Individual</td><td>null</td><td>null</td></tr>\n",
       "<tr><td>05ad4aed7c393035e...</td><td>Program Coordinator</td><td>8 years</td><td>RENT</td><td>55000.0</td><td>IN</td><td>462xx</td><td>USA</td><td>E</td><td>E3</td><td>Verified</td><td>38998.0</td><td>Individual</td><td>null</td><td>null</td></tr>\n",
       "</table>\n",
       "only showing top 20 rows\n"
      ],
      "text/plain": [
       "+--------------------+--------------------+----------+--------------+----------+----------+--------+-------+-----+---------+-------------------+---------------+----------------+----------------+-------------------------+\n",
       "|           member_id|           emp_title|emp_length|home_ownership|annual_inc|addr_state|zip_code|country|grade|sub_grade|verification_status|tot_hi_cred_lim|application_type|annual_inc_joint|verification_status_joint|\n",
       "+--------------------+--------------------+----------+--------------+----------+----------+--------+-------+-----+---------+-------------------+---------------+----------------+----------------+-------------------------+\n",
       "|6d5091b3fcaaeb4ea...|             leadman| 10+ years|      MORTGAGE|   55000.0|        PA|   190xx|    USA|    C|       C4|       Not Verified|       178050.0|      Individual|            null|                     null|\n",
       "|b5e7938b0a2da4cea...|            Engineer| 10+ years|      MORTGAGE|   65000.0|        SD|   577xx|    USA|    C|       C1|       Not Verified|       314017.0|      Individual|            null|                     null|\n",
       "|91060b858433e8a61...|        truck driver| 10+ years|      MORTGAGE|   63000.0|        IL|   605xx|    USA|    B|       B4|       Not Verified|       218418.0|       Joint App|         71000.0|             Not Verified|\n",
       "|cab1fa9f533688b0a...|Information Syste...| 10+ years|      MORTGAGE|  110000.0|        NJ|   076xx|    USA|    C|       C5|    Source Verified|       381215.0|      Individual|            null|                     null|\n",
       "|f74e401c1ab0adf78...| Contract Specialist|   3 years|      MORTGAGE|  104433.0|        PA|   174xx|    USA|    F|       F1|    Source Verified|       439570.0|      Individual|            null|                     null|\n",
       "|8aef4bb29d609d8d6...|Veterinary Tecnician|   4 years|          RENT|   34000.0|        GA|   300xx|    USA|    C|       C3|    Source Verified|        16900.0|      Individual|            null|                     null|\n",
       "|538b4653da3b1e814...|Vice President of...| 10+ years|      MORTGAGE|  180000.0|        MN|   550xx|    USA|    B|       B2|       Not Verified|       388852.0|      Individual|            null|                     null|\n",
       "|b24d55f21390533c5...|         road driver| 10+ years|      MORTGAGE|   85000.0|        SC|   293xx|    USA|    B|       B1|       Not Verified|       193390.0|      Individual|            null|                     null|\n",
       "|1035c5401b0ca76d0...|     SERVICE MANAGER|   6 years|          RENT|   85000.0|        PA|   160xx|    USA|    A|       A2|       Not Verified|        61099.0|      Individual|            null|                     null|\n",
       "|cb0f1777593e77909...|      Vendor liaison| 10+ years|      MORTGAGE|   42000.0|        RI|   029xx|    USA|    B|       B5|       Not Verified|       256513.0|      Individual|            null|                     null|\n",
       "|a962f4d59caec5fa1...|  Executive Director|   6 years|      MORTGAGE|   95000.0|        SC|   290xx|    USA|    C|       C2|       Not Verified|       436841.0|      Individual|            null|                     null|\n",
       "|e7592ab57b3afd9f1...|Senior Structural...|    1 year|      MORTGAGE|   70000.0|        TX|   786xx|    USA|    C|       C2|       Not Verified|       309638.0|      Individual|            null|                     null|\n",
       "|603afa9d1be879b7b...|   Logistics Manager|   3 years|      MORTGAGE|   64000.0|        NC|   275xx|    USA|    C|       C2|       Not Verified|       372109.0|      Individual|            null|                     null|\n",
       "|9fe2d59ddf2a4f37e...|    Software Manager|   7 years|          RENT|  150000.0|        CA|   916xx|    USA|    E|       E2|       Not Verified|        65819.0|      Individual|            null|                     null|\n",
       "|23857480ccf555ce4...|      Senior Manager| 10+ years|      MORTGAGE|   92000.0|        NC|   275xx|    USA|    A|       A2|       Not Verified|       304003.0|      Individual|            null|                     null|\n",
       "|7c69d5f36fdabf6e1...|                tech|   8 years|      MORTGAGE|   60000.0|        SC|   299xx|    USA|    A|       A4|       Not Verified|        88635.0|      Individual|            null|                     null|\n",
       "|08bf9e080503b0113...|       Sales Manager| 10+ years|      MORTGAGE|  109000.0|        VA|   226xx|    USA|    A|       A4|       Not Verified|       373572.0|      Individual|            null|                     null|\n",
       "|1cafb05aa6c894c30...|               GS-11| 10+ years|      MORTGAGE|  112000.0|        AZ|   856xx|    USA|    C|       C1|       Not Verified|       309710.0|      Individual|            null|                     null|\n",
       "|f2c4010f700d8c9c4...|             Teacher|   5 years|          RENT|   64000.0|        NY|   117xx|    USA|    B|       B1|       Not Verified|        93962.0|      Individual|            null|                     null|\n",
       "|05ad4aed7c393035e...| Program Coordinator|   8 years|          RENT|   55000.0|        IN|   462xx|    USA|    E|       E3|           Verified|        38998.0|      Individual|            null|                     null|\n",
       "+--------------------+--------------------+----------+--------------+----------+----------+--------+-------+-----+---------+-------------------+---------------+----------------+----------------+-------------------------+\n",
       "only showing top 20 rows"
      ]
     },
     "execution_count": 8,
     "metadata": {},
     "output_type": "execute_result"
    }
   ],
   "source": [
    "customers_raw_df"
   ]
  },
  {
   "cell_type": "code",
   "execution_count": 9,
   "id": "eeef7157",
   "metadata": {},
   "outputs": [
    {
     "name": "stdout",
     "output_type": "stream",
     "text": [
      "root\n",
      " |-- member_id: string (nullable = true)\n",
      " |-- emp_title: string (nullable = true)\n",
      " |-- emp_length: string (nullable = true)\n",
      " |-- home_ownership: string (nullable = true)\n",
      " |-- annual_inc: float (nullable = true)\n",
      " |-- addr_state: string (nullable = true)\n",
      " |-- zip_code: string (nullable = true)\n",
      " |-- country: string (nullable = true)\n",
      " |-- grade: string (nullable = true)\n",
      " |-- sub_grade: string (nullable = true)\n",
      " |-- verification_status: string (nullable = true)\n",
      " |-- tot_hi_cred_lim: float (nullable = true)\n",
      " |-- application_type: string (nullable = true)\n",
      " |-- annual_inc_joint: float (nullable = true)\n",
      " |-- verification_status_joint: string (nullable = true)\n",
      "\n"
     ]
    }
   ],
   "source": [
    "customers_raw_df.printSchema()"
   ]
  },
  {
   "cell_type": "markdown",
   "id": "a8fb582c",
   "metadata": {},
   "source": [
    "## 2. Rename a few columns"
   ]
  },
  {
   "cell_type": "code",
   "execution_count": 13,
   "id": "ed0de381",
   "metadata": {},
   "outputs": [],
   "source": [
    "customers_raw_df_renamed = customers_raw_df.withColumnRenamed(\"annual_inc\", \"annual_income\")\\\n",
    ".withColumnRenamed(\"addr_state\", \"address_state\")\\\n",
    ".withColumnRenamed(\"zip_code\", \"address_zipcode\")\\\n",
    ".withColumnRenamed(\"country\", \"address_country\")\\\n",
    ".withColumnRenamed(\"tot_hi_cred_lim\", \"total_high_credit_limit\")\\\n",
    ".withColumnRenamed(\"annual_inc_joint\", \"join_annual_income\")"
   ]
  },
  {
   "cell_type": "code",
   "execution_count": 14,
   "id": "df031d74",
   "metadata": {},
   "outputs": [
    {
     "data": {
      "text/html": [
       "<table border='1'>\n",
       "<tr><th>member_id</th><th>emp_title</th><th>emp_length</th><th>home_ownership</th><th>annual_income</th><th>address_state</th><th>address_zipcode</th><th>address_country</th><th>grade</th><th>sub_grade</th><th>verification_status</th><th>total_high_credit_limit</th><th>application_type</th><th>join_annual_income</th><th>verification_status_joint</th></tr>\n",
       "<tr><td>6d5091b3fcaaeb4ea...</td><td>leadman</td><td>10+ years</td><td>MORTGAGE</td><td>55000.0</td><td>PA</td><td>190xx</td><td>USA</td><td>C</td><td>C4</td><td>Not Verified</td><td>178050.0</td><td>Individual</td><td>null</td><td>null</td></tr>\n",
       "<tr><td>b5e7938b0a2da4cea...</td><td>Engineer</td><td>10+ years</td><td>MORTGAGE</td><td>65000.0</td><td>SD</td><td>577xx</td><td>USA</td><td>C</td><td>C1</td><td>Not Verified</td><td>314017.0</td><td>Individual</td><td>null</td><td>null</td></tr>\n",
       "<tr><td>91060b858433e8a61...</td><td>truck driver</td><td>10+ years</td><td>MORTGAGE</td><td>63000.0</td><td>IL</td><td>605xx</td><td>USA</td><td>B</td><td>B4</td><td>Not Verified</td><td>218418.0</td><td>Joint App</td><td>71000.0</td><td>Not Verified</td></tr>\n",
       "<tr><td>cab1fa9f533688b0a...</td><td>Information Syste...</td><td>10+ years</td><td>MORTGAGE</td><td>110000.0</td><td>NJ</td><td>076xx</td><td>USA</td><td>C</td><td>C5</td><td>Source Verified</td><td>381215.0</td><td>Individual</td><td>null</td><td>null</td></tr>\n",
       "<tr><td>f74e401c1ab0adf78...</td><td>Contract Specialist</td><td>3 years</td><td>MORTGAGE</td><td>104433.0</td><td>PA</td><td>174xx</td><td>USA</td><td>F</td><td>F1</td><td>Source Verified</td><td>439570.0</td><td>Individual</td><td>null</td><td>null</td></tr>\n",
       "<tr><td>8aef4bb29d609d8d6...</td><td>Veterinary Tecnician</td><td>4 years</td><td>RENT</td><td>34000.0</td><td>GA</td><td>300xx</td><td>USA</td><td>C</td><td>C3</td><td>Source Verified</td><td>16900.0</td><td>Individual</td><td>null</td><td>null</td></tr>\n",
       "<tr><td>538b4653da3b1e814...</td><td>Vice President of...</td><td>10+ years</td><td>MORTGAGE</td><td>180000.0</td><td>MN</td><td>550xx</td><td>USA</td><td>B</td><td>B2</td><td>Not Verified</td><td>388852.0</td><td>Individual</td><td>null</td><td>null</td></tr>\n",
       "<tr><td>b24d55f21390533c5...</td><td>road driver</td><td>10+ years</td><td>MORTGAGE</td><td>85000.0</td><td>SC</td><td>293xx</td><td>USA</td><td>B</td><td>B1</td><td>Not Verified</td><td>193390.0</td><td>Individual</td><td>null</td><td>null</td></tr>\n",
       "<tr><td>1035c5401b0ca76d0...</td><td>SERVICE MANAGER</td><td>6 years</td><td>RENT</td><td>85000.0</td><td>PA</td><td>160xx</td><td>USA</td><td>A</td><td>A2</td><td>Not Verified</td><td>61099.0</td><td>Individual</td><td>null</td><td>null</td></tr>\n",
       "<tr><td>cb0f1777593e77909...</td><td>Vendor liaison</td><td>10+ years</td><td>MORTGAGE</td><td>42000.0</td><td>RI</td><td>029xx</td><td>USA</td><td>B</td><td>B5</td><td>Not Verified</td><td>256513.0</td><td>Individual</td><td>null</td><td>null</td></tr>\n",
       "<tr><td>a962f4d59caec5fa1...</td><td>Executive Director</td><td>6 years</td><td>MORTGAGE</td><td>95000.0</td><td>SC</td><td>290xx</td><td>USA</td><td>C</td><td>C2</td><td>Not Verified</td><td>436841.0</td><td>Individual</td><td>null</td><td>null</td></tr>\n",
       "<tr><td>e7592ab57b3afd9f1...</td><td>Senior Structural...</td><td>1 year</td><td>MORTGAGE</td><td>70000.0</td><td>TX</td><td>786xx</td><td>USA</td><td>C</td><td>C2</td><td>Not Verified</td><td>309638.0</td><td>Individual</td><td>null</td><td>null</td></tr>\n",
       "<tr><td>603afa9d1be879b7b...</td><td>Logistics Manager</td><td>3 years</td><td>MORTGAGE</td><td>64000.0</td><td>NC</td><td>275xx</td><td>USA</td><td>C</td><td>C2</td><td>Not Verified</td><td>372109.0</td><td>Individual</td><td>null</td><td>null</td></tr>\n",
       "<tr><td>9fe2d59ddf2a4f37e...</td><td>Software Manager</td><td>7 years</td><td>RENT</td><td>150000.0</td><td>CA</td><td>916xx</td><td>USA</td><td>E</td><td>E2</td><td>Not Verified</td><td>65819.0</td><td>Individual</td><td>null</td><td>null</td></tr>\n",
       "<tr><td>23857480ccf555ce4...</td><td>Senior Manager</td><td>10+ years</td><td>MORTGAGE</td><td>92000.0</td><td>NC</td><td>275xx</td><td>USA</td><td>A</td><td>A2</td><td>Not Verified</td><td>304003.0</td><td>Individual</td><td>null</td><td>null</td></tr>\n",
       "<tr><td>7c69d5f36fdabf6e1...</td><td>tech</td><td>8 years</td><td>MORTGAGE</td><td>60000.0</td><td>SC</td><td>299xx</td><td>USA</td><td>A</td><td>A4</td><td>Not Verified</td><td>88635.0</td><td>Individual</td><td>null</td><td>null</td></tr>\n",
       "<tr><td>08bf9e080503b0113...</td><td>Sales Manager</td><td>10+ years</td><td>MORTGAGE</td><td>109000.0</td><td>VA</td><td>226xx</td><td>USA</td><td>A</td><td>A4</td><td>Not Verified</td><td>373572.0</td><td>Individual</td><td>null</td><td>null</td></tr>\n",
       "<tr><td>1cafb05aa6c894c30...</td><td>GS-11</td><td>10+ years</td><td>MORTGAGE</td><td>112000.0</td><td>AZ</td><td>856xx</td><td>USA</td><td>C</td><td>C1</td><td>Not Verified</td><td>309710.0</td><td>Individual</td><td>null</td><td>null</td></tr>\n",
       "<tr><td>f2c4010f700d8c9c4...</td><td>Teacher</td><td>5 years</td><td>RENT</td><td>64000.0</td><td>NY</td><td>117xx</td><td>USA</td><td>B</td><td>B1</td><td>Not Verified</td><td>93962.0</td><td>Individual</td><td>null</td><td>null</td></tr>\n",
       "<tr><td>05ad4aed7c393035e...</td><td>Program Coordinator</td><td>8 years</td><td>RENT</td><td>55000.0</td><td>IN</td><td>462xx</td><td>USA</td><td>E</td><td>E3</td><td>Verified</td><td>38998.0</td><td>Individual</td><td>null</td><td>null</td></tr>\n",
       "</table>\n",
       "only showing top 20 rows\n"
      ],
      "text/plain": [
       "+--------------------+--------------------+----------+--------------+-------------+-------------+---------------+---------------+-----+---------+-------------------+-----------------------+----------------+------------------+-------------------------+\n",
       "|           member_id|           emp_title|emp_length|home_ownership|annual_income|address_state|address_zipcode|address_country|grade|sub_grade|verification_status|total_high_credit_limit|application_type|join_annual_income|verification_status_joint|\n",
       "+--------------------+--------------------+----------+--------------+-------------+-------------+---------------+---------------+-----+---------+-------------------+-----------------------+----------------+------------------+-------------------------+\n",
       "|6d5091b3fcaaeb4ea...|             leadman| 10+ years|      MORTGAGE|      55000.0|           PA|          190xx|            USA|    C|       C4|       Not Verified|               178050.0|      Individual|              null|                     null|\n",
       "|b5e7938b0a2da4cea...|            Engineer| 10+ years|      MORTGAGE|      65000.0|           SD|          577xx|            USA|    C|       C1|       Not Verified|               314017.0|      Individual|              null|                     null|\n",
       "|91060b858433e8a61...|        truck driver| 10+ years|      MORTGAGE|      63000.0|           IL|          605xx|            USA|    B|       B4|       Not Verified|               218418.0|       Joint App|           71000.0|             Not Verified|\n",
       "|cab1fa9f533688b0a...|Information Syste...| 10+ years|      MORTGAGE|     110000.0|           NJ|          076xx|            USA|    C|       C5|    Source Verified|               381215.0|      Individual|              null|                     null|\n",
       "|f74e401c1ab0adf78...| Contract Specialist|   3 years|      MORTGAGE|     104433.0|           PA|          174xx|            USA|    F|       F1|    Source Verified|               439570.0|      Individual|              null|                     null|\n",
       "|8aef4bb29d609d8d6...|Veterinary Tecnician|   4 years|          RENT|      34000.0|           GA|          300xx|            USA|    C|       C3|    Source Verified|                16900.0|      Individual|              null|                     null|\n",
       "|538b4653da3b1e814...|Vice President of...| 10+ years|      MORTGAGE|     180000.0|           MN|          550xx|            USA|    B|       B2|       Not Verified|               388852.0|      Individual|              null|                     null|\n",
       "|b24d55f21390533c5...|         road driver| 10+ years|      MORTGAGE|      85000.0|           SC|          293xx|            USA|    B|       B1|       Not Verified|               193390.0|      Individual|              null|                     null|\n",
       "|1035c5401b0ca76d0...|     SERVICE MANAGER|   6 years|          RENT|      85000.0|           PA|          160xx|            USA|    A|       A2|       Not Verified|                61099.0|      Individual|              null|                     null|\n",
       "|cb0f1777593e77909...|      Vendor liaison| 10+ years|      MORTGAGE|      42000.0|           RI|          029xx|            USA|    B|       B5|       Not Verified|               256513.0|      Individual|              null|                     null|\n",
       "|a962f4d59caec5fa1...|  Executive Director|   6 years|      MORTGAGE|      95000.0|           SC|          290xx|            USA|    C|       C2|       Not Verified|               436841.0|      Individual|              null|                     null|\n",
       "|e7592ab57b3afd9f1...|Senior Structural...|    1 year|      MORTGAGE|      70000.0|           TX|          786xx|            USA|    C|       C2|       Not Verified|               309638.0|      Individual|              null|                     null|\n",
       "|603afa9d1be879b7b...|   Logistics Manager|   3 years|      MORTGAGE|      64000.0|           NC|          275xx|            USA|    C|       C2|       Not Verified|               372109.0|      Individual|              null|                     null|\n",
       "|9fe2d59ddf2a4f37e...|    Software Manager|   7 years|          RENT|     150000.0|           CA|          916xx|            USA|    E|       E2|       Not Verified|                65819.0|      Individual|              null|                     null|\n",
       "|23857480ccf555ce4...|      Senior Manager| 10+ years|      MORTGAGE|      92000.0|           NC|          275xx|            USA|    A|       A2|       Not Verified|               304003.0|      Individual|              null|                     null|\n",
       "|7c69d5f36fdabf6e1...|                tech|   8 years|      MORTGAGE|      60000.0|           SC|          299xx|            USA|    A|       A4|       Not Verified|                88635.0|      Individual|              null|                     null|\n",
       "|08bf9e080503b0113...|       Sales Manager| 10+ years|      MORTGAGE|     109000.0|           VA|          226xx|            USA|    A|       A4|       Not Verified|               373572.0|      Individual|              null|                     null|\n",
       "|1cafb05aa6c894c30...|               GS-11| 10+ years|      MORTGAGE|     112000.0|           AZ|          856xx|            USA|    C|       C1|       Not Verified|               309710.0|      Individual|              null|                     null|\n",
       "|f2c4010f700d8c9c4...|             Teacher|   5 years|          RENT|      64000.0|           NY|          117xx|            USA|    B|       B1|       Not Verified|                93962.0|      Individual|              null|                     null|\n",
       "|05ad4aed7c393035e...| Program Coordinator|   8 years|          RENT|      55000.0|           IN|          462xx|            USA|    E|       E3|           Verified|                38998.0|      Individual|              null|                     null|\n",
       "+--------------------+--------------------+----------+--------------+-------------+-------------+---------------+---------------+-----+---------+-------------------+-----------------------+----------------+------------------+-------------------------+\n",
       "only showing top 20 rows"
      ]
     },
     "execution_count": 14,
     "metadata": {},
     "output_type": "execute_result"
    }
   ],
   "source": [
    "customers_raw_df_renamed"
   ]
  },
  {
   "cell_type": "markdown",
   "id": "4a6679a4",
   "metadata": {},
   "source": [
    "## 3. Ingest a new column named as ingestion date (current time)\n",
    "\n",
    "This is to keep track when file was ingested to our datalake."
   ]
  },
  {
   "cell_type": "code",
   "execution_count": 15,
   "id": "def53e4d",
   "metadata": {},
   "outputs": [],
   "source": [
    "from pyspark.sql.functions import current_timestamp\n",
    "\n",
    "customers_raw_df_ingested = customers_raw_df_renamed.withColumn(\"ingest_date\", current_timestamp())"
   ]
  },
  {
   "cell_type": "code",
   "execution_count": 16,
   "id": "2ca0b087",
   "metadata": {},
   "outputs": [
    {
     "data": {
      "text/html": [
       "<table border='1'>\n",
       "<tr><th>member_id</th><th>emp_title</th><th>emp_length</th><th>home_ownership</th><th>annual_income</th><th>address_state</th><th>address_zipcode</th><th>address_country</th><th>grade</th><th>sub_grade</th><th>verification_status</th><th>total_high_credit_limit</th><th>application_type</th><th>join_annual_income</th><th>verification_status_joint</th><th>ingest_date</th></tr>\n",
       "<tr><td>6d5091b3fcaaeb4ea...</td><td>leadman</td><td>10+ years</td><td>MORTGAGE</td><td>55000.0</td><td>PA</td><td>190xx</td><td>USA</td><td>C</td><td>C4</td><td>Not Verified</td><td>178050.0</td><td>Individual</td><td>null</td><td>null</td><td>2023-11-08 16:07:...</td></tr>\n",
       "<tr><td>b5e7938b0a2da4cea...</td><td>Engineer</td><td>10+ years</td><td>MORTGAGE</td><td>65000.0</td><td>SD</td><td>577xx</td><td>USA</td><td>C</td><td>C1</td><td>Not Verified</td><td>314017.0</td><td>Individual</td><td>null</td><td>null</td><td>2023-11-08 16:07:...</td></tr>\n",
       "<tr><td>91060b858433e8a61...</td><td>truck driver</td><td>10+ years</td><td>MORTGAGE</td><td>63000.0</td><td>IL</td><td>605xx</td><td>USA</td><td>B</td><td>B4</td><td>Not Verified</td><td>218418.0</td><td>Joint App</td><td>71000.0</td><td>Not Verified</td><td>2023-11-08 16:07:...</td></tr>\n",
       "<tr><td>cab1fa9f533688b0a...</td><td>Information Syste...</td><td>10+ years</td><td>MORTGAGE</td><td>110000.0</td><td>NJ</td><td>076xx</td><td>USA</td><td>C</td><td>C5</td><td>Source Verified</td><td>381215.0</td><td>Individual</td><td>null</td><td>null</td><td>2023-11-08 16:07:...</td></tr>\n",
       "<tr><td>f74e401c1ab0adf78...</td><td>Contract Specialist</td><td>3 years</td><td>MORTGAGE</td><td>104433.0</td><td>PA</td><td>174xx</td><td>USA</td><td>F</td><td>F1</td><td>Source Verified</td><td>439570.0</td><td>Individual</td><td>null</td><td>null</td><td>2023-11-08 16:07:...</td></tr>\n",
       "<tr><td>8aef4bb29d609d8d6...</td><td>Veterinary Tecnician</td><td>4 years</td><td>RENT</td><td>34000.0</td><td>GA</td><td>300xx</td><td>USA</td><td>C</td><td>C3</td><td>Source Verified</td><td>16900.0</td><td>Individual</td><td>null</td><td>null</td><td>2023-11-08 16:07:...</td></tr>\n",
       "<tr><td>538b4653da3b1e814...</td><td>Vice President of...</td><td>10+ years</td><td>MORTGAGE</td><td>180000.0</td><td>MN</td><td>550xx</td><td>USA</td><td>B</td><td>B2</td><td>Not Verified</td><td>388852.0</td><td>Individual</td><td>null</td><td>null</td><td>2023-11-08 16:07:...</td></tr>\n",
       "<tr><td>b24d55f21390533c5...</td><td>road driver</td><td>10+ years</td><td>MORTGAGE</td><td>85000.0</td><td>SC</td><td>293xx</td><td>USA</td><td>B</td><td>B1</td><td>Not Verified</td><td>193390.0</td><td>Individual</td><td>null</td><td>null</td><td>2023-11-08 16:07:...</td></tr>\n",
       "<tr><td>1035c5401b0ca76d0...</td><td>SERVICE MANAGER</td><td>6 years</td><td>RENT</td><td>85000.0</td><td>PA</td><td>160xx</td><td>USA</td><td>A</td><td>A2</td><td>Not Verified</td><td>61099.0</td><td>Individual</td><td>null</td><td>null</td><td>2023-11-08 16:07:...</td></tr>\n",
       "<tr><td>cb0f1777593e77909...</td><td>Vendor liaison</td><td>10+ years</td><td>MORTGAGE</td><td>42000.0</td><td>RI</td><td>029xx</td><td>USA</td><td>B</td><td>B5</td><td>Not Verified</td><td>256513.0</td><td>Individual</td><td>null</td><td>null</td><td>2023-11-08 16:07:...</td></tr>\n",
       "<tr><td>a962f4d59caec5fa1...</td><td>Executive Director</td><td>6 years</td><td>MORTGAGE</td><td>95000.0</td><td>SC</td><td>290xx</td><td>USA</td><td>C</td><td>C2</td><td>Not Verified</td><td>436841.0</td><td>Individual</td><td>null</td><td>null</td><td>2023-11-08 16:07:...</td></tr>\n",
       "<tr><td>e7592ab57b3afd9f1...</td><td>Senior Structural...</td><td>1 year</td><td>MORTGAGE</td><td>70000.0</td><td>TX</td><td>786xx</td><td>USA</td><td>C</td><td>C2</td><td>Not Verified</td><td>309638.0</td><td>Individual</td><td>null</td><td>null</td><td>2023-11-08 16:07:...</td></tr>\n",
       "<tr><td>603afa9d1be879b7b...</td><td>Logistics Manager</td><td>3 years</td><td>MORTGAGE</td><td>64000.0</td><td>NC</td><td>275xx</td><td>USA</td><td>C</td><td>C2</td><td>Not Verified</td><td>372109.0</td><td>Individual</td><td>null</td><td>null</td><td>2023-11-08 16:07:...</td></tr>\n",
       "<tr><td>9fe2d59ddf2a4f37e...</td><td>Software Manager</td><td>7 years</td><td>RENT</td><td>150000.0</td><td>CA</td><td>916xx</td><td>USA</td><td>E</td><td>E2</td><td>Not Verified</td><td>65819.0</td><td>Individual</td><td>null</td><td>null</td><td>2023-11-08 16:07:...</td></tr>\n",
       "<tr><td>23857480ccf555ce4...</td><td>Senior Manager</td><td>10+ years</td><td>MORTGAGE</td><td>92000.0</td><td>NC</td><td>275xx</td><td>USA</td><td>A</td><td>A2</td><td>Not Verified</td><td>304003.0</td><td>Individual</td><td>null</td><td>null</td><td>2023-11-08 16:07:...</td></tr>\n",
       "<tr><td>7c69d5f36fdabf6e1...</td><td>tech</td><td>8 years</td><td>MORTGAGE</td><td>60000.0</td><td>SC</td><td>299xx</td><td>USA</td><td>A</td><td>A4</td><td>Not Verified</td><td>88635.0</td><td>Individual</td><td>null</td><td>null</td><td>2023-11-08 16:07:...</td></tr>\n",
       "<tr><td>08bf9e080503b0113...</td><td>Sales Manager</td><td>10+ years</td><td>MORTGAGE</td><td>109000.0</td><td>VA</td><td>226xx</td><td>USA</td><td>A</td><td>A4</td><td>Not Verified</td><td>373572.0</td><td>Individual</td><td>null</td><td>null</td><td>2023-11-08 16:07:...</td></tr>\n",
       "<tr><td>1cafb05aa6c894c30...</td><td>GS-11</td><td>10+ years</td><td>MORTGAGE</td><td>112000.0</td><td>AZ</td><td>856xx</td><td>USA</td><td>C</td><td>C1</td><td>Not Verified</td><td>309710.0</td><td>Individual</td><td>null</td><td>null</td><td>2023-11-08 16:07:...</td></tr>\n",
       "<tr><td>f2c4010f700d8c9c4...</td><td>Teacher</td><td>5 years</td><td>RENT</td><td>64000.0</td><td>NY</td><td>117xx</td><td>USA</td><td>B</td><td>B1</td><td>Not Verified</td><td>93962.0</td><td>Individual</td><td>null</td><td>null</td><td>2023-11-08 16:07:...</td></tr>\n",
       "<tr><td>05ad4aed7c393035e...</td><td>Program Coordinator</td><td>8 years</td><td>RENT</td><td>55000.0</td><td>IN</td><td>462xx</td><td>USA</td><td>E</td><td>E3</td><td>Verified</td><td>38998.0</td><td>Individual</td><td>null</td><td>null</td><td>2023-11-08 16:07:...</td></tr>\n",
       "</table>\n",
       "only showing top 20 rows\n"
      ],
      "text/plain": [
       "+--------------------+--------------------+----------+--------------+-------------+-------------+---------------+---------------+-----+---------+-------------------+-----------------------+----------------+------------------+-------------------------+--------------------+\n",
       "|           member_id|           emp_title|emp_length|home_ownership|annual_income|address_state|address_zipcode|address_country|grade|sub_grade|verification_status|total_high_credit_limit|application_type|join_annual_income|verification_status_joint|         ingest_date|\n",
       "+--------------------+--------------------+----------+--------------+-------------+-------------+---------------+---------------+-----+---------+-------------------+-----------------------+----------------+------------------+-------------------------+--------------------+\n",
       "|6d5091b3fcaaeb4ea...|             leadman| 10+ years|      MORTGAGE|      55000.0|           PA|          190xx|            USA|    C|       C4|       Not Verified|               178050.0|      Individual|              null|                     null|2023-11-08 16:07:...|\n",
       "|b5e7938b0a2da4cea...|            Engineer| 10+ years|      MORTGAGE|      65000.0|           SD|          577xx|            USA|    C|       C1|       Not Verified|               314017.0|      Individual|              null|                     null|2023-11-08 16:07:...|\n",
       "|91060b858433e8a61...|        truck driver| 10+ years|      MORTGAGE|      63000.0|           IL|          605xx|            USA|    B|       B4|       Not Verified|               218418.0|       Joint App|           71000.0|             Not Verified|2023-11-08 16:07:...|\n",
       "|cab1fa9f533688b0a...|Information Syste...| 10+ years|      MORTGAGE|     110000.0|           NJ|          076xx|            USA|    C|       C5|    Source Verified|               381215.0|      Individual|              null|                     null|2023-11-08 16:07:...|\n",
       "|f74e401c1ab0adf78...| Contract Specialist|   3 years|      MORTGAGE|     104433.0|           PA|          174xx|            USA|    F|       F1|    Source Verified|               439570.0|      Individual|              null|                     null|2023-11-08 16:07:...|\n",
       "|8aef4bb29d609d8d6...|Veterinary Tecnician|   4 years|          RENT|      34000.0|           GA|          300xx|            USA|    C|       C3|    Source Verified|                16900.0|      Individual|              null|                     null|2023-11-08 16:07:...|\n",
       "|538b4653da3b1e814...|Vice President of...| 10+ years|      MORTGAGE|     180000.0|           MN|          550xx|            USA|    B|       B2|       Not Verified|               388852.0|      Individual|              null|                     null|2023-11-08 16:07:...|\n",
       "|b24d55f21390533c5...|         road driver| 10+ years|      MORTGAGE|      85000.0|           SC|          293xx|            USA|    B|       B1|       Not Verified|               193390.0|      Individual|              null|                     null|2023-11-08 16:07:...|\n",
       "|1035c5401b0ca76d0...|     SERVICE MANAGER|   6 years|          RENT|      85000.0|           PA|          160xx|            USA|    A|       A2|       Not Verified|                61099.0|      Individual|              null|                     null|2023-11-08 16:07:...|\n",
       "|cb0f1777593e77909...|      Vendor liaison| 10+ years|      MORTGAGE|      42000.0|           RI|          029xx|            USA|    B|       B5|       Not Verified|               256513.0|      Individual|              null|                     null|2023-11-08 16:07:...|\n",
       "|a962f4d59caec5fa1...|  Executive Director|   6 years|      MORTGAGE|      95000.0|           SC|          290xx|            USA|    C|       C2|       Not Verified|               436841.0|      Individual|              null|                     null|2023-11-08 16:07:...|\n",
       "|e7592ab57b3afd9f1...|Senior Structural...|    1 year|      MORTGAGE|      70000.0|           TX|          786xx|            USA|    C|       C2|       Not Verified|               309638.0|      Individual|              null|                     null|2023-11-08 16:07:...|\n",
       "|603afa9d1be879b7b...|   Logistics Manager|   3 years|      MORTGAGE|      64000.0|           NC|          275xx|            USA|    C|       C2|       Not Verified|               372109.0|      Individual|              null|                     null|2023-11-08 16:07:...|\n",
       "|9fe2d59ddf2a4f37e...|    Software Manager|   7 years|          RENT|     150000.0|           CA|          916xx|            USA|    E|       E2|       Not Verified|                65819.0|      Individual|              null|                     null|2023-11-08 16:07:...|\n",
       "|23857480ccf555ce4...|      Senior Manager| 10+ years|      MORTGAGE|      92000.0|           NC|          275xx|            USA|    A|       A2|       Not Verified|               304003.0|      Individual|              null|                     null|2023-11-08 16:07:...|\n",
       "|7c69d5f36fdabf6e1...|                tech|   8 years|      MORTGAGE|      60000.0|           SC|          299xx|            USA|    A|       A4|       Not Verified|                88635.0|      Individual|              null|                     null|2023-11-08 16:07:...|\n",
       "|08bf9e080503b0113...|       Sales Manager| 10+ years|      MORTGAGE|     109000.0|           VA|          226xx|            USA|    A|       A4|       Not Verified|               373572.0|      Individual|              null|                     null|2023-11-08 16:07:...|\n",
       "|1cafb05aa6c894c30...|               GS-11| 10+ years|      MORTGAGE|     112000.0|           AZ|          856xx|            USA|    C|       C1|       Not Verified|               309710.0|      Individual|              null|                     null|2023-11-08 16:07:...|\n",
       "|f2c4010f700d8c9c4...|             Teacher|   5 years|          RENT|      64000.0|           NY|          117xx|            USA|    B|       B1|       Not Verified|                93962.0|      Individual|              null|                     null|2023-11-08 16:07:...|\n",
       "|05ad4aed7c393035e...| Program Coordinator|   8 years|          RENT|      55000.0|           IN|          462xx|            USA|    E|       E3|           Verified|                38998.0|      Individual|              null|                     null|2023-11-08 16:07:...|\n",
       "+--------------------+--------------------+----------+--------------+-------------+-------------+---------------+---------------+-----+---------+-------------------+-----------------------+----------------+------------------+-------------------------+--------------------+\n",
       "only showing top 20 rows"
      ]
     },
     "execution_count": 16,
     "metadata": {},
     "output_type": "execute_result"
    }
   ],
   "source": [
    "customers_raw_df_ingested"
   ]
  },
  {
   "cell_type": "markdown",
   "id": "42168a06",
   "metadata": {},
   "source": [
    "## 4. Remove completely duplicate rows"
   ]
  },
  {
   "cell_type": "code",
   "execution_count": 18,
   "id": "552cb56e",
   "metadata": {},
   "outputs": [
    {
     "data": {
      "text/plain": [
       "2260701"
      ]
     },
     "execution_count": 18,
     "metadata": {},
     "output_type": "execute_result"
    }
   ],
   "source": [
    "# count total records in customer df\n",
    "\n",
    "customers_raw_df_ingested.count()"
   ]
  },
  {
   "cell_type": "code",
   "execution_count": 21,
   "id": "67404fff",
   "metadata": {},
   "outputs": [
    {
     "data": {
      "text/plain": [
       "2260638"
      ]
     },
     "execution_count": 21,
     "metadata": {},
     "output_type": "execute_result"
    }
   ],
   "source": [
    "# Get distinct record in customer df and store in new df\n",
    "\n",
    "customers_distinct = customers_raw_df_ingested.distinct()\n",
    "\n",
    "customers_distinct.count()"
   ]
  },
  {
   "cell_type": "code",
   "execution_count": 23,
   "id": "5e8f44ac",
   "metadata": {},
   "outputs": [],
   "source": [
    "customers_distinct.createOrReplaceTempView(\"customers\")"
   ]
  },
  {
   "cell_type": "markdown",
   "id": "c8e8fca1",
   "metadata": {},
   "source": [
    "## 5. Remove rows where annual_income is null"
   ]
  },
  {
   "cell_type": "code",
   "execution_count": 24,
   "id": "f09193da",
   "metadata": {},
   "outputs": [
    {
     "data": {
      "text/html": [
       "<table border='1'>\n",
       "<tr><th>count(1)</th></tr>\n",
       "<tr><td>5</td></tr>\n",
       "</table>\n"
      ],
      "text/plain": [
       "+--------+\n",
       "|count(1)|\n",
       "+--------+\n",
       "|       5|\n",
       "+--------+"
      ]
     },
     "execution_count": 24,
     "metadata": {},
     "output_type": "execute_result"
    }
   ],
   "source": [
    "# Check if there is any row with null annual_income\n",
    "\n",
    "spark.sql(\"select count(*) from customers where annual_income is null\")"
   ]
  },
  {
   "cell_type": "code",
   "execution_count": 25,
   "id": "9d49e7cd",
   "metadata": {},
   "outputs": [],
   "source": [
    "# Filter record where annual income is not null\n",
    "customers_income_filtered_df = spark.sql(\"select * from customers where annual_income is not null\")"
   ]
  },
  {
   "cell_type": "code",
   "execution_count": 26,
   "id": "5ef5119e",
   "metadata": {},
   "outputs": [],
   "source": [
    "customers_income_filtered_df.createOrReplaceTempView(\"customers\")"
   ]
  },
  {
   "cell_type": "code",
   "execution_count": 27,
   "id": "6130d317",
   "metadata": {},
   "outputs": [
    {
     "data": {
      "text/html": [
       "<table border='1'>\n",
       "<tr><th>count(1)</th></tr>\n",
       "<tr><td>0</td></tr>\n",
       "</table>\n"
      ],
      "text/plain": [
       "+--------+\n",
       "|count(1)|\n",
       "+--------+\n",
       "|       0|\n",
       "+--------+"
      ]
     },
     "execution_count": 27,
     "metadata": {},
     "output_type": "execute_result"
    }
   ],
   "source": [
    "spark.sql(\"select count(*) from customers where annual_income is null\")"
   ]
  },
  {
   "cell_type": "markdown",
   "id": "3cbfb54c",
   "metadata": {},
   "source": [
    "## 6. Convert emp_length to integer"
   ]
  },
  {
   "cell_type": "code",
   "execution_count": 29,
   "id": "cf705915",
   "metadata": {},
   "outputs": [
    {
     "data": {
      "text/html": [
       "<table border='1'>\n",
       "<tr><th>emp_length</th></tr>\n",
       "<tr><td>9 years</td></tr>\n",
       "<tr><td>5 years</td></tr>\n",
       "<tr><td>null</td></tr>\n",
       "<tr><td>1 year</td></tr>\n",
       "<tr><td>2 years</td></tr>\n",
       "<tr><td>7 years</td></tr>\n",
       "<tr><td>8 years</td></tr>\n",
       "<tr><td>4 years</td></tr>\n",
       "<tr><td>6 years</td></tr>\n",
       "<tr><td>3 years</td></tr>\n",
       "<tr><td>10+ years</td></tr>\n",
       "<tr><td>&lt; 1 year</td></tr>\n",
       "</table>\n"
      ],
      "text/plain": [
       "+----------+\n",
       "|emp_length|\n",
       "+----------+\n",
       "|   5 years|\n",
       "|   9 years|\n",
       "|      null|\n",
       "|    1 year|\n",
       "|   2 years|\n",
       "|   7 years|\n",
       "|   8 years|\n",
       "|   4 years|\n",
       "|   6 years|\n",
       "|   3 years|\n",
       "| 10+ years|\n",
       "|  < 1 year|\n",
       "+----------+"
      ]
     },
     "execution_count": 29,
     "metadata": {},
     "output_type": "execute_result"
    }
   ],
   "source": [
    "# Check what kind of data is present in the column\n",
    "\n",
    "spark.sql(\"select distinct(emp_length) from customers\")"
   ]
  },
  {
   "cell_type": "code",
   "execution_count": 31,
   "id": "b13fbca9",
   "metadata": {},
   "outputs": [],
   "source": [
    "from pyspark.sql.functions import regexp_replace, col\n",
    "\n",
    "customers_emplength_cleaned = customers_income_filtered_df.withColumn(\"emp_length\", regexp_replace(col(\"emp_length\"), \"(\\D)\", \"\"))"
   ]
  },
  {
   "cell_type": "code",
   "execution_count": 32,
   "id": "c4e08ada",
   "metadata": {},
   "outputs": [
    {
     "data": {
      "text/html": [
       "<table border='1'>\n",
       "<tr><th>member_id</th><th>emp_title</th><th>emp_length</th><th>home_ownership</th><th>annual_income</th><th>address_state</th><th>address_zipcode</th><th>address_country</th><th>grade</th><th>sub_grade</th><th>verification_status</th><th>total_high_credit_limit</th><th>application_type</th><th>join_annual_income</th><th>verification_status_joint</th><th>ingest_date</th></tr>\n",
       "<tr><td>b8a34df9ade163507...</td><td>Driver</td><td>1</td><td>OWN</td><td>55000.0</td><td>AL</td><td>355xx</td><td>USA</td><td>B</td><td>B4</td><td>Not Verified</td><td>118711.0</td><td>Individual</td><td>null</td><td>null</td><td>2023-11-08 16:17:...</td></tr>\n",
       "<tr><td>4efe779cdacc58ed8...</td><td>Mechanic</td><td>10</td><td>MORTGAGE</td><td>80000.0</td><td>PA</td><td>172xx</td><td>USA</td><td>A</td><td>A5</td><td>Not Verified</td><td>125210.0</td><td>Individual</td><td>null</td><td>null</td><td>2023-11-08 16:17:...</td></tr>\n",
       "<tr><td>48270bc4aaaa14ef4...</td><td>Lecturer and Curr...</td><td>3</td><td>RENT</td><td>56457.0</td><td>MA</td><td>021xx</td><td>USA</td><td>B</td><td>B5</td><td>Verified</td><td>26400.0</td><td>Individual</td><td>null</td><td>null</td><td>2023-11-08 16:17:...</td></tr>\n",
       "<tr><td>8a3e78e0ba855d3c8...</td><td>Sr Finance Projec...</td><td>10</td><td>MORTGAGE</td><td>210000.0</td><td>TX</td><td>773xx</td><td>USA</td><td>C</td><td>C4</td><td>Source Verified</td><td>464642.0</td><td>Individual</td><td>null</td><td>null</td><td>2023-11-08 16:17:...</td></tr>\n",
       "<tr><td>780a3c00b828d1b29...</td><td>Manager</td><td>10</td><td>MORTGAGE</td><td>127000.0</td><td>GA</td><td>300xx</td><td>USA</td><td>A</td><td>A3</td><td>Not Verified</td><td>341600.0</td><td>Individual</td><td>null</td><td>null</td><td>2023-11-08 16:17:...</td></tr>\n",
       "<tr><td>e6319fced1584ee09...</td><td>Contracting Officer</td><td>10</td><td>RENT</td><td>132700.0</td><td>PA</td><td>172xx</td><td>USA</td><td>D</td><td>D1</td><td>Source Verified</td><td>123715.0</td><td>Individual</td><td>null</td><td>null</td><td>2023-11-08 16:17:...</td></tr>\n",
       "<tr><td>b37f7aecd4d486a4f...</td><td>President</td><td>10</td><td>MORTGAGE</td><td>85000.0</td><td>NJ</td><td>080xx</td><td>USA</td><td>B</td><td>B2</td><td>Not Verified</td><td>599850.0</td><td>Individual</td><td>null</td><td>null</td><td>2023-11-08 16:17:...</td></tr>\n",
       "<tr><td>edbdbb631c5321a02...</td><td>stacker operator</td><td>10</td><td>OWN</td><td>43000.0</td><td>MS</td><td>392xx</td><td>USA</td><td>D</td><td>D1</td><td>Source Verified</td><td>56210.0</td><td>Individual</td><td>null</td><td>null</td><td>2023-11-08 16:17:...</td></tr>\n",
       "<tr><td>333d2d7fc3f6e5484...</td><td>President</td><td>6</td><td>RENT</td><td>88000.0</td><td>FL</td><td>331xx</td><td>USA</td><td>D</td><td>D4</td><td>Source Verified</td><td>137996.0</td><td>Individual</td><td>null</td><td>null</td><td>2023-11-08 16:17:...</td></tr>\n",
       "<tr><td>60f8478c32f8b12b0...</td><td>Merchandizer</td><td>10</td><td>RENT</td><td>65000.0</td><td>CA</td><td>910xx</td><td>USA</td><td>D</td><td>D3</td><td>Verified</td><td>60620.0</td><td>Individual</td><td>null</td><td>null</td><td>2023-11-08 16:17:...</td></tr>\n",
       "<tr><td>ed918a6360bab1e72...</td><td>Clinical Liaison</td><td>3</td><td>RENT</td><td>68000.0</td><td>AZ</td><td>853xx</td><td>USA</td><td>E</td><td>E3</td><td>Verified</td><td>110973.0</td><td>Individual</td><td>null</td><td>null</td><td>2023-11-08 16:17:...</td></tr>\n",
       "<tr><td>68e523258d5704a31...</td><td>locomotive mechanic</td><td>8</td><td>MORTGAGE</td><td>65000.0</td><td>TX</td><td>768xx</td><td>USA</td><td>E</td><td>E2</td><td>Verified</td><td>116732.0</td><td>Individual</td><td>null</td><td>null</td><td>2023-11-08 16:17:...</td></tr>\n",
       "<tr><td>d2f8f55410d7c4eee...</td><td>Deputy</td><td>9</td><td>MORTGAGE</td><td>110000.0</td><td>CA</td><td>917xx</td><td>USA</td><td>C</td><td>C3</td><td>Not Verified</td><td>540474.0</td><td>Individual</td><td>null</td><td>null</td><td>2023-11-08 16:17:...</td></tr>\n",
       "<tr><td>68b64b4c1f5decc80...</td><td>Senior Product En...</td><td>10</td><td>MORTGAGE</td><td>142000.0</td><td>AL</td><td>359xx</td><td>USA</td><td>E</td><td>E1</td><td>Source Verified</td><td>456513.0</td><td>Individual</td><td>null</td><td>null</td><td>2023-11-08 16:17:...</td></tr>\n",
       "<tr><td>90e2c06a4c3982385...</td><td>Department Sales ...</td><td>10</td><td>RENT</td><td>36400.0</td><td>KY</td><td>402xx</td><td>USA</td><td>C</td><td>C5</td><td>Verified</td><td>23100.0</td><td>Individual</td><td>null</td><td>null</td><td>2023-11-08 16:17:...</td></tr>\n",
       "<tr><td>516dd061b8ec5e6b9...</td><td>Teacher</td><td>10</td><td>MORTGAGE</td><td>164000.0</td><td>NJ</td><td>077xx</td><td>USA</td><td>B</td><td>B2</td><td>Source Verified</td><td>116189.0</td><td>Individual</td><td>null</td><td>null</td><td>2023-11-08 16:17:...</td></tr>\n",
       "<tr><td>81b19f9f78a2710d0...</td><td>Driver/Service Tech</td><td>2</td><td>RENT</td><td>38500.0</td><td>PA</td><td>164xx</td><td>USA</td><td>D</td><td>D4</td><td>Verified</td><td>27222.0</td><td>Individual</td><td>null</td><td>null</td><td>2023-11-08 16:17:...</td></tr>\n",
       "<tr><td>0d193aea071511cf4...</td><td>Customer Service ...</td><td>10</td><td>MORTGAGE</td><td>65440.0</td><td>FL</td><td>335xx</td><td>USA</td><td>D</td><td>D1</td><td>Not Verified</td><td>247264.0</td><td>Individual</td><td>null</td><td>null</td><td>2023-11-08 16:17:...</td></tr>\n",
       "<tr><td>86656e64fa7995fa0...</td><td>Party chief</td><td>10</td><td>MORTGAGE</td><td>96000.0</td><td>NJ</td><td>080xx</td><td>USA</td><td>C</td><td>C5</td><td>Not Verified</td><td>277404.0</td><td>Individual</td><td>null</td><td>null</td><td>2023-11-08 16:17:...</td></tr>\n",
       "<tr><td>e66b1dc2083ab0755...</td><td>Order Puller</td><td>1</td><td>RENT</td><td>56640.0</td><td>MD</td><td>210xx</td><td>USA</td><td>C</td><td>C1</td><td>Verified</td><td>50844.0</td><td>Individual</td><td>null</td><td>null</td><td>2023-11-08 16:17:...</td></tr>\n",
       "</table>\n",
       "only showing top 20 rows\n"
      ],
      "text/plain": [
       "+--------------------+--------------------+----------+--------------+-------------+-------------+---------------+---------------+-----+---------+-------------------+-----------------------+----------------+------------------+-------------------------+--------------------+\n",
       "|           member_id|           emp_title|emp_length|home_ownership|annual_income|address_state|address_zipcode|address_country|grade|sub_grade|verification_status|total_high_credit_limit|application_type|join_annual_income|verification_status_joint|         ingest_date|\n",
       "+--------------------+--------------------+----------+--------------+-------------+-------------+---------------+---------------+-----+---------+-------------------+-----------------------+----------------+------------------+-------------------------+--------------------+\n",
       "|170564954b4d02ae9...|  Billing Supervisor|        10|      MORTGAGE|      80000.0|           TX|          774xx|            USA|    C|       C5|       Not Verified|               197904.0|      Individual|              null|                     null|2023-11-08 16:17:...|\n",
       "|dbc102745aefb3d51...|          Pharmacist|        10|      MORTGAGE|     125000.0|           FL|          347xx|            USA|    B|       B4|       Not Verified|               459291.0|      Individual|              null|                     null|2023-11-08 16:17:...|\n",
       "|aaafc293470e86221...|Media Operations ...|         1|      MORTGAGE|      74000.0|           GA|          300xx|            USA|    E|       E3|           Verified|               409218.0|      Individual|              null|                     null|2023-11-08 16:17:...|\n",
       "|eb0ca9bd580831d87...|          Fire Chief|         1|      MORTGAGE|     113000.0|           OR|          974xx|            USA|    C|       C2|    Source Verified|               435365.0|      Individual|              null|                     null|2023-11-08 16:17:...|\n",
       "|5e466c276ab5491db...|   Senior Consultant|         9|      MORTGAGE|      96000.0|           NC|          282xx|            USA|    B|       B1|       Not Verified|               298922.0|      Individual|              null|                     null|2023-11-08 16:17:...|\n",
       "|6023fc598abdbdb6e...|  Business Officer 2|         7|          RENT|      85005.0|           NY|          113xx|            USA|    B|       B4|    Source Verified|                85912.0|      Individual|              null|                     null|2023-11-08 16:17:...|\n",
       "|3c2b1d1c6baca4fb8...|             Manager|         2|      MORTGAGE|      95000.0|           TN|          372xx|            USA|    A|       A2|       Not Verified|               191410.0|      Individual|              null|                     null|2023-11-08 16:17:...|\n",
       "|c67b38578b4ac14cb...| Assistant Principal|        10|      MORTGAGE|      64000.0|           AL|          361xx|            USA|    C|       C5|           Verified|               321386.0|      Individual|              null|                     null|2023-11-08 16:17:...|\n",
       "|3b0229b0cfc106578...|    customer service|         5|      MORTGAGE|      31000.0|           NV|          891xx|            USA|    D|       D1|       Not Verified|               160262.0|      Individual|              null|                     null|2023-11-08 16:17:...|\n",
       "|385e36f178a318bfb...|             Manager|         4|      MORTGAGE|      50000.0|           GA|          304xx|            USA|    C|       C5|    Source Verified|               157845.0|      Individual|              null|                     null|2023-11-08 16:17:...|\n",
       "|bf965ef954bc758a3...|       Care Provider|         1|          RENT|      30000.0|           CA|          941xx|            USA|    C|       C4|           Verified|                28800.0|      Individual|              null|                     null|2023-11-08 16:17:...|\n",
       "|8cda0f7d0fe4111c8...|             Faculty|         1|      MORTGAGE|     150000.0|           TX|          782xx|            USA|    A|       A4|    Source Verified|               434718.0|      Individual|              null|                     null|2023-11-08 16:17:...|\n",
       "|b976b19a49c09d80c...|                null|      null|          RENT|      46000.0|           MI|          480xx|            USA|    B|       B1|           Verified|                 8739.0|      Individual|              null|                     null|2023-11-08 16:17:...|\n",
       "|ae4551d72c57d3bcf...|            Mechanic|        10|          RENT|      56000.0|           TX|          775xx|            USA|    B|       B4|       Not Verified|                35216.0|      Individual|              null|                     null|2023-11-08 16:17:...|\n",
       "|e3d8a42473f4063ce...|Certified Occupat...|         5|      MORTGAGE|      88000.0|           FL|          322xx|            USA|    E|       E2|           Verified|                66914.0|      Individual|              null|                     null|2023-11-08 16:17:...|\n",
       "|6d818369bb641e947...|  Playlist performer|         8|          RENT|      45000.0|           PA|          180xx|            USA|    B|       B4|    Source Verified|                45846.0|      Individual|              null|                     null|2023-11-08 16:17:...|\n",
       "|a1a112679fd1d892e...|               Owner|         6|      MORTGAGE|      69000.0|           PA|          156xx|            USA|    F|       F5|    Source Verified|                39141.0|      Individual|              null|                     null|2023-11-08 16:17:...|\n",
       "|6d5dc19f4edba0040...|SENIOR MANUFACTUR...|         1|          RENT|      64000.0|           RI|          029xx|            USA|    C|       C4|           Verified|               102790.0|      Individual|              null|                     null|2023-11-08 16:17:...|\n",
       "|7cc3e9993f3acf47f...|         Technichian|         5|      MORTGAGE|      91000.0|           MI|          481xx|            USA|    D|       D4|           Verified|               268721.0|      Individual|              null|                     null|2023-11-08 16:17:...|\n",
       "|be11f15b75b991db6...|          Bus Driver|         6|          RENT|      40000.0|           NJ|          070xx|            USA|    D|       D1|       Not Verified|                66302.0|      Individual|              null|                     null|2023-11-08 16:17:...|\n",
       "+--------------------+--------------------+----------+--------------+-------------+-------------+---------------+---------------+-----+---------+-------------------+-----------------------+----------------+------------------+-------------------------+--------------------+\n",
       "only showing top 20 rows"
      ]
     },
     "execution_count": 32,
     "metadata": {},
     "output_type": "execute_result"
    }
   ],
   "source": [
    "customers_emplength_cleaned"
   ]
  },
  {
   "cell_type": "code",
   "execution_count": 33,
   "id": "f6a6884c",
   "metadata": {},
   "outputs": [
    {
     "name": "stdout",
     "output_type": "stream",
     "text": [
      "root\n",
      " |-- member_id: string (nullable = true)\n",
      " |-- emp_title: string (nullable = true)\n",
      " |-- emp_length: string (nullable = true)\n",
      " |-- home_ownership: string (nullable = true)\n",
      " |-- annual_income: float (nullable = true)\n",
      " |-- address_state: string (nullable = true)\n",
      " |-- address_zipcode: string (nullable = true)\n",
      " |-- address_country: string (nullable = true)\n",
      " |-- grade: string (nullable = true)\n",
      " |-- sub_grade: string (nullable = true)\n",
      " |-- verification_status: string (nullable = true)\n",
      " |-- total_high_credit_limit: float (nullable = true)\n",
      " |-- application_type: string (nullable = true)\n",
      " |-- join_annual_income: float (nullable = true)\n",
      " |-- verification_status_joint: string (nullable = true)\n",
      " |-- ingest_date: timestamp (nullable = false)\n",
      "\n"
     ]
    }
   ],
   "source": [
    "customers_emplength_cleaned.printSchema()"
   ]
  },
  {
   "cell_type": "code",
   "execution_count": 34,
   "id": "36073ad5",
   "metadata": {},
   "outputs": [],
   "source": [
    "# Here, emp_length is still string, so need to convert to int\n",
    "\n",
    "customers_emplength_casted = customers_emplength_cleaned.withColumn(\"emp_length\", customers_emplength_cleaned.emp_length.cast(\"int\"))"
   ]
  },
  {
   "cell_type": "code",
   "execution_count": 35,
   "id": "d047c37c",
   "metadata": {},
   "outputs": [
    {
     "name": "stdout",
     "output_type": "stream",
     "text": [
      "root\n",
      " |-- member_id: string (nullable = true)\n",
      " |-- emp_title: string (nullable = true)\n",
      " |-- emp_length: integer (nullable = true)\n",
      " |-- home_ownership: string (nullable = true)\n",
      " |-- annual_income: float (nullable = true)\n",
      " |-- address_state: string (nullable = true)\n",
      " |-- address_zipcode: string (nullable = true)\n",
      " |-- address_country: string (nullable = true)\n",
      " |-- grade: string (nullable = true)\n",
      " |-- sub_grade: string (nullable = true)\n",
      " |-- verification_status: string (nullable = true)\n",
      " |-- total_high_credit_limit: float (nullable = true)\n",
      " |-- application_type: string (nullable = true)\n",
      " |-- join_annual_income: float (nullable = true)\n",
      " |-- verification_status_joint: string (nullable = true)\n",
      " |-- ingest_date: timestamp (nullable = false)\n",
      "\n"
     ]
    }
   ],
   "source": [
    "customers_emplength_casted.printSchema()"
   ]
  },
  {
   "cell_type": "markdown",
   "id": "33523570",
   "metadata": {},
   "source": [
    "## 7. Replace null in emp_length with average of this column if any"
   ]
  },
  {
   "cell_type": "code",
   "execution_count": 36,
   "id": "4b0b1e3c",
   "metadata": {},
   "outputs": [
    {
     "data": {
      "text/plain": [
       "146903"
      ]
     },
     "execution_count": 36,
     "metadata": {},
     "output_type": "execute_result"
    }
   ],
   "source": [
    "# count if there are any nulls\n",
    "customers_emplength_casted.filter(\"emp_length is null\").count()"
   ]
  },
  {
   "cell_type": "code",
   "execution_count": 37,
   "id": "0204ec00",
   "metadata": {},
   "outputs": [],
   "source": [
    "customers_emplength_casted.createOrReplaceTempView(\"customers\")"
   ]
  },
  {
   "cell_type": "code",
   "execution_count": 38,
   "id": "8adb5880",
   "metadata": {},
   "outputs": [],
   "source": [
    "avg_empg_length = spark.sql(\"select floor(avg(emp_length)) as avg_emp_length from customers\").collect()"
   ]
  },
  {
   "cell_type": "code",
   "execution_count": 39,
   "id": "12035569",
   "metadata": {},
   "outputs": [
    {
     "data": {
      "text/plain": [
       "[Row(avg_emp_length=6)]"
      ]
     },
     "execution_count": 39,
     "metadata": {},
     "output_type": "execute_result"
    }
   ],
   "source": [
    "avg_empg_length"
   ]
  },
  {
   "cell_type": "code",
   "execution_count": 40,
   "id": "7bb1af0f",
   "metadata": {},
   "outputs": [],
   "source": [
    "avg_emp_duration = avg_empg_length[0][0]"
   ]
  },
  {
   "cell_type": "code",
   "execution_count": 41,
   "id": "14757fc3",
   "metadata": {},
   "outputs": [
    {
     "data": {
      "text/plain": [
       "6"
      ]
     },
     "execution_count": 41,
     "metadata": {},
     "output_type": "execute_result"
    }
   ],
   "source": [
    "avg_emp_duration"
   ]
  },
  {
   "cell_type": "code",
   "execution_count": 42,
   "id": "02e99727",
   "metadata": {},
   "outputs": [],
   "source": [
    "customers_emplength_replaced = customers_emplength_casted.na.fill(avg_emp_duration, subset=[\"emp_length\"])"
   ]
  },
  {
   "cell_type": "code",
   "execution_count": 43,
   "id": "afc9fd09",
   "metadata": {},
   "outputs": [
    {
     "data": {
      "text/plain": [
       "0"
      ]
     },
     "execution_count": 43,
     "metadata": {},
     "output_type": "execute_result"
    }
   ],
   "source": [
    "customers_emplength_replaced.filter(\"emp_length is null\").count()"
   ]
  },
  {
   "cell_type": "markdown",
   "id": "7ca02ed9",
   "metadata": {},
   "source": [
    "## 8. Clean address_state column ( it should be only of 2 chars). REplace others with NA"
   ]
  },
  {
   "cell_type": "code",
   "execution_count": 45,
   "id": "527bc44d",
   "metadata": {},
   "outputs": [],
   "source": [
    "customers_emplength_replaced.createOrReplaceTempView(\"customers\")"
   ]
  },
  {
   "cell_type": "code",
   "execution_count": 46,
   "id": "1f6eada1",
   "metadata": {},
   "outputs": [
    {
     "data": {
      "text/html": [
       "<table border='1'>\n",
       "<tr><th>address_state</th></tr>\n",
       "<tr><td>Helping Kenya&#x27;s D...</td></tr>\n",
       "<tr><td>223xx</td></tr>\n",
       "<tr><td>175 (total projec...</td></tr>\n",
       "<tr><td>AZ</td></tr>\n",
       "<tr><td>SC</td></tr>\n",
       "<tr><td>I am 56 yrs. old ...</td></tr>\n",
       "<tr><td>so Plan &quot;&quot;C&quot;&quot; is ...</td></tr>\n",
       "<tr><td>financially I mad...</td></tr>\n",
       "<tr><td>but no one will l...</td></tr>\n",
       "<tr><td>LA</td></tr>\n",
       "<tr><td>etc.  First</td></tr>\n",
       "<tr><td>MN</td></tr>\n",
       "<tr><td>850xx</td></tr>\n",
       "<tr><td>499xx</td></tr>\n",
       "<tr><td>yet Capital One n...</td></tr>\n",
       "<tr><td>and MBA&#x27;s are ove...</td></tr>\n",
       "<tr><td>Advocate business...</td></tr>\n",
       "<tr><td>Eliminating Credi...</td></tr>\n",
       "<tr><td>951xx</td></tr>\n",
       "<tr><td>I the credit card...</td></tr>\n",
       "</table>\n",
       "only showing top 20 rows\n"
      ],
      "text/plain": [
       "+--------------------+\n",
       "|       address_state|\n",
       "+--------------------+\n",
       "|Helping Kenya's D...|\n",
       "|               223xx|\n",
       "|175 (total projec...|\n",
       "|                  SC|\n",
       "|                  AZ|\n",
       "|so Plan \"\"C\"\" is ...|\n",
       "|I am 56 yrs. old ...|\n",
       "|financially I mad...|\n",
       "|but no one will l...|\n",
       "|                  LA|\n",
       "|         etc.  First|\n",
       "|                  MN|\n",
       "|yet Capital One n...|\n",
       "|               850xx|\n",
       "|               499xx|\n",
       "|Advocate business...|\n",
       "|Eliminating Credi...|\n",
       "|and MBA's are ove...|\n",
       "|I the credit card...|\n",
       "|               662xx|\n",
       "+--------------------+\n",
       "only showing top 20 rows"
      ]
     },
     "execution_count": 46,
     "metadata": {},
     "output_type": "execute_result"
    }
   ],
   "source": [
    "spark.sql(\"select distinct(address_state) from customers\")"
   ]
  },
  {
   "cell_type": "code",
   "execution_count": 47,
   "id": "5d590c7a",
   "metadata": {},
   "outputs": [
    {
     "data": {
      "text/html": [
       "<table border='1'>\n",
       "<tr><th>count(address_state)</th></tr>\n",
       "<tr><td>254</td></tr>\n",
       "</table>\n"
      ],
      "text/plain": [
       "+--------------------+\n",
       "|count(address_state)|\n",
       "+--------------------+\n",
       "|                 254|\n",
       "+--------------------+"
      ]
     },
     "execution_count": 47,
     "metadata": {},
     "output_type": "execute_result"
    }
   ],
   "source": [
    "spark.sql(\"select count(address_state) from customers where length(address_state) > 2\")"
   ]
  },
  {
   "cell_type": "code",
   "execution_count": 48,
   "id": "8a0466cb",
   "metadata": {},
   "outputs": [],
   "source": [
    "from pyspark.sql.functions import when, length, col\n",
    "\n",
    "customers_state_cleaned_df = customers_emplength_replaced.withColumn(\n",
    "    \"address_state\",\n",
    "    when(length(col(\"address_state\")) > 2, \"NA\").otherwise(col(\"address_state\"))\n",
    ")"
   ]
  },
  {
   "cell_type": "code",
   "execution_count": 49,
   "id": "56a9526d",
   "metadata": {},
   "outputs": [
    {
     "data": {
      "text/html": [
       "<table border='1'>\n",
       "<tr><th>member_id</th><th>emp_title</th><th>emp_length</th><th>home_ownership</th><th>annual_income</th><th>address_state</th><th>address_zipcode</th><th>address_country</th><th>grade</th><th>sub_grade</th><th>verification_status</th><th>total_high_credit_limit</th><th>application_type</th><th>join_annual_income</th><th>verification_status_joint</th><th>ingest_date</th></tr>\n",
       "<tr><td>3abadaef9c7a5a1ec...</td><td>Account Manager</td><td>2</td><td>MORTGAGE</td><td>42773.0</td><td>TX</td><td>787xx</td><td>USA</td><td>B</td><td>B4</td><td>Source Verified</td><td>30716.0</td><td>Individual</td><td>null</td><td>null</td><td>2023-11-08 16:30:...</td></tr>\n",
       "<tr><td>7c7a9bead42ae25ac...</td><td>Bank Manager</td><td>10</td><td>MORTGAGE</td><td>70000.0</td><td>GA</td><td>306xx</td><td>USA</td><td>E</td><td>E3</td><td>Not Verified</td><td>274281.0</td><td>Individual</td><td>null</td><td>null</td><td>2023-11-08 16:30:...</td></tr>\n",
       "<tr><td>86e690df18febd790...</td><td>Outreach Director...</td><td>2</td><td>RENT</td><td>50000.0</td><td>CT</td><td>069xx</td><td>USA</td><td>C</td><td>C1</td><td>Source Verified</td><td>31184.0</td><td>Individual</td><td>null</td><td>null</td><td>2023-11-08 16:30:...</td></tr>\n",
       "<tr><td>ba0550e40ab96ffcb...</td><td>null</td><td>6</td><td>OWN</td><td>39000.0</td><td>TX</td><td>766xx</td><td>USA</td><td>B</td><td>B3</td><td>Verified</td><td>44200.0</td><td>Joint App</td><td>81000.0</td><td>Not Verified</td><td>2023-11-08 16:30:...</td></tr>\n",
       "<tr><td>28bbe5a9e79077e5b...</td><td>Programmer analyst</td><td>5</td><td>RENT</td><td>120000.0</td><td>TX</td><td>750xx</td><td>USA</td><td>A</td><td>A3</td><td>Verified</td><td>54100.0</td><td>Individual</td><td>null</td><td>null</td><td>2023-11-08 16:30:...</td></tr>\n",
       "<tr><td>aee02b340a06c557c...</td><td>Director of Infor...</td><td>1</td><td>MORTGAGE</td><td>88000.0</td><td>NY</td><td>104xx</td><td>USA</td><td>C</td><td>C2</td><td>Source Verified</td><td>94052.0</td><td>Individual</td><td>null</td><td>null</td><td>2023-11-08 16:30:...</td></tr>\n",
       "<tr><td>88490f684ea2f7c41...</td><td>Executive</td><td>10</td><td>RENT</td><td>180000.0</td><td>FL</td><td>334xx</td><td>USA</td><td>C</td><td>C2</td><td>Source Verified</td><td>29400.0</td><td>Individual</td><td>null</td><td>null</td><td>2023-11-08 16:30:...</td></tr>\n",
       "<tr><td>97a32fc937abdd9d2...</td><td>Supervisor</td><td>8</td><td>MORTGAGE</td><td>85000.0</td><td>NY</td><td>115xx</td><td>USA</td><td>B</td><td>B4</td><td>Source Verified</td><td>423844.0</td><td>Individual</td><td>null</td><td>null</td><td>2023-11-08 16:30:...</td></tr>\n",
       "<tr><td>c90944cb2620fc932...</td><td>Senior IT Analyst</td><td>6</td><td>RENT</td><td>82000.0</td><td>OR</td><td>972xx</td><td>USA</td><td>B</td><td>B5</td><td>Not Verified</td><td>62614.0</td><td>Individual</td><td>null</td><td>null</td><td>2023-11-08 16:30:...</td></tr>\n",
       "<tr><td>3956822f951035df8...</td><td>Server</td><td>1</td><td>RENT</td><td>60000.0</td><td>NV</td><td>891xx</td><td>USA</td><td>B</td><td>B5</td><td>Source Verified</td><td>34203.0</td><td>Individual</td><td>null</td><td>null</td><td>2023-11-08 16:30:...</td></tr>\n",
       "<tr><td>30ba1acd836be1de4...</td><td>Receiving Manager</td><td>2</td><td>RENT</td><td>26000.0</td><td>CO</td><td>815xx</td><td>USA</td><td>C</td><td>C2</td><td>Source Verified</td><td>23466.0</td><td>Individual</td><td>null</td><td>null</td><td>2023-11-08 16:30:...</td></tr>\n",
       "<tr><td>bd8b12a127f68141a...</td><td>Producer</td><td>2</td><td>RENT</td><td>100000.0</td><td>KY</td><td>405xx</td><td>USA</td><td>A</td><td>A1</td><td>Not Verified</td><td>86584.0</td><td>Individual</td><td>null</td><td>null</td><td>2023-11-08 16:30:...</td></tr>\n",
       "<tr><td>77ad60b1b1d28e6a3...</td><td>foreman sprinkler...</td><td>4</td><td>RENT</td><td>100000.0</td><td>CA</td><td>945xx</td><td>USA</td><td>A</td><td>A1</td><td>Not Verified</td><td>44116.0</td><td>Individual</td><td>null</td><td>null</td><td>2023-11-08 16:30:...</td></tr>\n",
       "<tr><td>fb9aa583fe4d4a39d...</td><td>Business Service ...</td><td>6</td><td>OWN</td><td>46833.0</td><td>CA</td><td>960xx</td><td>USA</td><td>C</td><td>C2</td><td>Source Verified</td><td>45280.0</td><td>Individual</td><td>null</td><td>null</td><td>2023-11-08 16:30:...</td></tr>\n",
       "<tr><td>cd53475a54fcece92...</td><td>Sr. Claims Rep</td><td>2</td><td>RENT</td><td>67500.0</td><td>OH</td><td>451xx</td><td>USA</td><td>B</td><td>B1</td><td>Source Verified</td><td>54854.0</td><td>Individual</td><td>null</td><td>null</td><td>2023-11-08 16:30:...</td></tr>\n",
       "<tr><td>26ada7ed0cacc9175...</td><td>Owner</td><td>1</td><td>RENT</td><td>36000.0</td><td>GA</td><td>300xx</td><td>USA</td><td>E</td><td>E5</td><td>Source Verified</td><td>83873.0</td><td>Individual</td><td>null</td><td>null</td><td>2023-11-08 16:30:...</td></tr>\n",
       "<tr><td>d7b8678417dbe97d8...</td><td>cashier</td><td>1</td><td>MORTGAGE</td><td>23100.0</td><td>NV</td><td>894xx</td><td>USA</td><td>C</td><td>C4</td><td>Not Verified</td><td>257100.0</td><td>Joint App</td><td>56100.0</td><td>Not Verified</td><td>2023-11-08 16:30:...</td></tr>\n",
       "<tr><td>639c53993e825fad0...</td><td>Commerical Manager</td><td>4</td><td>OWN</td><td>40000.0</td><td>NY</td><td>114xx</td><td>USA</td><td>C</td><td>C4</td><td>Source Verified</td><td>40825.0</td><td>Individual</td><td>null</td><td>null</td><td>2023-11-08 16:30:...</td></tr>\n",
       "<tr><td>7eb348fbe92a79a95...</td><td>Nail</td><td>2</td><td>RENT</td><td>26000.0</td><td>MA</td><td>018xx</td><td>USA</td><td>E</td><td>E5</td><td>Source Verified</td><td>38550.0</td><td>Individual</td><td>null</td><td>null</td><td>2023-11-08 16:30:...</td></tr>\n",
       "<tr><td>73c7f765972fa05b2...</td><td>Lead Teller Opera...</td><td>1</td><td>RENT</td><td>30000.0</td><td>TX</td><td>770xx</td><td>USA</td><td>D</td><td>D2</td><td>Verified</td><td>21640.0</td><td>Individual</td><td>null</td><td>null</td><td>2023-11-08 16:30:...</td></tr>\n",
       "</table>\n",
       "only showing top 20 rows\n"
      ],
      "text/plain": [
       "+--------------------+--------------------+----------+--------------+-------------+-------------+---------------+---------------+-----+---------+-------------------+-----------------------+----------------+------------------+-------------------------+--------------------+\n",
       "|           member_id|           emp_title|emp_length|home_ownership|annual_income|address_state|address_zipcode|address_country|grade|sub_grade|verification_status|total_high_credit_limit|application_type|join_annual_income|verification_status_joint|         ingest_date|\n",
       "+--------------------+--------------------+----------+--------------+-------------+-------------+---------------+---------------+-----+---------+-------------------+-----------------------+----------------+------------------+-------------------------+--------------------+\n",
       "|a962f4d59caec5fa1...|  Executive Director|         6|      MORTGAGE|      95000.0|           SC|          290xx|            USA|    C|       C2|       Not Verified|               436841.0|      Individual|              null|                     null|2023-11-08 16:29:...|\n",
       "|488040d4d8373ded3...|             Manager|        10|      MORTGAGE|     102500.0|           NY|          134xx|            USA|    C|       C3|       Not Verified|               264272.0|      Individual|              null|                     null|2023-11-08 16:29:...|\n",
       "|7bc7fcd2f682dc11f...|Senior Compliance...|         9|      MORTGAGE|      64400.0|           NJ|          088xx|            USA|    B|       B2|           Verified|               371139.0|      Individual|              null|                     null|2023-11-08 16:29:...|\n",
       "|cffd9c33f4ea6e87e...|Deputy Division C...|         6|      MORTGAGE|     100200.0|           VA|          241xx|            USA|    A|       A3|    Source Verified|               399519.0|      Individual|              null|                     null|2023-11-08 16:29:...|\n",
       "|10454cfc78b929d75...|             manager|        10|          RENT|     130000.0|           NY|          112xx|            USA|    C|       C1|    Source Verified|               110307.0|      Individual|              null|                     null|2023-11-08 16:29:...|\n",
       "|49dbb133eff79c3d3...|Administrative As...|         1|      MORTGAGE|      50400.0|           CO|          806xx|            USA|    C|       C1|    Source Verified|               206876.0|      Individual|              null|                     null|2023-11-08 16:29:...|\n",
       "|4dbe6b20ffd1c2ae0...|     Network Manager|         8|      MORTGAGE|     105000.0|           IL|          615xx|            USA|    D|       D1|       Not Verified|               239138.0|      Individual|              null|                     null|2023-11-08 16:29:...|\n",
       "|40c3baffcd6dd3086...|Sr. Portfolio Man...|        10|          RENT|     139000.0|           WA|          980xx|            USA|    C|       C2|           Verified|                99547.0|      Individual|              null|                     null|2023-11-08 16:29:...|\n",
       "|e7358b7a980be7cb3...|         Underwriter|         3|           OWN|     120000.0|           NY|          117xx|            USA|    C|       C3|           Verified|               343449.0|      Individual|              null|                     null|2023-11-08 16:29:...|\n",
       "|261fafae023dbea8f...|     Account manager|         1|          RENT|      42000.0|           NY|          112xx|            USA|    C|       C1|    Source Verified|                19295.0|      Individual|              null|                     null|2023-11-08 16:29:...|\n",
       "|dbb13657c64440c11...|Patient Care Unit...|         2|          RENT|      52936.0|           ND|          584xx|            USA|    B|       B2|    Source Verified|                56878.0|      Individual|              null|                     null|2023-11-08 16:29:...|\n",
       "|d312eab9ce6e69b75...|             Manager|        10|          RENT|      52000.0|           CA|          937xx|            USA|    C|       C2|           Verified|                56140.0|      Individual|              null|                     null|2023-11-08 16:29:...|\n",
       "|b52427065d6344867...|        Truck Driver|         7|      MORTGAGE|     103000.0|           FL|          338xx|            USA|    F|       F1|    Source Verified|               311290.0|      Individual|              null|                     null|2023-11-08 16:29:...|\n",
       "|9ab740486b62bd456...|    Registered Nurse|        10|          RENT|      96000.0|           NY|          112xx|            USA|    A|       A2|       Not Verified|                36558.0|      Individual|              null|                     null|2023-11-08 16:29:...|\n",
       "|f1cb55d2f328a9c1b...|Director of Music...|         6|      MORTGAGE|      85000.0|           MO|          630xx|            USA|    B|       B3|       Not Verified|               320274.0|      Individual|              null|                     null|2023-11-08 16:29:...|\n",
       "|fe4128bb715f9a545...|    Business Analyst|         4|          RENT|      80000.0|           WA|          983xx|            USA|    D|       D1|       Not Verified|                66613.0|      Individual|              null|                     null|2023-11-08 16:29:...|\n",
       "|842a6c179bc5f7c8d...|Physical Therapis...|         1|      MORTGAGE|      75000.0|           GA|          300xx|            USA|    D|       D3|       Not Verified|               303532.0|      Individual|              null|                     null|2023-11-08 16:29:...|\n",
       "|31e63816f275798ec...|Procurement Speci...|         6|          RENT|      53760.0|           WA|          980xx|            USA|    C|       C3|    Source Verified|                65129.0|      Individual|              null|                     null|2023-11-08 16:29:...|\n",
       "|69f219cfae1354bcd...|Respiratory Thera...|         3|           OWN|      26000.0|           MO|          630xx|            USA|    A|       A4|       Not Verified|                50324.0|      Individual|              null|                     null|2023-11-08 16:29:...|\n",
       "|55df1e0e11f0f0839...|Operation Specialist|         1|          RENT|      50000.0|           FL|          334xx|            USA|    C|       C5|    Source Verified|               110739.0|      Individual|              null|                     null|2023-11-08 16:29:...|\n",
       "+--------------------+--------------------+----------+--------------+-------------+-------------+---------------+---------------+-----+---------+-------------------+-----------------------+----------------+------------------+-------------------------+--------------------+\n",
       "only showing top 20 rows"
      ]
     },
     "execution_count": 49,
     "metadata": {},
     "output_type": "execute_result"
    }
   ],
   "source": [
    "customers_state_cleaned_df"
   ]
  },
  {
   "cell_type": "markdown",
   "id": "f2a4b381",
   "metadata": {},
   "source": [
    "## Write the final cleaned customer dataframe to raw folder"
   ]
  },
  {
   "cell_type": "code",
   "execution_count": 50,
   "id": "431eaaca",
   "metadata": {},
   "outputs": [],
   "source": [
    "customers_state_cleaned_df.write \\\n",
    ".format(\"parquet\") \\\n",
    ".mode(\"overwrite\") \\\n",
    ".option(\"path\", \"/user/itv008299/lendingclubproject/cleaned/customers_parquet\") \\\n",
    ".save()"
   ]
  },
  {
   "cell_type": "code",
   "execution_count": 51,
   "id": "2871306f",
   "metadata": {},
   "outputs": [],
   "source": [
    "customers_state_cleaned_df.write \\\n",
    ".option(\"header\", True) \\\n",
    ".format(\"csv\") \\\n",
    ".mode(\"overwrite\") \\\n",
    ".option(\"path\", \"/user/itv008299/lendingclubproject/cleaned/customers_csv\") \\\n",
    ".save()"
   ]
  }
 ],
 "metadata": {
  "kernelspec": {
   "display_name": "Pyspark 3",
   "language": "python",
   "name": "pyspark3"
  },
  "language_info": {
   "codemirror_mode": {
    "name": "ipython",
    "version": 3
   },
   "file_extension": ".py",
   "mimetype": "text/x-python",
   "name": "python",
   "nbconvert_exporter": "python",
   "pygments_lexer": "ipython3",
   "version": "3.6.12"
  }
 },
 "nbformat": 4,
 "nbformat_minor": 5
}
