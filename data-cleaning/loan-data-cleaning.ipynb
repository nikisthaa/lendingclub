{
 "cells": [
  {
   "cell_type": "markdown",
   "id": "cb4e56d6",
   "metadata": {},
   "source": [
    "# Cleaning loan data\n",
    "\n",
    "## Data Cleaning Actions to Take\n",
    "\n",
    "1. Create dataframe with proper datatypes, and proper column names\n",
    "\n",
    "2. Insert a new column named as ingestion date (current time )\n",
    "\n",
    "3. Drop any nulls\n",
    "\n",
    "4. Convert monthly loan term to yearly loan term\n",
    "\n",
    "5. Modify loan purpose other than in look up to Others"
   ]
  },
  {
   "cell_type": "code",
   "execution_count": 1,
   "id": "d4eed80e",
   "metadata": {},
   "outputs": [],
   "source": [
    "# Create spark session\n",
    "import getpass\n",
    "from pyspark.sql import SparkSession\n",
    "\n",
    "\n",
    "username = getpass.getuser()\n",
    "spark = SparkSession.builder.\\\n",
    "    config('spark.shuffle.useOldFetchProtocol','true').\\\n",
    "    config('spark.ui.port', '0').\\\n",
    "    config('spark.sql.warehouse.dir', f'/user/{username}/warehouse').\\\n",
    "    enableHiveSupport().\\\n",
    "    master('yarn').\\\n",
    "    getOrCreate()"
   ]
  },
  {
   "cell_type": "markdown",
   "id": "21523ccf",
   "metadata": {},
   "source": [
    "## 1. Create dataframe with proper datatypes, and proper colum"
   ]
  },
  {
   "cell_type": "code",
   "execution_count": 6,
   "id": "76a18755",
   "metadata": {},
   "outputs": [],
   "source": [
    "loan_schema = \"\"\"loan_id string, member_id string, loan_amount float, \n",
    "funded_amount float, loan_term_months string, interest_rate float, \n",
    "monthly_installment float, issue_date string, loan_status string, \n",
    "loan_purpose string, loan_title string\"\"\""
   ]
  },
  {
   "cell_type": "code",
   "execution_count": 7,
   "id": "1b9b482a",
   "metadata": {},
   "outputs": [],
   "source": [
    "loans_raw_df = spark.read\\\n",
    ".format(\"csv\")\\\n",
    ".option(\"header\", True)\\\n",
    ".schema(loan_schema)\\\n",
    ".load(\"/user/itv008299/lendingclubproject/raw/loans_data_csv\")"
   ]
  },
  {
   "cell_type": "code",
   "execution_count": 8,
   "id": "e35d641b",
   "metadata": {},
   "outputs": [
    {
     "data": {
      "text/html": [
       "<table border='1'>\n",
       "<tr><th>loan_id</th><th>member_id</th><th>loan_amount</th><th>funded_amount</th><th>loan_term_months</th><th>interest_rate</th><th>monthly_installment</th><th>issue_date</th><th>loan_status</th><th>loan_purpose</th><th>loan_title</th></tr>\n",
       "<tr><td>491699</td><td>961ae110ec063761f...</td><td>7000.0</td><td>7000.0</td><td>36 months</td><td>12.73</td><td>234.97</td><td>Mar-2010</td><td>Fully Paid</td><td>debt_consolidation</td><td>Noelle&#x27;s debt con...</td></tr>\n",
       "<tr><td>491685</td><td>291854d244748c911...</td><td>15000.0</td><td>15000.0</td><td>36 months</td><td>10.62</td><td>488.4</td><td>Mar-2010</td><td>Fully Paid</td><td>other</td><td>Education</td></tr>\n",
       "<tr><td>491667</td><td>b5cf66b90193da9d2...</td><td>6400.0</td><td>6400.0</td><td>36 months</td><td>7.88</td><td>200.2</td><td>Mar-2010</td><td>Fully Paid</td><td>debt_consolidation</td><td>Make money easily</td></tr>\n",
       "<tr><td>491160</td><td>7f53fd1acb7759e5b...</td><td>4000.0</td><td>4000.0</td><td>36 months</td><td>14.59</td><td>137.86</td><td>Mar-2010</td><td>Fully Paid</td><td>wedding</td><td>wedding expenses</td></tr>\n",
       "<tr><td>491675</td><td>12edc8e328b993914...</td><td>20000.0</td><td>20000.0</td><td>36 months</td><td>13.85</td><td>682.08</td><td>Mar-2010</td><td>Fully Paid</td><td>other</td><td>Short Term Tax Loan</td></tr>\n",
       "<tr><td>491668</td><td>e18a847f091332ff6...</td><td>6000.0</td><td>6000.0</td><td>36 months</td><td>11.36</td><td>197.47</td><td>Mar-2010</td><td>Charged Off</td><td>debt_consolidation</td><td>GREAT BORROWER --...</td></tr>\n",
       "<tr><td>491663</td><td>d6fe0000e876ab76d...</td><td>5500.0</td><td>5500.0</td><td>36 months</td><td>11.36</td><td>181.02</td><td>Mar-2010</td><td>Fully Paid</td><td>credit_card</td><td>Road to Success</td></tr>\n",
       "<tr><td>491632</td><td>62c38934f3a2ebcd2...</td><td>10000.0</td><td>10000.0</td><td>36 months</td><td>15.7</td><td>350.11</td><td>Mar-2010</td><td>Fully Paid</td><td>credit_card</td><td>Finish Paying off...</td></tr>\n",
       "<tr><td>491618</td><td>7701762ef5d302b0d...</td><td>25000.0</td><td>25000.0</td><td>36 months</td><td>15.33</td><td>870.71</td><td>Mar-2010</td><td>Fully Paid</td><td>debt_consolidation</td><td>Pay off my high i...</td></tr>\n",
       "<tr><td>491622</td><td>42a2df45b02b21b9a...</td><td>25000.0</td><td>25000.0</td><td>36 months</td><td>16.07</td><td>879.85</td><td>Mar-2010</td><td>Fully Paid</td><td>debt_consolidation</td><td>Debt Pay Off</td></tr>\n",
       "<tr><td>491552</td><td>b1ba0adce0baea939...</td><td>22000.0</td><td>22000.0</td><td>36 months</td><td>11.36</td><td>724.05</td><td>Mar-2010</td><td>Fully Paid</td><td>debt_consolidation</td><td>Getting rid of Ne...</td></tr>\n",
       "<tr><td>491477</td><td>82cdc418e3907686a...</td><td>16750.0</td><td>16750.0</td><td>36 months</td><td>13.11</td><td>565.23</td><td>Mar-2010</td><td>Fully Paid</td><td>debt_consolidation</td><td>Special Ed teache...</td></tr>\n",
       "<tr><td>491596</td><td>6cbc67caa30708b24...</td><td>3600.0</td><td>3600.0</td><td>36 months</td><td>15.7</td><td>126.04</td><td>Mar-2010</td><td>Fully Paid</td><td>credit_card</td><td>Credit Card Elimi...</td></tr>\n",
       "<tr><td>491575</td><td>3bae7a88975616641...</td><td>13750.0</td><td>13750.0</td><td>36 months</td><td>14.96</td><td>476.39</td><td>Mar-2010</td><td>Fully Paid</td><td>debt_consolidation</td><td>Personal Loan</td></tr>\n",
       "<tr><td>491581</td><td>55694e52b6a698777...</td><td>8500.0</td><td>8500.0</td><td>36 months</td><td>10.62</td><td>276.76</td><td>Mar-2010</td><td>Fully Paid</td><td>debt_consolidation</td><td>Reduce Debt befor...</td></tr>\n",
       "<tr><td>423260</td><td>c666d309594cceae5...</td><td>10000.0</td><td>10000.0</td><td>36 months</td><td>7.88</td><td>312.81</td><td>Mar-2010</td><td>Fully Paid</td><td>first as a Borrow...</td><td>first as a relati...</td></tr>\n",
       "<tr><td>488022</td><td>cc859b4c14c9eb521...</td><td>8000.0</td><td>8000.0</td><td>36 months</td><td>9.88</td><td>257.69</td><td>Mar-2010</td><td>Fully Paid</td><td>debt_consolidation</td><td>pay off credit ca...</td></tr>\n",
       "<tr><td>491557</td><td>dc1eeb967d0041bec...</td><td>12000.0</td><td>12000.0</td><td>36 months</td><td>13.48</td><td>407.09</td><td>Mar-2010</td><td>Fully Paid</td><td>other</td><td>Payoff Easy!</td></tr>\n",
       "<tr><td>491494</td><td>123126e86ba5ecd5d...</td><td>10000.0</td><td>10000.0</td><td>36 months</td><td>14.96</td><td>346.47</td><td>Mar-2010</td><td>Fully Paid</td><td>debt_consolidation</td><td>Credit Card Conso...</td></tr>\n",
       "<tr><td>491487</td><td>aeb1851b33df8f924...</td><td>11000.0</td><td>11000.0</td><td>36 months</td><td>13.85</td><td>375.15</td><td>Mar-2010</td><td>Fully Paid</td><td>debt_consolidation</td><td>Credit card conso...</td></tr>\n",
       "</table>\n",
       "only showing top 20 rows\n"
      ],
      "text/plain": [
       "+-------+--------------------+-----------+-------------+----------------+-------------+-------------------+----------+-----------+--------------------+--------------------+\n",
       "|loan_id|           member_id|loan_amount|funded_amount|loan_term_months|interest_rate|monthly_installment|issue_date|loan_status|        loan_purpose|          loan_title|\n",
       "+-------+--------------------+-----------+-------------+----------------+-------------+-------------------+----------+-----------+--------------------+--------------------+\n",
       "| 491699|961ae110ec063761f...|     7000.0|       7000.0|       36 months|        12.73|             234.97|  Mar-2010| Fully Paid|  debt_consolidation|Noelle's debt con...|\n",
       "| 491685|291854d244748c911...|    15000.0|      15000.0|       36 months|        10.62|              488.4|  Mar-2010| Fully Paid|               other|           Education|\n",
       "| 491667|b5cf66b90193da9d2...|     6400.0|       6400.0|       36 months|         7.88|              200.2|  Mar-2010| Fully Paid|  debt_consolidation|   Make money easily|\n",
       "| 491160|7f53fd1acb7759e5b...|     4000.0|       4000.0|       36 months|        14.59|             137.86|  Mar-2010| Fully Paid|             wedding|    wedding expenses|\n",
       "| 491675|12edc8e328b993914...|    20000.0|      20000.0|       36 months|        13.85|             682.08|  Mar-2010| Fully Paid|               other| Short Term Tax Loan|\n",
       "| 491668|e18a847f091332ff6...|     6000.0|       6000.0|       36 months|        11.36|             197.47|  Mar-2010|Charged Off|  debt_consolidation|GREAT BORROWER --...|\n",
       "| 491663|d6fe0000e876ab76d...|     5500.0|       5500.0|       36 months|        11.36|             181.02|  Mar-2010| Fully Paid|         credit_card|     Road to Success|\n",
       "| 491632|62c38934f3a2ebcd2...|    10000.0|      10000.0|       36 months|         15.7|             350.11|  Mar-2010| Fully Paid|         credit_card|Finish Paying off...|\n",
       "| 491618|7701762ef5d302b0d...|    25000.0|      25000.0|       36 months|        15.33|             870.71|  Mar-2010| Fully Paid|  debt_consolidation|Pay off my high i...|\n",
       "| 491622|42a2df45b02b21b9a...|    25000.0|      25000.0|       36 months|        16.07|             879.85|  Mar-2010| Fully Paid|  debt_consolidation|        Debt Pay Off|\n",
       "| 491552|b1ba0adce0baea939...|    22000.0|      22000.0|       36 months|        11.36|             724.05|  Mar-2010| Fully Paid|  debt_consolidation|Getting rid of Ne...|\n",
       "| 491477|82cdc418e3907686a...|    16750.0|      16750.0|       36 months|        13.11|             565.23|  Mar-2010| Fully Paid|  debt_consolidation|Special Ed teache...|\n",
       "| 491596|6cbc67caa30708b24...|     3600.0|       3600.0|       36 months|         15.7|             126.04|  Mar-2010| Fully Paid|         credit_card|Credit Card Elimi...|\n",
       "| 491575|3bae7a88975616641...|    13750.0|      13750.0|       36 months|        14.96|             476.39|  Mar-2010| Fully Paid|  debt_consolidation|       Personal Loan|\n",
       "| 491581|55694e52b6a698777...|     8500.0|       8500.0|       36 months|        10.62|             276.76|  Mar-2010| Fully Paid|  debt_consolidation|Reduce Debt befor...|\n",
       "| 423260|c666d309594cceae5...|    10000.0|      10000.0|       36 months|         7.88|             312.81|  Mar-2010| Fully Paid|first as a Borrow...|first as a relati...|\n",
       "| 488022|cc859b4c14c9eb521...|     8000.0|       8000.0|       36 months|         9.88|             257.69|  Mar-2010| Fully Paid|  debt_consolidation|pay off credit ca...|\n",
       "| 491557|dc1eeb967d0041bec...|    12000.0|      12000.0|       36 months|        13.48|             407.09|  Mar-2010| Fully Paid|               other|        Payoff Easy!|\n",
       "| 491494|123126e86ba5ecd5d...|    10000.0|      10000.0|       36 months|        14.96|             346.47|  Mar-2010| Fully Paid|  debt_consolidation|Credit Card Conso...|\n",
       "| 491487|aeb1851b33df8f924...|    11000.0|      11000.0|       36 months|        13.85|             375.15|  Mar-2010| Fully Paid|  debt_consolidation|Credit card conso...|\n",
       "+-------+--------------------+-----------+-------------+----------------+-------------+-------------------+----------+-----------+--------------------+--------------------+\n",
       "only showing top 20 rows"
      ]
     },
     "execution_count": 8,
     "metadata": {},
     "output_type": "execute_result"
    }
   ],
   "source": [
    "loans_raw_df"
   ]
  },
  {
   "cell_type": "code",
   "execution_count": 9,
   "id": "5f134986",
   "metadata": {},
   "outputs": [
    {
     "name": "stdout",
     "output_type": "stream",
     "text": [
      "root\n",
      " |-- loan_id: string (nullable = true)\n",
      " |-- member_id: string (nullable = true)\n",
      " |-- loan_amount: float (nullable = true)\n",
      " |-- funded_amount: float (nullable = true)\n",
      " |-- loan_term_months: string (nullable = true)\n",
      " |-- interest_rate: float (nullable = true)\n",
      " |-- monthly_installment: float (nullable = true)\n",
      " |-- issue_date: string (nullable = true)\n",
      " |-- loan_status: string (nullable = true)\n",
      " |-- loan_purpose: string (nullable = true)\n",
      " |-- loan_title: string (nullable = true)\n",
      "\n"
     ]
    }
   ],
   "source": [
    "loans_raw_df.printSchema()"
   ]
  },
  {
   "cell_type": "markdown",
   "id": "3ae49daa",
   "metadata": {},
   "source": [
    "## 2. Insert a new column named as ingestion date (current time)"
   ]
  },
  {
   "cell_type": "code",
   "execution_count": 10,
   "id": "3f752530",
   "metadata": {},
   "outputs": [],
   "source": [
    "from pyspark.sql.functions import current_timestamp\n",
    "\n",
    "loans_ingested_df = loans_raw_df.withColumn(\"ingest_date\", current_timestamp())"
   ]
  },
  {
   "cell_type": "code",
   "execution_count": 11,
   "id": "aab72772",
   "metadata": {},
   "outputs": [
    {
     "data": {
      "text/html": [
       "<table border='1'>\n",
       "<tr><th>loan_id</th><th>member_id</th><th>loan_amount</th><th>funded_amount</th><th>loan_term_months</th><th>interest_rate</th><th>monthly_installment</th><th>issue_date</th><th>loan_status</th><th>loan_purpose</th><th>loan_title</th><th>ingest_date</th></tr>\n",
       "<tr><td>491699</td><td>961ae110ec063761f...</td><td>7000.0</td><td>7000.0</td><td>36 months</td><td>12.73</td><td>234.97</td><td>Mar-2010</td><td>Fully Paid</td><td>debt_consolidation</td><td>Noelle&#x27;s debt con...</td><td>2023-11-08 16:39:...</td></tr>\n",
       "<tr><td>491685</td><td>291854d244748c911...</td><td>15000.0</td><td>15000.0</td><td>36 months</td><td>10.62</td><td>488.4</td><td>Mar-2010</td><td>Fully Paid</td><td>other</td><td>Education</td><td>2023-11-08 16:39:...</td></tr>\n",
       "<tr><td>491667</td><td>b5cf66b90193da9d2...</td><td>6400.0</td><td>6400.0</td><td>36 months</td><td>7.88</td><td>200.2</td><td>Mar-2010</td><td>Fully Paid</td><td>debt_consolidation</td><td>Make money easily</td><td>2023-11-08 16:39:...</td></tr>\n",
       "<tr><td>491160</td><td>7f53fd1acb7759e5b...</td><td>4000.0</td><td>4000.0</td><td>36 months</td><td>14.59</td><td>137.86</td><td>Mar-2010</td><td>Fully Paid</td><td>wedding</td><td>wedding expenses</td><td>2023-11-08 16:39:...</td></tr>\n",
       "<tr><td>491675</td><td>12edc8e328b993914...</td><td>20000.0</td><td>20000.0</td><td>36 months</td><td>13.85</td><td>682.08</td><td>Mar-2010</td><td>Fully Paid</td><td>other</td><td>Short Term Tax Loan</td><td>2023-11-08 16:39:...</td></tr>\n",
       "<tr><td>491668</td><td>e18a847f091332ff6...</td><td>6000.0</td><td>6000.0</td><td>36 months</td><td>11.36</td><td>197.47</td><td>Mar-2010</td><td>Charged Off</td><td>debt_consolidation</td><td>GREAT BORROWER --...</td><td>2023-11-08 16:39:...</td></tr>\n",
       "<tr><td>491663</td><td>d6fe0000e876ab76d...</td><td>5500.0</td><td>5500.0</td><td>36 months</td><td>11.36</td><td>181.02</td><td>Mar-2010</td><td>Fully Paid</td><td>credit_card</td><td>Road to Success</td><td>2023-11-08 16:39:...</td></tr>\n",
       "<tr><td>491632</td><td>62c38934f3a2ebcd2...</td><td>10000.0</td><td>10000.0</td><td>36 months</td><td>15.7</td><td>350.11</td><td>Mar-2010</td><td>Fully Paid</td><td>credit_card</td><td>Finish Paying off...</td><td>2023-11-08 16:39:...</td></tr>\n",
       "<tr><td>491618</td><td>7701762ef5d302b0d...</td><td>25000.0</td><td>25000.0</td><td>36 months</td><td>15.33</td><td>870.71</td><td>Mar-2010</td><td>Fully Paid</td><td>debt_consolidation</td><td>Pay off my high i...</td><td>2023-11-08 16:39:...</td></tr>\n",
       "<tr><td>491622</td><td>42a2df45b02b21b9a...</td><td>25000.0</td><td>25000.0</td><td>36 months</td><td>16.07</td><td>879.85</td><td>Mar-2010</td><td>Fully Paid</td><td>debt_consolidation</td><td>Debt Pay Off</td><td>2023-11-08 16:39:...</td></tr>\n",
       "<tr><td>491552</td><td>b1ba0adce0baea939...</td><td>22000.0</td><td>22000.0</td><td>36 months</td><td>11.36</td><td>724.05</td><td>Mar-2010</td><td>Fully Paid</td><td>debt_consolidation</td><td>Getting rid of Ne...</td><td>2023-11-08 16:39:...</td></tr>\n",
       "<tr><td>491477</td><td>82cdc418e3907686a...</td><td>16750.0</td><td>16750.0</td><td>36 months</td><td>13.11</td><td>565.23</td><td>Mar-2010</td><td>Fully Paid</td><td>debt_consolidation</td><td>Special Ed teache...</td><td>2023-11-08 16:39:...</td></tr>\n",
       "<tr><td>491596</td><td>6cbc67caa30708b24...</td><td>3600.0</td><td>3600.0</td><td>36 months</td><td>15.7</td><td>126.04</td><td>Mar-2010</td><td>Fully Paid</td><td>credit_card</td><td>Credit Card Elimi...</td><td>2023-11-08 16:39:...</td></tr>\n",
       "<tr><td>491575</td><td>3bae7a88975616641...</td><td>13750.0</td><td>13750.0</td><td>36 months</td><td>14.96</td><td>476.39</td><td>Mar-2010</td><td>Fully Paid</td><td>debt_consolidation</td><td>Personal Loan</td><td>2023-11-08 16:39:...</td></tr>\n",
       "<tr><td>491581</td><td>55694e52b6a698777...</td><td>8500.0</td><td>8500.0</td><td>36 months</td><td>10.62</td><td>276.76</td><td>Mar-2010</td><td>Fully Paid</td><td>debt_consolidation</td><td>Reduce Debt befor...</td><td>2023-11-08 16:39:...</td></tr>\n",
       "<tr><td>423260</td><td>c666d309594cceae5...</td><td>10000.0</td><td>10000.0</td><td>36 months</td><td>7.88</td><td>312.81</td><td>Mar-2010</td><td>Fully Paid</td><td>first as a Borrow...</td><td>first as a relati...</td><td>2023-11-08 16:39:...</td></tr>\n",
       "<tr><td>488022</td><td>cc859b4c14c9eb521...</td><td>8000.0</td><td>8000.0</td><td>36 months</td><td>9.88</td><td>257.69</td><td>Mar-2010</td><td>Fully Paid</td><td>debt_consolidation</td><td>pay off credit ca...</td><td>2023-11-08 16:39:...</td></tr>\n",
       "<tr><td>491557</td><td>dc1eeb967d0041bec...</td><td>12000.0</td><td>12000.0</td><td>36 months</td><td>13.48</td><td>407.09</td><td>Mar-2010</td><td>Fully Paid</td><td>other</td><td>Payoff Easy!</td><td>2023-11-08 16:39:...</td></tr>\n",
       "<tr><td>491494</td><td>123126e86ba5ecd5d...</td><td>10000.0</td><td>10000.0</td><td>36 months</td><td>14.96</td><td>346.47</td><td>Mar-2010</td><td>Fully Paid</td><td>debt_consolidation</td><td>Credit Card Conso...</td><td>2023-11-08 16:39:...</td></tr>\n",
       "<tr><td>491487</td><td>aeb1851b33df8f924...</td><td>11000.0</td><td>11000.0</td><td>36 months</td><td>13.85</td><td>375.15</td><td>Mar-2010</td><td>Fully Paid</td><td>debt_consolidation</td><td>Credit card conso...</td><td>2023-11-08 16:39:...</td></tr>\n",
       "</table>\n",
       "only showing top 20 rows\n"
      ],
      "text/plain": [
       "+-------+--------------------+-----------+-------------+----------------+-------------+-------------------+----------+-----------+--------------------+--------------------+--------------------+\n",
       "|loan_id|           member_id|loan_amount|funded_amount|loan_term_months|interest_rate|monthly_installment|issue_date|loan_status|        loan_purpose|          loan_title|         ingest_date|\n",
       "+-------+--------------------+-----------+-------------+----------------+-------------+-------------------+----------+-----------+--------------------+--------------------+--------------------+\n",
       "| 491699|961ae110ec063761f...|     7000.0|       7000.0|       36 months|        12.73|             234.97|  Mar-2010| Fully Paid|  debt_consolidation|Noelle's debt con...|2023-11-08 16:39:...|\n",
       "| 491685|291854d244748c911...|    15000.0|      15000.0|       36 months|        10.62|              488.4|  Mar-2010| Fully Paid|               other|           Education|2023-11-08 16:39:...|\n",
       "| 491667|b5cf66b90193da9d2...|     6400.0|       6400.0|       36 months|         7.88|              200.2|  Mar-2010| Fully Paid|  debt_consolidation|   Make money easily|2023-11-08 16:39:...|\n",
       "| 491160|7f53fd1acb7759e5b...|     4000.0|       4000.0|       36 months|        14.59|             137.86|  Mar-2010| Fully Paid|             wedding|    wedding expenses|2023-11-08 16:39:...|\n",
       "| 491675|12edc8e328b993914...|    20000.0|      20000.0|       36 months|        13.85|             682.08|  Mar-2010| Fully Paid|               other| Short Term Tax Loan|2023-11-08 16:39:...|\n",
       "| 491668|e18a847f091332ff6...|     6000.0|       6000.0|       36 months|        11.36|             197.47|  Mar-2010|Charged Off|  debt_consolidation|GREAT BORROWER --...|2023-11-08 16:39:...|\n",
       "| 491663|d6fe0000e876ab76d...|     5500.0|       5500.0|       36 months|        11.36|             181.02|  Mar-2010| Fully Paid|         credit_card|     Road to Success|2023-11-08 16:39:...|\n",
       "| 491632|62c38934f3a2ebcd2...|    10000.0|      10000.0|       36 months|         15.7|             350.11|  Mar-2010| Fully Paid|         credit_card|Finish Paying off...|2023-11-08 16:39:...|\n",
       "| 491618|7701762ef5d302b0d...|    25000.0|      25000.0|       36 months|        15.33|             870.71|  Mar-2010| Fully Paid|  debt_consolidation|Pay off my high i...|2023-11-08 16:39:...|\n",
       "| 491622|42a2df45b02b21b9a...|    25000.0|      25000.0|       36 months|        16.07|             879.85|  Mar-2010| Fully Paid|  debt_consolidation|        Debt Pay Off|2023-11-08 16:39:...|\n",
       "| 491552|b1ba0adce0baea939...|    22000.0|      22000.0|       36 months|        11.36|             724.05|  Mar-2010| Fully Paid|  debt_consolidation|Getting rid of Ne...|2023-11-08 16:39:...|\n",
       "| 491477|82cdc418e3907686a...|    16750.0|      16750.0|       36 months|        13.11|             565.23|  Mar-2010| Fully Paid|  debt_consolidation|Special Ed teache...|2023-11-08 16:39:...|\n",
       "| 491596|6cbc67caa30708b24...|     3600.0|       3600.0|       36 months|         15.7|             126.04|  Mar-2010| Fully Paid|         credit_card|Credit Card Elimi...|2023-11-08 16:39:...|\n",
       "| 491575|3bae7a88975616641...|    13750.0|      13750.0|       36 months|        14.96|             476.39|  Mar-2010| Fully Paid|  debt_consolidation|       Personal Loan|2023-11-08 16:39:...|\n",
       "| 491581|55694e52b6a698777...|     8500.0|       8500.0|       36 months|        10.62|             276.76|  Mar-2010| Fully Paid|  debt_consolidation|Reduce Debt befor...|2023-11-08 16:39:...|\n",
       "| 423260|c666d309594cceae5...|    10000.0|      10000.0|       36 months|         7.88|             312.81|  Mar-2010| Fully Paid|first as a Borrow...|first as a relati...|2023-11-08 16:39:...|\n",
       "| 488022|cc859b4c14c9eb521...|     8000.0|       8000.0|       36 months|         9.88|             257.69|  Mar-2010| Fully Paid|  debt_consolidation|pay off credit ca...|2023-11-08 16:39:...|\n",
       "| 491557|dc1eeb967d0041bec...|    12000.0|      12000.0|       36 months|        13.48|             407.09|  Mar-2010| Fully Paid|               other|        Payoff Easy!|2023-11-08 16:39:...|\n",
       "| 491494|123126e86ba5ecd5d...|    10000.0|      10000.0|       36 months|        14.96|             346.47|  Mar-2010| Fully Paid|  debt_consolidation|Credit Card Conso...|2023-11-08 16:39:...|\n",
       "| 491487|aeb1851b33df8f924...|    11000.0|      11000.0|       36 months|        13.85|             375.15|  Mar-2010| Fully Paid|  debt_consolidation|Credit card conso...|2023-11-08 16:39:...|\n",
       "+-------+--------------------+-----------+-------------+----------------+-------------+-------------------+----------+-----------+--------------------+--------------------+--------------------+\n",
       "only showing top 20 rows"
      ]
     },
     "execution_count": 11,
     "metadata": {},
     "output_type": "execute_result"
    }
   ],
   "source": [
    "loans_ingested_df"
   ]
  },
  {
   "cell_type": "markdown",
   "id": "e8bf5164",
   "metadata": {},
   "source": [
    "## 3. Dropping the rows which has null values in the mentioned columns\n",
    "\n",
    "We are dropping these rows because rows with null values in these column are meaningless to our analysis"
   ]
  },
  {
   "cell_type": "code",
   "execution_count": 12,
   "id": "568d5fa3",
   "metadata": {},
   "outputs": [],
   "source": [
    "loans_ingested_df.createOrReplaceTempView(\"loans\")"
   ]
  },
  {
   "cell_type": "code",
   "execution_count": 13,
   "id": "7aba4435",
   "metadata": {},
   "outputs": [
    {
     "data": {
      "text/html": [
       "<table border='1'>\n",
       "<tr><th>loan_id</th><th>member_id</th><th>loan_amount</th><th>funded_amount</th><th>loan_term_months</th><th>interest_rate</th><th>monthly_installment</th><th>issue_date</th><th>loan_status</th><th>loan_purpose</th><th>loan_title</th><th>ingest_date</th></tr>\n",
       "<tr><td>Loans that do not...</td><td>e3b0c44298fc1c149...</td><td>null</td><td>null</td><td>null</td><td>null</td><td>null</td><td>null</td><td>null</td><td>null</td><td>null</td><td>2023-11-08 16:41:...</td></tr>\n",
       "<tr><td>Total amount fund...</td><td>e3b0c44298fc1c149...</td><td>null</td><td>null</td><td>null</td><td>null</td><td>null</td><td>null</td><td>null</td><td>null</td><td>null</td><td>2023-11-08 16:41:...</td></tr>\n",
       "<tr><td>Total amount fund...</td><td>e3b0c44298fc1c149...</td><td>null</td><td>null</td><td>null</td><td>null</td><td>null</td><td>null</td><td>null</td><td>null</td><td>null</td><td>2023-11-08 16:41:...</td></tr>\n",
       "<tr><td>Total amount fund...</td><td>e3b0c44298fc1c149...</td><td>null</td><td>null</td><td>null</td><td>null</td><td>null</td><td>null</td><td>null</td><td>null</td><td>null</td><td>2023-11-08 16:41:...</td></tr>\n",
       "<tr><td>Total amount fund...</td><td>e3b0c44298fc1c149...</td><td>null</td><td>null</td><td>null</td><td>null</td><td>null</td><td>null</td><td>null</td><td>null</td><td>null</td><td>2023-11-08 16:41:...</td></tr>\n",
       "<tr><td>Total amount fund...</td><td>e3b0c44298fc1c149...</td><td>null</td><td>null</td><td>null</td><td>null</td><td>null</td><td>null</td><td>null</td><td>null</td><td>null</td><td>2023-11-08 16:41:...</td></tr>\n",
       "<tr><td>Total amount fund...</td><td>e3b0c44298fc1c149...</td><td>null</td><td>null</td><td>null</td><td>null</td><td>null</td><td>null</td><td>null</td><td>null</td><td>null</td><td>2023-11-08 16:41:...</td></tr>\n",
       "<tr><td>Total amount fund...</td><td>e3b0c44298fc1c149...</td><td>null</td><td>null</td><td>null</td><td>null</td><td>null</td><td>null</td><td>null</td><td>null</td><td>null</td><td>2023-11-08 16:41:...</td></tr>\n",
       "<tr><td>Total amount fund...</td><td>e3b0c44298fc1c149...</td><td>null</td><td>null</td><td>null</td><td>null</td><td>null</td><td>null</td><td>null</td><td>null</td><td>null</td><td>2023-11-08 16:41:...</td></tr>\n",
       "<tr><td>Total amount fund...</td><td>e3b0c44298fc1c149...</td><td>null</td><td>null</td><td>null</td><td>null</td><td>null</td><td>null</td><td>null</td><td>null</td><td>null</td><td>2023-11-08 16:41:...</td></tr>\n",
       "<tr><td>Total amount fund...</td><td>e3b0c44298fc1c149...</td><td>null</td><td>null</td><td>null</td><td>null</td><td>null</td><td>null</td><td>null</td><td>null</td><td>null</td><td>2023-11-08 16:41:...</td></tr>\n",
       "<tr><td>Total amount fund...</td><td>e3b0c44298fc1c149...</td><td>null</td><td>null</td><td>null</td><td>null</td><td>null</td><td>null</td><td>null</td><td>null</td><td>null</td><td>2023-11-08 16:41:...</td></tr>\n",
       "<tr><td>Total amount fund...</td><td>e3b0c44298fc1c149...</td><td>null</td><td>null</td><td>null</td><td>null</td><td>null</td><td>null</td><td>null</td><td>null</td><td>null</td><td>2023-11-08 16:41:...</td></tr>\n",
       "<tr><td>Total amount fund...</td><td>e3b0c44298fc1c149...</td><td>null</td><td>null</td><td>null</td><td>null</td><td>null</td><td>null</td><td>null</td><td>null</td><td>null</td><td>2023-11-08 16:41:...</td></tr>\n",
       "<tr><td>Total amount fund...</td><td>e3b0c44298fc1c149...</td><td>null</td><td>null</td><td>null</td><td>null</td><td>null</td><td>null</td><td>null</td><td>null</td><td>null</td><td>2023-11-08 16:41:...</td></tr>\n",
       "<tr><td>Total amount fund...</td><td>e3b0c44298fc1c149...</td><td>null</td><td>null</td><td>null</td><td>null</td><td>null</td><td>null</td><td>null</td><td>null</td><td>null</td><td>2023-11-08 16:41:...</td></tr>\n",
       "<tr><td>Total amount fund...</td><td>e3b0c44298fc1c149...</td><td>null</td><td>null</td><td>null</td><td>null</td><td>null</td><td>null</td><td>null</td><td>null</td><td>null</td><td>2023-11-08 16:41:...</td></tr>\n",
       "<tr><td>Total amount fund...</td><td>e3b0c44298fc1c149...</td><td>null</td><td>null</td><td>null</td><td>null</td><td>null</td><td>null</td><td>null</td><td>null</td><td>null</td><td>2023-11-08 16:41:...</td></tr>\n",
       "<tr><td>Total amount fund...</td><td>e3b0c44298fc1c149...</td><td>null</td><td>null</td><td>null</td><td>null</td><td>null</td><td>null</td><td>null</td><td>null</td><td>null</td><td>2023-11-08 16:41:...</td></tr>\n",
       "<tr><td>Total amount fund...</td><td>e3b0c44298fc1c149...</td><td>null</td><td>null</td><td>null</td><td>null</td><td>null</td><td>null</td><td>null</td><td>null</td><td>null</td><td>2023-11-08 16:41:...</td></tr>\n",
       "</table>\n",
       "only showing top 20 rows\n"
      ],
      "text/plain": [
       "+--------------------+--------------------+-----------+-------------+----------------+-------------+-------------------+----------+-----------+------------+----------+--------------------+\n",
       "|             loan_id|           member_id|loan_amount|funded_amount|loan_term_months|interest_rate|monthly_installment|issue_date|loan_status|loan_purpose|loan_title|         ingest_date|\n",
       "+--------------------+--------------------+-----------+-------------+----------------+-------------+-------------------+----------+-----------+------------+----------+--------------------+\n",
       "|Loans that do not...|e3b0c44298fc1c149...|       null|         null|            null|         null|               null|      null|       null|        null|      null|2023-11-08 16:41:...|\n",
       "|Total amount fund...|e3b0c44298fc1c149...|       null|         null|            null|         null|               null|      null|       null|        null|      null|2023-11-08 16:41:...|\n",
       "|Total amount fund...|e3b0c44298fc1c149...|       null|         null|            null|         null|               null|      null|       null|        null|      null|2023-11-08 16:41:...|\n",
       "|Total amount fund...|e3b0c44298fc1c149...|       null|         null|            null|         null|               null|      null|       null|        null|      null|2023-11-08 16:41:...|\n",
       "|Total amount fund...|e3b0c44298fc1c149...|       null|         null|            null|         null|               null|      null|       null|        null|      null|2023-11-08 16:41:...|\n",
       "|Total amount fund...|e3b0c44298fc1c149...|       null|         null|            null|         null|               null|      null|       null|        null|      null|2023-11-08 16:41:...|\n",
       "|Total amount fund...|e3b0c44298fc1c149...|       null|         null|            null|         null|               null|      null|       null|        null|      null|2023-11-08 16:41:...|\n",
       "|Total amount fund...|e3b0c44298fc1c149...|       null|         null|            null|         null|               null|      null|       null|        null|      null|2023-11-08 16:41:...|\n",
       "|Total amount fund...|e3b0c44298fc1c149...|       null|         null|            null|         null|               null|      null|       null|        null|      null|2023-11-08 16:41:...|\n",
       "|Total amount fund...|e3b0c44298fc1c149...|       null|         null|            null|         null|               null|      null|       null|        null|      null|2023-11-08 16:41:...|\n",
       "|Total amount fund...|e3b0c44298fc1c149...|       null|         null|            null|         null|               null|      null|       null|        null|      null|2023-11-08 16:41:...|\n",
       "|Total amount fund...|e3b0c44298fc1c149...|       null|         null|            null|         null|               null|      null|       null|        null|      null|2023-11-08 16:41:...|\n",
       "|Total amount fund...|e3b0c44298fc1c149...|       null|         null|            null|         null|               null|      null|       null|        null|      null|2023-11-08 16:41:...|\n",
       "|Total amount fund...|e3b0c44298fc1c149...|       null|         null|            null|         null|               null|      null|       null|        null|      null|2023-11-08 16:41:...|\n",
       "|Total amount fund...|e3b0c44298fc1c149...|       null|         null|            null|         null|               null|      null|       null|        null|      null|2023-11-08 16:41:...|\n",
       "|Total amount fund...|e3b0c44298fc1c149...|       null|         null|            null|         null|               null|      null|       null|        null|      null|2023-11-08 16:41:...|\n",
       "|Total amount fund...|e3b0c44298fc1c149...|       null|         null|            null|         null|               null|      null|       null|        null|      null|2023-11-08 16:41:...|\n",
       "|Total amount fund...|e3b0c44298fc1c149...|       null|         null|            null|         null|               null|      null|       null|        null|      null|2023-11-08 16:41:...|\n",
       "|Total amount fund...|e3b0c44298fc1c149...|       null|         null|            null|         null|               null|      null|       null|        null|      null|2023-11-08 16:41:...|\n",
       "|Total amount fund...|e3b0c44298fc1c149...|       null|         null|            null|         null|               null|      null|       null|        null|      null|2023-11-08 16:41:...|\n",
       "+--------------------+--------------------+-----------+-------------+----------------+-------------+-------------------+----------+-----------+------------+----------+--------------------+\n",
       "only showing top 20 rows"
      ]
     },
     "execution_count": 13,
     "metadata": {},
     "output_type": "execute_result"
    }
   ],
   "source": [
    "spark.sql(\"select * from loans where loan_amount is null\")"
   ]
  },
  {
   "cell_type": "code",
   "execution_count": 14,
   "id": "c580475e",
   "metadata": {},
   "outputs": [],
   "source": [
    "columns_to_check = [\"loan_amount\", \"funded_amount\", \"loan_term_months\", \"interest_rate\", \"monthly_installment\", \"issue_date\", \"loan_status\", \"loan_purpose\"]"
   ]
  },
  {
   "cell_type": "code",
   "execution_count": 15,
   "id": "724439bf",
   "metadata": {},
   "outputs": [],
   "source": [
    "loans_filtered_df = loans_ingested_df.na.drop(subset=columns_to_check)"
   ]
  },
  {
   "cell_type": "code",
   "execution_count": 16,
   "id": "e22231b0",
   "metadata": {},
   "outputs": [],
   "source": [
    "loans_filtered_df.createOrReplaceTempView(\"loans\")"
   ]
  },
  {
   "cell_type": "markdown",
   "id": "b53c2a04",
   "metadata": {},
   "source": [
    "## 4. Convert loan_term_months to int"
   ]
  },
  {
   "cell_type": "code",
   "execution_count": 18,
   "id": "d660b49f",
   "metadata": {},
   "outputs": [],
   "source": [
    "from pyspark.sql.functions import regexp_replace, col\n",
    "\n",
    "loan_term_modified_df = loans_filtered_df.withColumn(\"loan_term_months\", (regexp_replace(col(\"loan_term_months\"), \" months\", \"\") \\\n",
    "                                         .cast(\"int\")/12) \\\n",
    "                                         .cast(\"int\")) \\\n",
    "                                         .withColumnRenamed(\"loan_term_months\", \"loan_term_years\")"
   ]
  },
  {
   "cell_type": "code",
   "execution_count": 19,
   "id": "baf70afe",
   "metadata": {},
   "outputs": [
    {
     "data": {
      "text/html": [
       "<table border='1'>\n",
       "<tr><th>loan_id</th><th>member_id</th><th>loan_amount</th><th>funded_amount</th><th>loan_term_years</th><th>interest_rate</th><th>monthly_installment</th><th>issue_date</th><th>loan_status</th><th>loan_purpose</th><th>loan_title</th><th>ingest_date</th></tr>\n",
       "<tr><td>491699</td><td>961ae110ec063761f...</td><td>7000.0</td><td>7000.0</td><td>3</td><td>12.73</td><td>234.97</td><td>Mar-2010</td><td>Fully Paid</td><td>debt_consolidation</td><td>Noelle&#x27;s debt con...</td><td>2023-11-08 16:46:...</td></tr>\n",
       "<tr><td>491685</td><td>291854d244748c911...</td><td>15000.0</td><td>15000.0</td><td>3</td><td>10.62</td><td>488.4</td><td>Mar-2010</td><td>Fully Paid</td><td>other</td><td>Education</td><td>2023-11-08 16:46:...</td></tr>\n",
       "<tr><td>491667</td><td>b5cf66b90193da9d2...</td><td>6400.0</td><td>6400.0</td><td>3</td><td>7.88</td><td>200.2</td><td>Mar-2010</td><td>Fully Paid</td><td>debt_consolidation</td><td>Make money easily</td><td>2023-11-08 16:46:...</td></tr>\n",
       "<tr><td>491160</td><td>7f53fd1acb7759e5b...</td><td>4000.0</td><td>4000.0</td><td>3</td><td>14.59</td><td>137.86</td><td>Mar-2010</td><td>Fully Paid</td><td>wedding</td><td>wedding expenses</td><td>2023-11-08 16:46:...</td></tr>\n",
       "<tr><td>491675</td><td>12edc8e328b993914...</td><td>20000.0</td><td>20000.0</td><td>3</td><td>13.85</td><td>682.08</td><td>Mar-2010</td><td>Fully Paid</td><td>other</td><td>Short Term Tax Loan</td><td>2023-11-08 16:46:...</td></tr>\n",
       "<tr><td>491668</td><td>e18a847f091332ff6...</td><td>6000.0</td><td>6000.0</td><td>3</td><td>11.36</td><td>197.47</td><td>Mar-2010</td><td>Charged Off</td><td>debt_consolidation</td><td>GREAT BORROWER --...</td><td>2023-11-08 16:46:...</td></tr>\n",
       "<tr><td>491663</td><td>d6fe0000e876ab76d...</td><td>5500.0</td><td>5500.0</td><td>3</td><td>11.36</td><td>181.02</td><td>Mar-2010</td><td>Fully Paid</td><td>credit_card</td><td>Road to Success</td><td>2023-11-08 16:46:...</td></tr>\n",
       "<tr><td>491632</td><td>62c38934f3a2ebcd2...</td><td>10000.0</td><td>10000.0</td><td>3</td><td>15.7</td><td>350.11</td><td>Mar-2010</td><td>Fully Paid</td><td>credit_card</td><td>Finish Paying off...</td><td>2023-11-08 16:46:...</td></tr>\n",
       "<tr><td>491618</td><td>7701762ef5d302b0d...</td><td>25000.0</td><td>25000.0</td><td>3</td><td>15.33</td><td>870.71</td><td>Mar-2010</td><td>Fully Paid</td><td>debt_consolidation</td><td>Pay off my high i...</td><td>2023-11-08 16:46:...</td></tr>\n",
       "<tr><td>491622</td><td>42a2df45b02b21b9a...</td><td>25000.0</td><td>25000.0</td><td>3</td><td>16.07</td><td>879.85</td><td>Mar-2010</td><td>Fully Paid</td><td>debt_consolidation</td><td>Debt Pay Off</td><td>2023-11-08 16:46:...</td></tr>\n",
       "<tr><td>491552</td><td>b1ba0adce0baea939...</td><td>22000.0</td><td>22000.0</td><td>3</td><td>11.36</td><td>724.05</td><td>Mar-2010</td><td>Fully Paid</td><td>debt_consolidation</td><td>Getting rid of Ne...</td><td>2023-11-08 16:46:...</td></tr>\n",
       "<tr><td>491477</td><td>82cdc418e3907686a...</td><td>16750.0</td><td>16750.0</td><td>3</td><td>13.11</td><td>565.23</td><td>Mar-2010</td><td>Fully Paid</td><td>debt_consolidation</td><td>Special Ed teache...</td><td>2023-11-08 16:46:...</td></tr>\n",
       "<tr><td>491596</td><td>6cbc67caa30708b24...</td><td>3600.0</td><td>3600.0</td><td>3</td><td>15.7</td><td>126.04</td><td>Mar-2010</td><td>Fully Paid</td><td>credit_card</td><td>Credit Card Elimi...</td><td>2023-11-08 16:46:...</td></tr>\n",
       "<tr><td>491575</td><td>3bae7a88975616641...</td><td>13750.0</td><td>13750.0</td><td>3</td><td>14.96</td><td>476.39</td><td>Mar-2010</td><td>Fully Paid</td><td>debt_consolidation</td><td>Personal Loan</td><td>2023-11-08 16:46:...</td></tr>\n",
       "<tr><td>491581</td><td>55694e52b6a698777...</td><td>8500.0</td><td>8500.0</td><td>3</td><td>10.62</td><td>276.76</td><td>Mar-2010</td><td>Fully Paid</td><td>debt_consolidation</td><td>Reduce Debt befor...</td><td>2023-11-08 16:46:...</td></tr>\n",
       "<tr><td>423260</td><td>c666d309594cceae5...</td><td>10000.0</td><td>10000.0</td><td>3</td><td>7.88</td><td>312.81</td><td>Mar-2010</td><td>Fully Paid</td><td>first as a Borrow...</td><td>first as a relati...</td><td>2023-11-08 16:46:...</td></tr>\n",
       "<tr><td>488022</td><td>cc859b4c14c9eb521...</td><td>8000.0</td><td>8000.0</td><td>3</td><td>9.88</td><td>257.69</td><td>Mar-2010</td><td>Fully Paid</td><td>debt_consolidation</td><td>pay off credit ca...</td><td>2023-11-08 16:46:...</td></tr>\n",
       "<tr><td>491557</td><td>dc1eeb967d0041bec...</td><td>12000.0</td><td>12000.0</td><td>3</td><td>13.48</td><td>407.09</td><td>Mar-2010</td><td>Fully Paid</td><td>other</td><td>Payoff Easy!</td><td>2023-11-08 16:46:...</td></tr>\n",
       "<tr><td>491494</td><td>123126e86ba5ecd5d...</td><td>10000.0</td><td>10000.0</td><td>3</td><td>14.96</td><td>346.47</td><td>Mar-2010</td><td>Fully Paid</td><td>debt_consolidation</td><td>Credit Card Conso...</td><td>2023-11-08 16:46:...</td></tr>\n",
       "<tr><td>491487</td><td>aeb1851b33df8f924...</td><td>11000.0</td><td>11000.0</td><td>3</td><td>13.85</td><td>375.15</td><td>Mar-2010</td><td>Fully Paid</td><td>debt_consolidation</td><td>Credit card conso...</td><td>2023-11-08 16:46:...</td></tr>\n",
       "</table>\n",
       "only showing top 20 rows\n"
      ],
      "text/plain": [
       "+-------+--------------------+-----------+-------------+---------------+-------------+-------------------+----------+-----------+--------------------+--------------------+--------------------+\n",
       "|loan_id|           member_id|loan_amount|funded_amount|loan_term_years|interest_rate|monthly_installment|issue_date|loan_status|        loan_purpose|          loan_title|         ingest_date|\n",
       "+-------+--------------------+-----------+-------------+---------------+-------------+-------------------+----------+-----------+--------------------+--------------------+--------------------+\n",
       "| 491699|961ae110ec063761f...|     7000.0|       7000.0|              3|        12.73|             234.97|  Mar-2010| Fully Paid|  debt_consolidation|Noelle's debt con...|2023-11-08 16:46:...|\n",
       "| 491685|291854d244748c911...|    15000.0|      15000.0|              3|        10.62|              488.4|  Mar-2010| Fully Paid|               other|           Education|2023-11-08 16:46:...|\n",
       "| 491667|b5cf66b90193da9d2...|     6400.0|       6400.0|              3|         7.88|              200.2|  Mar-2010| Fully Paid|  debt_consolidation|   Make money easily|2023-11-08 16:46:...|\n",
       "| 491160|7f53fd1acb7759e5b...|     4000.0|       4000.0|              3|        14.59|             137.86|  Mar-2010| Fully Paid|             wedding|    wedding expenses|2023-11-08 16:46:...|\n",
       "| 491675|12edc8e328b993914...|    20000.0|      20000.0|              3|        13.85|             682.08|  Mar-2010| Fully Paid|               other| Short Term Tax Loan|2023-11-08 16:46:...|\n",
       "| 491668|e18a847f091332ff6...|     6000.0|       6000.0|              3|        11.36|             197.47|  Mar-2010|Charged Off|  debt_consolidation|GREAT BORROWER --...|2023-11-08 16:46:...|\n",
       "| 491663|d6fe0000e876ab76d...|     5500.0|       5500.0|              3|        11.36|             181.02|  Mar-2010| Fully Paid|         credit_card|     Road to Success|2023-11-08 16:46:...|\n",
       "| 491632|62c38934f3a2ebcd2...|    10000.0|      10000.0|              3|         15.7|             350.11|  Mar-2010| Fully Paid|         credit_card|Finish Paying off...|2023-11-08 16:46:...|\n",
       "| 491618|7701762ef5d302b0d...|    25000.0|      25000.0|              3|        15.33|             870.71|  Mar-2010| Fully Paid|  debt_consolidation|Pay off my high i...|2023-11-08 16:46:...|\n",
       "| 491622|42a2df45b02b21b9a...|    25000.0|      25000.0|              3|        16.07|             879.85|  Mar-2010| Fully Paid|  debt_consolidation|        Debt Pay Off|2023-11-08 16:46:...|\n",
       "| 491552|b1ba0adce0baea939...|    22000.0|      22000.0|              3|        11.36|             724.05|  Mar-2010| Fully Paid|  debt_consolidation|Getting rid of Ne...|2023-11-08 16:46:...|\n",
       "| 491477|82cdc418e3907686a...|    16750.0|      16750.0|              3|        13.11|             565.23|  Mar-2010| Fully Paid|  debt_consolidation|Special Ed teache...|2023-11-08 16:46:...|\n",
       "| 491596|6cbc67caa30708b24...|     3600.0|       3600.0|              3|         15.7|             126.04|  Mar-2010| Fully Paid|         credit_card|Credit Card Elimi...|2023-11-08 16:46:...|\n",
       "| 491575|3bae7a88975616641...|    13750.0|      13750.0|              3|        14.96|             476.39|  Mar-2010| Fully Paid|  debt_consolidation|       Personal Loan|2023-11-08 16:46:...|\n",
       "| 491581|55694e52b6a698777...|     8500.0|       8500.0|              3|        10.62|             276.76|  Mar-2010| Fully Paid|  debt_consolidation|Reduce Debt befor...|2023-11-08 16:46:...|\n",
       "| 423260|c666d309594cceae5...|    10000.0|      10000.0|              3|         7.88|             312.81|  Mar-2010| Fully Paid|first as a Borrow...|first as a relati...|2023-11-08 16:46:...|\n",
       "| 488022|cc859b4c14c9eb521...|     8000.0|       8000.0|              3|         9.88|             257.69|  Mar-2010| Fully Paid|  debt_consolidation|pay off credit ca...|2023-11-08 16:46:...|\n",
       "| 491557|dc1eeb967d0041bec...|    12000.0|      12000.0|              3|        13.48|             407.09|  Mar-2010| Fully Paid|               other|        Payoff Easy!|2023-11-08 16:46:...|\n",
       "| 491494|123126e86ba5ecd5d...|    10000.0|      10000.0|              3|        14.96|             346.47|  Mar-2010| Fully Paid|  debt_consolidation|Credit Card Conso...|2023-11-08 16:46:...|\n",
       "| 491487|aeb1851b33df8f924...|    11000.0|      11000.0|              3|        13.85|             375.15|  Mar-2010| Fully Paid|  debt_consolidation|Credit card conso...|2023-11-08 16:46:...|\n",
       "+-------+--------------------+-----------+-------------+---------------+-------------+-------------------+----------+-----------+--------------------+--------------------+--------------------+\n",
       "only showing top 20 rows"
      ]
     },
     "execution_count": 19,
     "metadata": {},
     "output_type": "execute_result"
    }
   ],
   "source": [
    "loan_term_modified_df"
   ]
  },
  {
   "cell_type": "code",
   "execution_count": 20,
   "id": "3f6ee52e",
   "metadata": {},
   "outputs": [
    {
     "name": "stdout",
     "output_type": "stream",
     "text": [
      "root\n",
      " |-- loan_id: string (nullable = true)\n",
      " |-- member_id: string (nullable = true)\n",
      " |-- loan_amount: float (nullable = true)\n",
      " |-- funded_amount: float (nullable = true)\n",
      " |-- loan_term_years: integer (nullable = true)\n",
      " |-- interest_rate: float (nullable = true)\n",
      " |-- monthly_installment: float (nullable = true)\n",
      " |-- issue_date: string (nullable = true)\n",
      " |-- loan_status: string (nullable = true)\n",
      " |-- loan_purpose: string (nullable = true)\n",
      " |-- loan_title: string (nullable = true)\n",
      " |-- ingest_date: timestamp (nullable = false)\n",
      "\n"
     ]
    }
   ],
   "source": [
    "loan_term_modified_df.printSchema()"
   ]
  },
  {
   "cell_type": "markdown",
   "id": "3d343133",
   "metadata": {},
   "source": [
    "## 5. Clean the loan_purpose column"
   ]
  },
  {
   "cell_type": "code",
   "execution_count": 21,
   "id": "a3bc327d",
   "metadata": {},
   "outputs": [],
   "source": [
    "loan_term_modified_df.createOrReplaceTempView(\"loans\")"
   ]
  },
  {
   "cell_type": "code",
   "execution_count": 22,
   "id": "f1808f7c",
   "metadata": {},
   "outputs": [
    {
     "data": {
      "text/html": [
       "<table border='1'>\n",
       "<tr><th>loan_purpose</th></tr>\n",
       "<tr><td>guaranteed!&quot;</td></tr>\n",
       "<tr><td>and if they are a...</td></tr>\n",
       "<tr><td>never had any tro...</td></tr>\n",
       "<tr><td>Bank of America c...</td></tr>\n",
       "<tr><td>&lt;br/&gt;&lt;br/&gt;Lending...</td></tr>\n",
       "<tr><td>stocks</td></tr>\n",
       "<tr><td>please feel free ...</td></tr>\n",
       "<tr><td>I became his prim...</td></tr>\n",
       "<tr><td>brakes</td></tr>\n",
       "<tr><td>on one of the bus...</td></tr>\n",
       "<tr><td>because of the na...</td></tr>\n",
       "<tr><td>progressive multi...</td></tr>\n",
       "<tr><td>but not much info...</td></tr>\n",
       "<tr><td>I have eliminated...</td></tr>\n",
       "<tr><td>TutoringOne is a ...</td></tr>\n",
       "<tr><td>you may feel conf...</td></tr>\n",
       "<tr><td>so I have to pay ...</td></tr>\n",
       "<tr><td>Hilal Khalil Homa...</td></tr>\n",
       "<tr><td>000 in debt on cr...</td></tr>\n",
       "<tr><td>and the monthly p...</td></tr>\n",
       "</table>\n",
       "only showing top 20 rows\n"
      ],
      "text/plain": [
       "+--------------------+\n",
       "|        loan_purpose|\n",
       "+--------------------+\n",
       "|        guaranteed!\"|\n",
       "|and if they are a...|\n",
       "|never had any tro...|\n",
       "|Bank of America c...|\n",
       "|<br/><br/>Lending...|\n",
       "|              stocks|\n",
       "|please feel free ...|\n",
       "|              brakes|\n",
       "|I became his prim...|\n",
       "|on one of the bus...|\n",
       "|because of the na...|\n",
       "|progressive multi...|\n",
       "|I have eliminated...|\n",
       "|but not much info...|\n",
       "|TutoringOne is a ...|\n",
       "|you may feel conf...|\n",
       "|so I have to pay ...|\n",
       "|Hilal Khalil Homa...|\n",
       "|000 in debt on cr...|\n",
       "|and the monthly p...|\n",
       "+--------------------+\n",
       "only showing top 20 rows"
      ]
     },
     "execution_count": 22,
     "metadata": {},
     "output_type": "execute_result"
    }
   ],
   "source": [
    "# check loan_purpose data\n",
    "spark.sql(\"select distinct(loan_purpose) from loans\")"
   ]
  },
  {
   "cell_type": "code",
   "execution_count": 23,
   "id": "c79d911b",
   "metadata": {},
   "outputs": [
    {
     "data": {
      "text/html": [
       "<table border='1'>\n",
       "<tr><th>loan_purpose</th><th>total</th></tr>\n",
       "<tr><td>debt_consolidation</td><td>1277790</td></tr>\n",
       "<tr><td>credit_card</td><td>516926</td></tr>\n",
       "<tr><td>home_improvement</td><td>150440</td></tr>\n",
       "<tr><td>other</td><td>139413</td></tr>\n",
       "<tr><td>major_purchase</td><td>50429</td></tr>\n",
       "<tr><td>medical</td><td>27481</td></tr>\n",
       "<tr><td>small_business</td><td>24659</td></tr>\n",
       "<tr><td>car</td><td>24009</td></tr>\n",
       "<tr><td>vacation</td><td>15525</td></tr>\n",
       "<tr><td>moving</td><td>15402</td></tr>\n",
       "<tr><td>house</td><td>14131</td></tr>\n",
       "<tr><td>wedding</td><td>2351</td></tr>\n",
       "<tr><td>renewable_energy</td><td>1445</td></tr>\n",
       "<tr><td>educational</td><td>412</td></tr>\n",
       "<tr><td>I have eliminated...</td><td>1</td></tr>\n",
       "<tr><td>but I&#x27;ve still go...</td><td>1</td></tr>\n",
       "<tr><td>guaranteed!&quot;</td><td>1</td></tr>\n",
       "<tr><td>stocks</td><td>1</td></tr>\n",
       "<tr><td>never had any tro...</td><td>1</td></tr>\n",
       "<tr><td>please feel free ...</td><td>1</td></tr>\n",
       "</table>\n",
       "only showing top 20 rows\n"
      ],
      "text/plain": [
       "+--------------------+-------+\n",
       "|        loan_purpose|  total|\n",
       "+--------------------+-------+\n",
       "|  debt_consolidation|1277790|\n",
       "|         credit_card| 516926|\n",
       "|    home_improvement| 150440|\n",
       "|               other| 139413|\n",
       "|      major_purchase|  50429|\n",
       "|             medical|  27481|\n",
       "|      small_business|  24659|\n",
       "|                 car|  24009|\n",
       "|            vacation|  15525|\n",
       "|              moving|  15402|\n",
       "|               house|  14131|\n",
       "|             wedding|   2351|\n",
       "|    renewable_energy|   1445|\n",
       "|         educational|    412|\n",
       "|Bank of America c...|      1|\n",
       "|you may feel conf...|      1|\n",
       "|never had any tro...|      1|\n",
       "|so I have to pay ...|      1|\n",
       "|on one of the bus...|      1|\n",
       "|because of the na...|      1|\n",
       "+--------------------+-------+\n",
       "only showing top 20 rows"
      ]
     },
     "execution_count": 23,
     "metadata": {},
     "output_type": "execute_result"
    }
   ],
   "source": [
    "# Count total number of records per loan_purpose\n",
    "spark.sql(\"select loan_purpose, count(*) as total from loans group by loan_purpose order by total desc\")"
   ]
  },
  {
   "cell_type": "markdown",
   "id": "0cbc6ce2",
   "metadata": {},
   "source": [
    "#### We can see that there are 15 meaningful loan purpose. All other datas are just non relevant, so we map these type of datas to others category as well"
   ]
  },
  {
   "cell_type": "code",
   "execution_count": 25,
   "id": "6a636327",
   "metadata": {},
   "outputs": [],
   "source": [
    "loan_purpose_lookup = [\"debt_consolidation\", \"credit_card\", \"home_improvement\", \"other\", \"major_purchase\", \"medical\", \"small_business\", \"car\", \"vacation\", \"moving\", \"house\", \"wedding\", \"renewable_energy\", \"educational\"]"
   ]
  },
  {
   "cell_type": "code",
   "execution_count": 26,
   "id": "7a17df5b",
   "metadata": {},
   "outputs": [],
   "source": [
    "from pyspark.sql.functions import when, col\n",
    "\n",
    "loan_purpose_modified_df = loan_term_modified_df.withColumn(\"loan_purpose\", \\\n",
    "                                when(col(\"loan_purpose\").isin(loan_purpose_lookup), col(\"loan_purpose\")).\\\n",
    "                                otherwise(\"other\"))"
   ]
  },
  {
   "cell_type": "code",
   "execution_count": 27,
   "id": "9c5541da",
   "metadata": {},
   "outputs": [],
   "source": [
    "loan_purpose_modified_df.createOrReplaceTempView(\"loans\")"
   ]
  },
  {
   "cell_type": "code",
   "execution_count": 30,
   "id": "0d8d1713",
   "metadata": {},
   "outputs": [
    {
     "data": {
      "text/html": [
       "<table border='1'>\n",
       "<tr><th>loan_purpose</th><th>total</th></tr>\n",
       "<tr><td>debt_consolidation</td><td>1277790</td></tr>\n",
       "<tr><td>credit_card</td><td>516926</td></tr>\n",
       "<tr><td>home_improvement</td><td>150440</td></tr>\n",
       "<tr><td>other</td><td>139667</td></tr>\n",
       "<tr><td>major_purchase</td><td>50429</td></tr>\n",
       "<tr><td>medical</td><td>27481</td></tr>\n",
       "<tr><td>small_business</td><td>24659</td></tr>\n",
       "<tr><td>car</td><td>24009</td></tr>\n",
       "<tr><td>vacation</td><td>15525</td></tr>\n",
       "<tr><td>moving</td><td>15402</td></tr>\n",
       "<tr><td>house</td><td>14131</td></tr>\n",
       "<tr><td>wedding</td><td>2351</td></tr>\n",
       "<tr><td>renewable_energy</td><td>1445</td></tr>\n",
       "<tr><td>educational</td><td>412</td></tr>\n",
       "</table>\n"
      ],
      "text/plain": [
       "+------------------+-------+\n",
       "|      loan_purpose|  total|\n",
       "+------------------+-------+\n",
       "|debt_consolidation|1277790|\n",
       "|       credit_card| 516926|\n",
       "|  home_improvement| 150440|\n",
       "|             other| 139667|\n",
       "|    major_purchase|  50429|\n",
       "|           medical|  27481|\n",
       "|    small_business|  24659|\n",
       "|               car|  24009|\n",
       "|          vacation|  15525|\n",
       "|            moving|  15402|\n",
       "|             house|  14131|\n",
       "|           wedding|   2351|\n",
       "|  renewable_energy|   1445|\n",
       "|       educational|    412|\n",
       "+------------------+-------+"
      ]
     },
     "execution_count": 30,
     "metadata": {},
     "output_type": "execute_result"
    }
   ],
   "source": [
    "spark.sql(\"select loan_purpose, count(*) as total from loans group by loan_purpose order by total desc\")"
   ]
  },
  {
   "cell_type": "markdown",
   "id": "5e8b1425",
   "metadata": {},
   "source": [
    "## Write the cleaned loan df to the datalake"
   ]
  },
  {
   "cell_type": "code",
   "execution_count": 32,
   "id": "8441bd76",
   "metadata": {},
   "outputs": [],
   "source": [
    "loan_purpose_modified_df.write \\\n",
    ".format(\"parquet\") \\\n",
    ".mode(\"overwrite\") \\\n",
    ".option(\"path\", \"/user/itv008299/lendingclubproject/cleaned/loans_parquet\") \\\n",
    ".save()"
   ]
  },
  {
   "cell_type": "code",
   "execution_count": null,
   "id": "1d6b3935",
   "metadata": {},
   "outputs": [],
   "source": [
    "loan_purpose_modified_df.write \\\n",
    ".option(\"header\", True) \\\n",
    ".format(\"csv\") \\\n",
    ".mode(\"overwrite\") \\\n",
    ".option(\"path\", \"/user/itv008299/lendingclubproject/cleaned/loans_csv\") \\\n",
    ".save()"
   ]
  }
 ],
 "metadata": {
  "kernelspec": {
   "display_name": "Pyspark 3",
   "language": "python",
   "name": "pyspark3"
  },
  "language_info": {
   "codemirror_mode": {
    "name": "ipython",
    "version": 3
   },
   "file_extension": ".py",
   "mimetype": "text/x-python",
   "name": "python",
   "nbconvert_exporter": "python",
   "pygments_lexer": "ipython3",
   "version": "3.6.12"
  }
 },
 "nbformat": 4,
 "nbformat_minor": 5
}
