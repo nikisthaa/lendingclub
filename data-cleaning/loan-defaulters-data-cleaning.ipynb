{
 "cells": [
  {
   "cell_type": "markdown",
   "id": "ca13b752",
   "metadata": {},
   "source": [
    "# Cleaning loan defaulters data\n",
    "\n",
    "## Data Cleaning Actions to Take\n",
    "\n",
    "1. Create dataframe with proper datatypes, and proper column names\n",
    "\n",
    "2. Insert a new column named as ingestion date (current time )\n",
    "\n",
    "3. Update column delinq_2yrs to int and replace nulls with zeros\n",
    "\n",
    "4. Store only member_id for those record having public records\n"
   ]
  },
  {
   "cell_type": "code",
   "execution_count": 1,
   "id": "c4f514bd",
   "metadata": {},
   "outputs": [],
   "source": [
    "# Create spark session\n",
    "import getpass\n",
    "from pyspark.sql import SparkSession\n",
    "\n",
    "\n",
    "username = getpass.getuser()\n",
    "spark = SparkSession.builder.\\\n",
    "    config('spark.shuffle.useOldFetchProtocol','true').\\\n",
    "    config('spark.ui.port', '0').\\\n",
    "    config('spark.sql.warehouse.dir', f'/user/{username}/warehouse').\\\n",
    "    enableHiveSupport().\\\n",
    "    master('yarn').\\\n",
    "    getOrCreate()"
   ]
  },
  {
   "cell_type": "code",
   "execution_count": 2,
   "id": "516a5903",
   "metadata": {},
   "outputs": [],
   "source": [
    "loan_defaulters_raw_df = spark.read\\\n",
    ".format(\"csv\")\\\n",
    ".option(\"header\", True)\\\n",
    ".option(\"inferSchema\", True)\\\n",
    ".load(\"/user/itv008299/lendingclubproject/raw/loans_defaulters_data_csv\")"
   ]
  },
  {
   "cell_type": "markdown",
   "id": "626a71ba",
   "metadata": {},
   "source": [
    "## Visualizing some columns in the data"
   ]
  },
  {
   "cell_type": "code",
   "execution_count": 3,
   "id": "be4603ee",
   "metadata": {},
   "outputs": [
    {
     "data": {
      "text/html": [
       "<table border='1'>\n",
       "<tr><th>member_id</th><th>delinq_2yrs</th><th>delinq_amnt</th><th>pub_rec</th><th>pub_rec_bankruptcies</th><th>inq_last_6mths</th><th>total_rec_late_fee</th><th>mths_since_last_delinq</th><th>mths_since_last_record</th></tr>\n",
       "<tr><td>4480925324607267c...</td><td>0.0</td><td>0.0</td><td>0.0</td><td>0.0</td><td>0.0</td><td>0.0</td><td>null</td><td>null</td></tr>\n",
       "<tr><td>b54711d4a553ea330...</td><td>0.0</td><td>0.0</td><td>1.0</td><td>0.0</td><td>1.0</td><td>0.0</td><td>null</td><td>113.0</td></tr>\n",
       "<tr><td>db06b45a938f1a3b5...</td><td>0.0</td><td>0.0</td><td>0.0</td><td>0.0</td><td>2.0</td><td>0.0</td><td>38.0</td><td>null</td></tr>\n",
       "<tr><td>ad9d9524477e85c11...</td><td>1.0</td><td>0.0</td><td>0.0</td><td>0.0</td><td>0.0</td><td>0.0</td><td>19.0</td><td>null</td></tr>\n",
       "<tr><td>c67f6ac3fea6ef46d...</td><td>0.0</td><td>0.0</td><td>1.0</td><td>1.0</td><td>0.0</td><td>0.0</td><td>null</td><td>71.0</td></tr>\n",
       "<tr><td>bb36e2cb69517fac3...</td><td>1.0</td><td>0.0</td><td>1.0</td><td>0.0</td><td>2.0</td><td>0.0</td><td>16.0</td><td>107.0</td></tr>\n",
       "<tr><td>af69a7dff814fb213...</td><td>1.0</td><td>0.0</td><td>0.0</td><td>0.0</td><td>0.0</td><td>0.0</td><td>2.0</td><td>null</td></tr>\n",
       "<tr><td>c9c794b5025e14a7d...</td><td>0.0</td><td>0.0</td><td>1.0</td><td>1.0</td><td>0.0</td><td>37.8</td><td>null</td><td>56.0</td></tr>\n",
       "<tr><td>61b48d763bd82369a...</td><td>1.0</td><td>0.0</td><td>1.0</td><td>0.0</td><td>0.0</td><td>0.0</td><td>21.0</td><td>48.0</td></tr>\n",
       "<tr><td>adc390ceaa6428ba4...</td><td>0.0</td><td>0.0</td><td>1.0</td><td>1.0</td><td>1.0</td><td>0.0</td><td>58.0</td><td>115.0</td></tr>\n",
       "<tr><td>b8591b1957416d0d0...</td><td>1.0</td><td>0.0</td><td>1.0</td><td>1.0</td><td>2.0</td><td>0.0</td><td>36.0</td><td>62.0</td></tr>\n",
       "<tr><td>edf6bc814b2514406...</td><td>0.0</td><td>0.0</td><td>0.0</td><td>0.0</td><td>1.0</td><td>34.66</td><td>66.0</td><td>null</td></tr>\n",
       "<tr><td>cbb2027fdad44e370...</td><td>0.0</td><td>0.0</td><td>0.0</td><td>0.0</td><td>1.0</td><td>0.0</td><td>null</td><td>null</td></tr>\n",
       "<tr><td>2833e66fc35f729ff...</td><td>1.0</td><td>0.0</td><td>0.0</td><td>0.0</td><td>0.0</td><td>0.0</td><td>18.0</td><td>null</td></tr>\n",
       "<tr><td>30257f9f7bb1ee5f7...</td><td>0.0</td><td>0.0</td><td>1.0</td><td>1.0</td><td>0.0</td><td>0.0</td><td>36.0</td><td>60.0</td></tr>\n",
       "<tr><td>1f9bcde5a863520ef...</td><td>0.0</td><td>0.0</td><td>0.0</td><td>0.0</td><td>2.0</td><td>0.0</td><td>null</td><td>null</td></tr>\n",
       "<tr><td>1809df0b4a0abe9b0...</td><td>0.0</td><td>0.0</td><td>0.0</td><td>0.0</td><td>0.0</td><td>0.0</td><td>72.0</td><td>null</td></tr>\n",
       "<tr><td>6da09f2e86c405a0c...</td><td>1.0</td><td>0.0</td><td>0.0</td><td>0.0</td><td>0.0</td><td>27.89</td><td>10.0</td><td>null</td></tr>\n",
       "<tr><td>0229fe984f04c4817...</td><td>0.0</td><td>0.0</td><td>0.0</td><td>0.0</td><td>1.0</td><td>0.0</td><td>null</td><td>null</td></tr>\n",
       "<tr><td>d8868b8f86fc7c7ea...</td><td>1.0</td><td>0.0</td><td>0.0</td><td>0.0</td><td>6.0</td><td>0.0</td><td>14.0</td><td>null</td></tr>\n",
       "</table>\n",
       "only showing top 20 rows\n"
      ],
      "text/plain": [
       "+--------------------+-----------+-----------+-------+--------------------+--------------+------------------+----------------------+----------------------+\n",
       "|           member_id|delinq_2yrs|delinq_amnt|pub_rec|pub_rec_bankruptcies|inq_last_6mths|total_rec_late_fee|mths_since_last_delinq|mths_since_last_record|\n",
       "+--------------------+-----------+-----------+-------+--------------------+--------------+------------------+----------------------+----------------------+\n",
       "|4480925324607267c...|        0.0|        0.0|    0.0|                 0.0|           0.0|               0.0|                  null|                  null|\n",
       "|b54711d4a553ea330...|        0.0|        0.0|    1.0|                 0.0|           1.0|               0.0|                  null|                 113.0|\n",
       "|db06b45a938f1a3b5...|        0.0|        0.0|    0.0|                 0.0|           2.0|               0.0|                  38.0|                  null|\n",
       "|ad9d9524477e85c11...|        1.0|        0.0|    0.0|                 0.0|           0.0|               0.0|                  19.0|                  null|\n",
       "|c67f6ac3fea6ef46d...|        0.0|        0.0|    1.0|                 1.0|           0.0|               0.0|                  null|                  71.0|\n",
       "|bb36e2cb69517fac3...|        1.0|        0.0|    1.0|                 0.0|           2.0|               0.0|                  16.0|                 107.0|\n",
       "|af69a7dff814fb213...|        1.0|        0.0|    0.0|                 0.0|           0.0|               0.0|                   2.0|                  null|\n",
       "|c9c794b5025e14a7d...|        0.0|        0.0|    1.0|                 1.0|           0.0|              37.8|                  null|                  56.0|\n",
       "|61b48d763bd82369a...|        1.0|        0.0|    1.0|                 0.0|           0.0|               0.0|                  21.0|                  48.0|\n",
       "|adc390ceaa6428ba4...|        0.0|        0.0|    1.0|                 1.0|           1.0|               0.0|                  58.0|                 115.0|\n",
       "|b8591b1957416d0d0...|        1.0|        0.0|    1.0|                 1.0|           2.0|               0.0|                  36.0|                  62.0|\n",
       "|edf6bc814b2514406...|        0.0|        0.0|    0.0|                 0.0|           1.0|             34.66|                  66.0|                  null|\n",
       "|cbb2027fdad44e370...|        0.0|        0.0|    0.0|                 0.0|           1.0|               0.0|                  null|                  null|\n",
       "|2833e66fc35f729ff...|        1.0|        0.0|    0.0|                 0.0|           0.0|               0.0|                  18.0|                  null|\n",
       "|30257f9f7bb1ee5f7...|        0.0|        0.0|    1.0|                 1.0|           0.0|               0.0|                  36.0|                  60.0|\n",
       "|1f9bcde5a863520ef...|        0.0|        0.0|    0.0|                 0.0|           2.0|               0.0|                  null|                  null|\n",
       "|1809df0b4a0abe9b0...|        0.0|        0.0|    0.0|                 0.0|           0.0|               0.0|                  72.0|                  null|\n",
       "|6da09f2e86c405a0c...|        1.0|        0.0|    0.0|                 0.0|           0.0|             27.89|                  10.0|                  null|\n",
       "|0229fe984f04c4817...|        0.0|        0.0|    0.0|                 0.0|           1.0|               0.0|                  null|                  null|\n",
       "|d8868b8f86fc7c7ea...|        1.0|        0.0|    0.0|                 0.0|           6.0|               0.0|                  14.0|                  null|\n",
       "+--------------------+-----------+-----------+-------+--------------------+--------------+------------------+----------------------+----------------------+\n",
       "only showing top 20 rows"
      ]
     },
     "execution_count": 3,
     "metadata": {},
     "output_type": "execute_result"
    }
   ],
   "source": [
    "loan_defaulters_raw_df"
   ]
  },
  {
   "cell_type": "code",
   "execution_count": 4,
   "id": "808085e4",
   "metadata": {},
   "outputs": [
    {
     "name": "stdout",
     "output_type": "stream",
     "text": [
      "root\n",
      " |-- member_id: string (nullable = true)\n",
      " |-- delinq_2yrs: string (nullable = true)\n",
      " |-- delinq_amnt: double (nullable = true)\n",
      " |-- pub_rec: string (nullable = true)\n",
      " |-- pub_rec_bankruptcies: double (nullable = true)\n",
      " |-- inq_last_6mths: string (nullable = true)\n",
      " |-- total_rec_late_fee: string (nullable = true)\n",
      " |-- mths_since_last_delinq: string (nullable = true)\n",
      " |-- mths_since_last_record: string (nullable = true)\n",
      "\n"
     ]
    }
   ],
   "source": [
    "loan_defaulters_raw_df.printSchema()"
   ]
  },
  {
   "cell_type": "code",
   "execution_count": 38,
   "id": "4b13af43",
   "metadata": {},
   "outputs": [],
   "source": [
    "loan_defaulters_raw_df.createOrReplaceTempView(\"loan_defaulters\")"
   ]
  },
  {
   "cell_type": "code",
   "execution_count": 39,
   "id": "c243aa7d",
   "metadata": {},
   "outputs": [
    {
     "data": {
      "text/html": [
       "<table border='1'>\n",
       "<tr><th>delinq_2yrs</th></tr>\n",
       "<tr><td>1.0</td></tr>\n",
       "<tr><td>271 monthly payme...</td></tr>\n",
       "<tr><td>I bike to work on...</td></tr>\n",
       "<tr><td>183xx</td></tr>\n",
       "<tr><td>VISA and AMEX cre...</td></tr>\n",
       "<tr><td>etc. and I feel t...</td></tr>\n",
       "<tr><td>AZ</td></tr>\n",
       "<tr><td>017xx</td></tr>\n",
       "<tr><td>923xx</td></tr>\n",
       "<tr><td>446xx</td></tr>\n",
       "<tr><td>who is a financia...</td></tr>\n",
       "<tr><td>and all of that c...</td></tr>\n",
       "<tr><td>LA</td></tr>\n",
       "<tr><td>24.66</td></tr>\n",
       "<tr><td>and the removal o...</td></tr>\n",
       "<tr><td>I would like to c...</td></tr>\n",
       "<tr><td>12.24</td></tr>\n",
       "<tr><td>22.0</td></tr>\n",
       "<tr><td>so most of my inc...</td></tr>\n",
       "<tr><td>I would like to p...</td></tr>\n",
       "</table>\n",
       "only showing top 20 rows\n"
      ],
      "text/plain": [
       "+--------------------+\n",
       "|         delinq_2yrs|\n",
       "+--------------------+\n",
       "|                 1.0|\n",
       "|271 monthly payme...|\n",
       "|I bike to work on...|\n",
       "|               183xx|\n",
       "|VISA and AMEX cre...|\n",
       "|etc. and I feel t...|\n",
       "|                  AZ|\n",
       "|               017xx|\n",
       "|               923xx|\n",
       "|               446xx|\n",
       "|who is a financia...|\n",
       "|and all of that c...|\n",
       "|                  LA|\n",
       "|               24.66|\n",
       "|and the removal o...|\n",
       "|I would like to c...|\n",
       "|               12.24|\n",
       "|                22.0|\n",
       "|so most of my inc...|\n",
       "|I would like to p...|\n",
       "+--------------------+\n",
       "only showing top 20 rows"
      ]
     },
     "execution_count": 39,
     "metadata": {},
     "output_type": "execute_result"
    }
   ],
   "source": [
    "spark.sql(\"select distinct(delinq_2yrs) from loan_defaulters\")"
   ]
  },
  {
   "cell_type": "code",
   "execution_count": 40,
   "id": "a96ce685",
   "metadata": {},
   "outputs": [
    {
     "data": {
      "text/html": [
       "<table border='1'>\n",
       "<tr><th>delinq_2yrs</th><th>total</th></tr>\n",
       "<tr><td>0.0</td><td>1838878</td></tr>\n",
       "<tr><td>1.0</td><td>281335</td></tr>\n",
       "<tr><td>2.0</td><td>81285</td></tr>\n",
       "<tr><td>3.0</td><td>29539</td></tr>\n",
       "<tr><td>4.0</td><td>13179</td></tr>\n",
       "<tr><td>5.0</td><td>6599</td></tr>\n",
       "<tr><td>6.0</td><td>3717</td></tr>\n",
       "<tr><td>7.0</td><td>2062</td></tr>\n",
       "<tr><td>8.0</td><td>1223</td></tr>\n",
       "<tr><td>9.0</td><td>818</td></tr>\n",
       "<tr><td>10.0</td><td>556</td></tr>\n",
       "<tr><td>11.0</td><td>363</td></tr>\n",
       "<tr><td>12.0</td><td>264</td></tr>\n",
       "<tr><td>13.0</td><td>165</td></tr>\n",
       "<tr><td>14.0</td><td>120</td></tr>\n",
       "<tr><td>15.0</td><td>87</td></tr>\n",
       "<tr><td>null</td><td>63</td></tr>\n",
       "<tr><td>16.0</td><td>55</td></tr>\n",
       "<tr><td>17.0</td><td>30</td></tr>\n",
       "<tr><td>18.0</td><td>30</td></tr>\n",
       "</table>\n",
       "only showing top 20 rows\n"
      ],
      "text/plain": [
       "+-----------+-------+\n",
       "|delinq_2yrs|  total|\n",
       "+-----------+-------+\n",
       "|        0.0|1838878|\n",
       "|        1.0| 281335|\n",
       "|        2.0|  81285|\n",
       "|        3.0|  29539|\n",
       "|        4.0|  13179|\n",
       "|        5.0|   6599|\n",
       "|        6.0|   3717|\n",
       "|        7.0|   2062|\n",
       "|        8.0|   1223|\n",
       "|        9.0|    818|\n",
       "|       10.0|    556|\n",
       "|       11.0|    363|\n",
       "|       12.0|    264|\n",
       "|       13.0|    165|\n",
       "|       14.0|    120|\n",
       "|       15.0|     87|\n",
       "|       null|     63|\n",
       "|       16.0|     55|\n",
       "|       18.0|     30|\n",
       "|       17.0|     30|\n",
       "+-----------+-------+\n",
       "only showing top 20 rows"
      ]
     },
     "execution_count": 40,
     "metadata": {},
     "output_type": "execute_result"
    }
   ],
   "source": [
    "spark.sql(\"select delinq_2yrs, count(*) as total from loan_defaulters group by delinq_2yrs order by total desc\")"
   ]
  },
  {
   "cell_type": "markdown",
   "id": "d1eee686",
   "metadata": {},
   "source": [
    "## 1. Change to suitable dataatypes"
   ]
  },
  {
   "cell_type": "code",
   "execution_count": 5,
   "id": "684f4afb",
   "metadata": {},
   "outputs": [],
   "source": [
    "loan_defaulters_schema = \"member_id string, delinq_2yrs float, delinq_amnt float, pub_rec float, pub_rec_bankruptcies float,inq_last_6mths float, total_rec_late_fee float, mths_since_last_delinq float, mths_since_last_record float\""
   ]
  },
  {
   "cell_type": "code",
   "execution_count": 6,
   "id": "f9ae0728",
   "metadata": {},
   "outputs": [],
   "source": [
    "loan_default_raw_df = spark.read\\\n",
    ".format(\"csv\")\\\n",
    ".option(\"header\", True)\\\n",
    ".schema(loan_defaulters_schema)\\\n",
    ".load(\"/user/itv008299/lendingclubproject/raw/loans_defaulters_data.csv\")"
   ]
  },
  {
   "cell_type": "markdown",
   "id": "121efc5d",
   "metadata": {},
   "source": [
    "## 2. Insert a new column named as ingestion date (current time )"
   ]
  },
  {
   "cell_type": "code",
   "execution_count": 11,
   "id": "04a37d14",
   "metadata": {},
   "outputs": [],
   "source": [
    "from pyspark.sql.functions import current_timestamp\n",
    "\n",
    "loans_default_ingested_df = loan_default_raw_df.withColumn(\"ingest_date\", current_timestamp())"
   ]
  },
  {
   "cell_type": "markdown",
   "id": "552c1c1a",
   "metadata": {},
   "source": [
    "## 2. Update column delinq_2yrs to int and replace nulls with zeros"
   ]
  },
  {
   "cell_type": "code",
   "execution_count": 12,
   "id": "0cd1551a",
   "metadata": {},
   "outputs": [],
   "source": [
    "loans_default_ingested_df.createOrReplaceTempView(\"loan_defaulters\")"
   ]
  },
  {
   "cell_type": "code",
   "execution_count": 8,
   "id": "a250dc02",
   "metadata": {},
   "outputs": [
    {
     "name": "stdout",
     "output_type": "stream",
     "text": [
      "+-----------+-------+\n",
      "|delinq_2yrs|  total|\n",
      "+-----------+-------+\n",
      "|        0.0|1838878|\n",
      "|        1.0| 281335|\n",
      "|        2.0|  81285|\n",
      "|        3.0|  29539|\n",
      "|        4.0|  13179|\n",
      "|        5.0|   6599|\n",
      "|        6.0|   3717|\n",
      "|        7.0|   2062|\n",
      "|        8.0|   1223|\n",
      "|        9.0|    818|\n",
      "|       10.0|    556|\n",
      "|       11.0|    363|\n",
      "|       12.0|    264|\n",
      "|       null|    261|\n",
      "|       13.0|    165|\n",
      "|       14.0|    120|\n",
      "|       15.0|     87|\n",
      "|       16.0|     55|\n",
      "|       17.0|     30|\n",
      "|       18.0|     30|\n",
      "|       19.0|     23|\n",
      "|       20.0|     17|\n",
      "|       21.0|     12|\n",
      "|       22.0|      5|\n",
      "|       24.0|      4|\n",
      "|       26.0|      3|\n",
      "|       29.0|      2|\n",
      "|       25.0|      2|\n",
      "|       23.0|      2|\n",
      "|       3.44|      2|\n",
      "|       30.0|      2|\n",
      "|       3.45|      1|\n",
      "|      13.76|      1|\n",
      "|      21.72|      1|\n",
      "|       6.52|      1|\n",
      "|      26.24|      1|\n",
      "|       9.44|      1|\n",
      "|       5.52|      1|\n",
      "|      22.95|      1|\n",
      "|      22.62|      1|\n",
      "+-----------+-------+\n",
      "only showing top 40 rows\n",
      "\n"
     ]
    }
   ],
   "source": [
    "spark.sql(\"select delinq_2yrs, count(*) as total from loan_defaulters group by delinq_2yrs order by total desc\").show(40)"
   ]
  },
  {
   "cell_type": "code",
   "execution_count": 13,
   "id": "ddf09198",
   "metadata": {},
   "outputs": [],
   "source": [
    "from pyspark.sql.functions import col\n",
    "\n",
    "loan_default_filtered_df = loans_default_ingested_df.withColumn(\"delinq_2yrs\", col(\"delinq_2yrs\").cast(\"integer\")).fillna(0, subset = [\"delinq_2yrs\"])"
   ]
  },
  {
   "cell_type": "markdown",
   "id": "d1b816c4",
   "metadata": {},
   "source": [
    "## 3. Store only details of person who have defaulted"
   ]
  },
  {
   "cell_type": "code",
   "execution_count": 14,
   "id": "f123e9b4",
   "metadata": {},
   "outputs": [],
   "source": [
    "loan_default_filtered_df.createOrReplaceTempView(\"loan_defaulters\")"
   ]
  },
  {
   "cell_type": "code",
   "execution_count": 16,
   "id": "2cdfc56d",
   "metadata": {},
   "outputs": [],
   "source": [
    "loans_def_delinq_df = spark.sql(\"select member_id, delinq_2yrs, delinq_amnt, int(mths_since_last_delinq), ingest_date from loan_defaulters where delinq_2yrs >0 and mths_since_last_delinq > 0\")"
   ]
  },
  {
   "cell_type": "code",
   "execution_count": 17,
   "id": "0ff1c7d4",
   "metadata": {},
   "outputs": [
    {
     "data": {
      "text/html": [
       "<table border='1'>\n",
       "<tr><th>member_id</th><th>delinq_2yrs</th><th>delinq_amnt</th><th>mths_since_last_delinq</th><th>ingest_date</th></tr>\n",
       "<tr><td>202d9f56ecb7c3bc9...</td><td>1</td><td>0.0</td><td>6</td><td>2023-11-08 17:29:...</td></tr>\n",
       "<tr><td>1b3a50d854fbbf97e...</td><td>1</td><td>0.0</td><td>21</td><td>2023-11-08 17:29:...</td></tr>\n",
       "<tr><td>9847d8c1e9d0b2084...</td><td>1</td><td>0.0</td><td>6</td><td>2023-11-08 17:29:...</td></tr>\n",
       "<tr><td>6f196952e71277fd4...</td><td>4</td><td>0.0</td><td>5</td><td>2023-11-08 17:29:...</td></tr>\n",
       "<tr><td>9c617cbc6e3e3d6a1...</td><td>1</td><td>0.0</td><td>20</td><td>2023-11-08 17:29:...</td></tr>\n",
       "<tr><td>8ff4d0ed17a1cab92...</td><td>1</td><td>0.0</td><td>15</td><td>2023-11-08 17:29:...</td></tr>\n",
       "<tr><td>aec13cfd611b2cfea...</td><td>1</td><td>0.0</td><td>19</td><td>2023-11-08 17:29:...</td></tr>\n",
       "<tr><td>af7a8a661df3318bd...</td><td>2</td><td>0.0</td><td>7</td><td>2023-11-08 17:29:...</td></tr>\n",
       "<tr><td>176d6002f8f60ea33...</td><td>1</td><td>1850.0</td><td>1</td><td>2023-11-08 17:29:...</td></tr>\n",
       "<tr><td>2a589bfc0ceedd44d...</td><td>1</td><td>0.0</td><td>1</td><td>2023-11-08 17:29:...</td></tr>\n",
       "<tr><td>0faad9eafd79cdb0f...</td><td>1</td><td>0.0</td><td>17</td><td>2023-11-08 17:29:...</td></tr>\n",
       "<tr><td>c667c98df57c9e1fd...</td><td>4</td><td>0.0</td><td>10</td><td>2023-11-08 17:29:...</td></tr>\n",
       "<tr><td>486b79f40a3a8ed72...</td><td>1</td><td>0.0</td><td>14</td><td>2023-11-08 17:29:...</td></tr>\n",
       "<tr><td>a1446f02aa29aaafa...</td><td>1</td><td>0.0</td><td>5</td><td>2023-11-08 17:29:...</td></tr>\n",
       "<tr><td>9768305c49441eb4e...</td><td>1</td><td>0.0</td><td>12</td><td>2023-11-08 17:29:...</td></tr>\n",
       "<tr><td>bb636703e3c8bfc86...</td><td>1</td><td>0.0</td><td>17</td><td>2023-11-08 17:29:...</td></tr>\n",
       "<tr><td>39c33b1a817cc1b2f...</td><td>1</td><td>0.0</td><td>16</td><td>2023-11-08 17:29:...</td></tr>\n",
       "<tr><td>89cb1445a8d029377...</td><td>1</td><td>0.0</td><td>13</td><td>2023-11-08 17:29:...</td></tr>\n",
       "<tr><td>dad01217ec5d81d7b...</td><td>1</td><td>0.0</td><td>10</td><td>2023-11-08 17:29:...</td></tr>\n",
       "<tr><td>0b400437eb7a0767a...</td><td>1</td><td>0.0</td><td>22</td><td>2023-11-08 17:29:...</td></tr>\n",
       "</table>\n",
       "only showing top 20 rows\n"
      ],
      "text/plain": [
       "+--------------------+-----------+-----------+----------------------+--------------------+\n",
       "|           member_id|delinq_2yrs|delinq_amnt|mths_since_last_delinq|         ingest_date|\n",
       "+--------------------+-----------+-----------+----------------------+--------------------+\n",
       "|202d9f56ecb7c3bc9...|          1|        0.0|                     6|2023-11-08 17:29:...|\n",
       "|1b3a50d854fbbf97e...|          1|        0.0|                    21|2023-11-08 17:29:...|\n",
       "|9847d8c1e9d0b2084...|          1|        0.0|                     6|2023-11-08 17:29:...|\n",
       "|6f196952e71277fd4...|          4|        0.0|                     5|2023-11-08 17:29:...|\n",
       "|9c617cbc6e3e3d6a1...|          1|        0.0|                    20|2023-11-08 17:29:...|\n",
       "|8ff4d0ed17a1cab92...|          1|        0.0|                    15|2023-11-08 17:29:...|\n",
       "|aec13cfd611b2cfea...|          1|        0.0|                    19|2023-11-08 17:29:...|\n",
       "|af7a8a661df3318bd...|          2|        0.0|                     7|2023-11-08 17:29:...|\n",
       "|176d6002f8f60ea33...|          1|     1850.0|                     1|2023-11-08 17:29:...|\n",
       "|2a589bfc0ceedd44d...|          1|        0.0|                     1|2023-11-08 17:29:...|\n",
       "|0faad9eafd79cdb0f...|          1|        0.0|                    17|2023-11-08 17:29:...|\n",
       "|c667c98df57c9e1fd...|          4|        0.0|                    10|2023-11-08 17:29:...|\n",
       "|486b79f40a3a8ed72...|          1|        0.0|                    14|2023-11-08 17:29:...|\n",
       "|a1446f02aa29aaafa...|          1|        0.0|                     5|2023-11-08 17:29:...|\n",
       "|9768305c49441eb4e...|          1|        0.0|                    12|2023-11-08 17:29:...|\n",
       "|bb636703e3c8bfc86...|          1|        0.0|                    17|2023-11-08 17:29:...|\n",
       "|39c33b1a817cc1b2f...|          1|        0.0|                    16|2023-11-08 17:29:...|\n",
       "|89cb1445a8d029377...|          1|        0.0|                    13|2023-11-08 17:29:...|\n",
       "|dad01217ec5d81d7b...|          1|        0.0|                    10|2023-11-08 17:29:...|\n",
       "|0b400437eb7a0767a...|          1|        0.0|                    22|2023-11-08 17:29:...|\n",
       "+--------------------+-----------+-----------+----------------------+--------------------+\n",
       "only showing top 20 rows"
      ]
     },
     "execution_count": 17,
     "metadata": {},
     "output_type": "execute_result"
    }
   ],
   "source": [
    "loans_def_delinq_df"
   ]
  },
  {
   "cell_type": "markdown",
   "id": "7032a00f",
   "metadata": {},
   "source": [
    "## 4. Store only member_id for those record having public records"
   ]
  },
  {
   "cell_type": "code",
   "execution_count": 18,
   "id": "3483d54d",
   "metadata": {},
   "outputs": [],
   "source": [
    "loans_def_record_delinq_df = spark.sql(\"select member_id from loan_defaulters where pub_rec > 0.0 or pub_rec_bankruptcies > 0.0 or inq_last_6mths > 0.0\")"
   ]
  },
  {
   "cell_type": "markdown",
   "id": "eecf2b0f",
   "metadata": {},
   "source": [
    "## Write cleaned data into datalake"
   ]
  },
  {
   "cell_type": "code",
   "execution_count": 23,
   "id": "129e2fa3",
   "metadata": {},
   "outputs": [],
   "source": [
    "loans_def_delinq_df.write\\\n",
    ".format(\"parquet\")\\\n",
    ".mode(\"overwrite\")\\\n",
    ".option(\"path\", \"/user/itv008299/lendingclubproject/cleaned/loan_defaulters_delinq_parquet\")\\\n",
    ".save()"
   ]
  },
  {
   "cell_type": "code",
   "execution_count": 22,
   "id": "7868169b",
   "metadata": {},
   "outputs": [],
   "source": [
    "loans_def_delinq_df.write\\\n",
    ".option(\"header\", True) \\\n",
    ".format(\"csv\")\\\n",
    ".mode(\"overwrite\")\\\n",
    ".option(\"path\", \"/user/itv008299/lendingclubproject/cleaned/loan_defaulters_delinq_csv\")\\\n",
    ".save()"
   ]
  },
  {
   "cell_type": "code",
   "execution_count": 24,
   "id": "add6a2bc",
   "metadata": {},
   "outputs": [],
   "source": [
    "loans_def_record_delinq_df.write\\\n",
    ".format(\"parquet\")\\\n",
    ".mode(\"overwrite\")\\\n",
    ".option(\"path\", \"/user/itv008299/lendingclubproject/cleaned/loan_defaulters_records_enq_parquet\")\\\n",
    ".save()"
   ]
  },
  {
   "cell_type": "code",
   "execution_count": 25,
   "id": "ad5a3685",
   "metadata": {},
   "outputs": [],
   "source": [
    "loans_def_record_delinq_df.write\\\n",
    ".option(\"header\", True) \\\n",
    ".format(\"csv\")\\\n",
    ".mode(\"overwrite\")\\\n",
    ".option(\"path\", \"/user/itv008299/lendingclubproject/cleaned/loan_defaulters_records_enq_csv\")\\\n",
    ".save()"
   ]
  },
  {
   "cell_type": "markdown",
   "id": "7620e720",
   "metadata": {},
   "source": [
    "## Client Requirement Updated Scenario\n",
    "\n",
    "Before we were only storing member_id for those members who had social inquiry of any kind. Now, based on furhter analysis and communication, client want us to add extra details regarding the enquiry, as it is seen to be useful for calculating loan score"
   ]
  },
  {
   "cell_type": "code",
   "execution_count": 26,
   "id": "e324df2f",
   "metadata": {},
   "outputs": [],
   "source": [
    "loans_def_detail_record_delinq_df = spark.sql(\"select member_id, pub_rec, pub_rec_bankruptcies, inq_last_6mths, ingest_date from loan_defaulters where pub_rec > 0.0 or pub_rec_bankruptcies > 0.0 or inq_last_6mths > 0.0\")"
   ]
  },
  {
   "cell_type": "code",
   "execution_count": 27,
   "id": "edb50236",
   "metadata": {},
   "outputs": [],
   "source": [
    "loans_def_processed_public_record_df = loans_def_detail_record_delinq_df.withColumn(\"pub_rec\", col(\"pub_rec\").cast(\"integer\")).fillna(0, subset = [\"pub_rec\"])"
   ]
  },
  {
   "cell_type": "code",
   "execution_count": 28,
   "id": "e448fb90",
   "metadata": {},
   "outputs": [],
   "source": [
    "loans_def_processed_public_record_bankruptcies_df = loans_def_processed_public_record_df.withColumn(\"pub_rec_bankruptcies\", col(\"pub_rec_bankruptcies\").cast(\"integer\")).fillna(0, subset = [\"pub_rec_bankruptcies\"])"
   ]
  },
  {
   "cell_type": "code",
   "execution_count": 29,
   "id": "3bd0e693",
   "metadata": {},
   "outputs": [],
   "source": [
    "loans_def_processed_public_record_inq6mths_df = loans_def_processed_public_record_bankruptcies_df.withColumn(\"inq_last_6mths\", col(\"inq_last_6mths\").cast(\"integer\")).fillna(0, subset = [\"inq_last_6mths\"])"
   ]
  },
  {
   "cell_type": "code",
   "execution_count": 30,
   "id": "56a4a536",
   "metadata": {},
   "outputs": [],
   "source": [
    "loans_def_processed_public_record_inq6mths_df.createOrReplaceTempView(\"loan_defaulters\")"
   ]
  },
  {
   "cell_type": "code",
   "execution_count": 31,
   "id": "4b1a7feb",
   "metadata": {},
   "outputs": [],
   "source": [
    "loans_def_detail_record_final_df = spark.sql(\"select member_id, pub_rec, pub_rec_bankruptcies, inq_last_6mths, ingest_date from loan_defaulters\")"
   ]
  },
  {
   "cell_type": "code",
   "execution_count": 32,
   "id": "b920a937",
   "metadata": {},
   "outputs": [],
   "source": [
    "loans_def_detail_record_final_df.write\\\n",
    ".format(\"parquet\")\\\n",
    ".mode(\"overwrite\")\\\n",
    ".option(\"path\", \"/user/itv008299/lendingclubproject/cleaned/loan_defaulters_detail_records_enq_parquet\")\\\n",
    ".save()"
   ]
  },
  {
   "cell_type": "code",
   "execution_count": 34,
   "id": "d2555469",
   "metadata": {},
   "outputs": [],
   "source": [
    "loans_def_detail_record_final_df.write\\\n",
    ".option(\"header\", True)\\\n",
    ".format(\"csv\")\\\n",
    ".mode(\"overwrite\")\\\n",
    ".option(\"path\", \"/user/itv008299/lendingclubproject/cleaned/loan_defaulters_detail_records_enq_csv\")\\\n",
    ".save()"
   ]
  },
  {
   "cell_type": "code",
   "execution_count": 35,
   "id": "ac39857e",
   "metadata": {},
   "outputs": [],
   "source": [
    "spark.stop()"
   ]
  }
 ],
 "metadata": {
  "kernelspec": {
   "display_name": "Pyspark 3",
   "language": "python",
   "name": "pyspark3"
  },
  "language_info": {
   "codemirror_mode": {
    "name": "ipython",
    "version": 3
   },
   "file_extension": ".py",
   "mimetype": "text/x-python",
   "name": "python",
   "nbconvert_exporter": "python",
   "pygments_lexer": "ipython3",
   "version": "3.6.12"
  }
 },
 "nbformat": 4,
 "nbformat_minor": 5
}
