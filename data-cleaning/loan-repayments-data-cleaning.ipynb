{
 "cells": [
  {
   "cell_type": "markdown",
   "id": "2cfa0d48",
   "metadata": {},
   "source": [
    "# Cleaning loan repayments data\n",
    "\n",
    "## Data Cleaning Actions to Take\n",
    "\n",
    "1. Create dataframe with proper datatypes, and proper column names\n",
    "\n",
    "2. Insert a new column named as ingestion date (current time )\n",
    "\n",
    "3. Drop any nulls\n",
    "\n",
    "4. Check if total_payment_received is zero, and total_principal_received is not zero. If there is such row then replace the value with sum of total_principal_received, total_interest_received, and total_late_fee_received\n",
    "\n",
    "5. Modify loan purpose other than in look up to Others"
   ]
  },
  {
   "cell_type": "code",
   "execution_count": null,
   "id": "adaadeac",
   "metadata": {},
   "outputs": [],
   "source": [
    "# Create spark session\n",
    "import getpass\n",
    "from pyspark.sql import SparkSession\n",
    "\n",
    "\n",
    "username = getpass.getuser()\n",
    "spark = SparkSession.builder.\\\n",
    "    config('spark.shuffle.useOldFetchProtocol','true').\\\n",
    "    config('spark.ui.port', '0').\\\n",
    "    config('spark.sql.warehouse.dir', f'/user/{username}/warehouse').\\\n",
    "    enableHiveSupport().\\\n",
    "    master('yarn').\\\n",
    "    getOrCreate()"
   ]
  },
  {
   "cell_type": "code",
   "execution_count": 2,
   "id": "117fc5f1",
   "metadata": {},
   "outputs": [],
   "source": [
    "loans_repay_raw_df = spark.read \\\n",
    ".format(\"csv\") \\\n",
    ".option(\"header\",True) \\\n",
    ".option(\"inferSchema\", True) \\\n",
    ".load(\"/user/itv008299/lendingclubproject/raw/loans_repayments_data_csv\")"
   ]
  },
  {
   "cell_type": "code",
   "execution_count": 3,
   "id": "399fe7fd",
   "metadata": {},
   "outputs": [
    {
     "name": "stdout",
     "output_type": "stream",
     "text": [
      "root\n",
      " |-- loan_id: string (nullable = true)\n",
      " |-- total_rec_prncp: string (nullable = true)\n",
      " |-- total_rec_int: string (nullable = true)\n",
      " |-- total_rec_late_fee: string (nullable = true)\n",
      " |-- total_pymnt: string (nullable = true)\n",
      " |-- last_pymnt_amnt: string (nullable = true)\n",
      " |-- last_pymnt_d: string (nullable = true)\n",
      " |-- next_pymnt_d: string (nullable = true)\n",
      "\n"
     ]
    }
   ],
   "source": [
    "loans_repay_raw_df.printSchema()"
   ]
  },
  {
   "cell_type": "code",
   "execution_count": 4,
   "id": "3adffc98",
   "metadata": {},
   "outputs": [],
   "source": [
    "loans_repay_schema = \"\"\"loan_id string, total_principal_received float, \n",
    "total_interest_received float, total_late_fee_received float, total_payment_received float,\n",
    "last_payment_amount float, last_payment_date string, next_payment_date string\"\"\""
   ]
  },
  {
   "cell_type": "code",
   "execution_count": 5,
   "id": "55ead539",
   "metadata": {},
   "outputs": [],
   "source": [
    "loans_repay_raw_df = spark.read \\\n",
    ".format(\"csv\") \\\n",
    ".option(\"header\",True) \\\n",
    ".schema(loans_repay_schema) \\\n",
    ".load(\"/user/itv008299/lendingclubproject/raw/loans_repayments_data_csv\")"
   ]
  },
  {
   "cell_type": "code",
   "execution_count": 6,
   "id": "16310a38",
   "metadata": {},
   "outputs": [
    {
     "name": "stdout",
     "output_type": "stream",
     "text": [
      "root\n",
      " |-- loan_id: string (nullable = true)\n",
      " |-- total_principal_received: float (nullable = true)\n",
      " |-- total_interest_received: float (nullable = true)\n",
      " |-- total_late_fee_received: float (nullable = true)\n",
      " |-- total_payment_received: float (nullable = true)\n",
      " |-- last_payment_amount: float (nullable = true)\n",
      " |-- last_payment_date: string (nullable = true)\n",
      " |-- next_payment_date: string (nullable = true)\n",
      "\n"
     ]
    }
   ],
   "source": [
    "loans_repay_raw_df.printSchema()"
   ]
  },
  {
   "cell_type": "markdown",
   "id": "3ef9ab67",
   "metadata": {},
   "source": [
    "## 2. Insert a new column named as ingestion date (current time )"
   ]
  },
  {
   "cell_type": "code",
   "execution_count": 7,
   "id": "41352fda",
   "metadata": {},
   "outputs": [],
   "source": [
    "from pyspark.sql.functions import current_timestamp\n",
    "\n",
    "loans_repay_df_ingestd = loans_repay_raw_df.withColumn(\"ingest_date\", current_timestamp())"
   ]
  },
  {
   "cell_type": "code",
   "execution_count": 8,
   "id": "aa3eecb1",
   "metadata": {},
   "outputs": [
    {
     "data": {
      "text/html": [
       "<table border='1'>\n",
       "<tr><th>loan_id</th><th>total_principal_received</th><th>total_interest_received</th><th>total_late_fee_received</th><th>total_payment_received</th><th>last_payment_amount</th><th>last_payment_date</th><th>next_payment_date</th><th>ingest_date</th></tr>\n",
       "<tr><td>68407277</td><td>3600.0</td><td>821.72</td><td>0.0</td><td>4421.724</td><td>122.67</td><td>Jan-2019</td><td>null</td><td>2023-11-08 17:02:...</td></tr>\n",
       "<tr><td>68355089</td><td>24700.0</td><td>979.66</td><td>0.0</td><td>25679.66</td><td>926.35</td><td>Jun-2016</td><td>null</td><td>2023-11-08 17:02:...</td></tr>\n",
       "<tr><td>68341763</td><td>20000.0</td><td>2705.92</td><td>0.0</td><td>22705.924</td><td>15813.3</td><td>Jun-2017</td><td>null</td><td>2023-11-08 17:02:...</td></tr>\n",
       "<tr><td>66310712</td><td>19102.35</td><td>12361.66</td><td>0.0</td><td>31464.01</td><td>829.9</td><td>Feb-2019</td><td>Apr-2019</td><td>2023-11-08 17:02:...</td></tr>\n",
       "<tr><td>68476807</td><td>10400.0</td><td>1340.5</td><td>0.0</td><td>11740.5</td><td>10128.96</td><td>Jul-2016</td><td>null</td><td>2023-11-08 17:02:...</td></tr>\n",
       "<tr><td>68426831</td><td>11950.0</td><td>1758.95</td><td>0.0</td><td>13708.948</td><td>7653.56</td><td>May-2017</td><td>null</td><td>2023-11-08 17:02:...</td></tr>\n",
       "<tr><td>68476668</td><td>20000.0</td><td>1393.8</td><td>0.0</td><td>21393.8</td><td>15681.05</td><td>Nov-2016</td><td>null</td><td>2023-11-08 17:02:...</td></tr>\n",
       "<tr><td>67275481</td><td>20000.0</td><td>1538.51</td><td>0.0</td><td>21538.51</td><td>14618.23</td><td>Jan-2017</td><td>null</td><td>2023-11-08 17:02:...</td></tr>\n",
       "<tr><td>68466926</td><td>10000.0</td><td>998.97</td><td>0.0</td><td>10998.972</td><td>1814.48</td><td>Aug-2018</td><td>null</td><td>2023-11-08 17:02:...</td></tr>\n",
       "<tr><td>68616873</td><td>8000.0</td><td>939.58</td><td>0.0</td><td>8939.58</td><td>4996.24</td><td>Apr-2017</td><td>null</td><td>2023-11-08 17:02:...</td></tr>\n",
       "<tr><td>68356421</td><td>12487.12</td><td>6788.21</td><td>0.0</td><td>19275.33</td><td>508.3</td><td>Feb-2019</td><td>Apr-2019</td><td>2023-11-08 17:02:...</td></tr>\n",
       "<tr><td>68426545</td><td>8919.3</td><td>4848.74</td><td>0.0</td><td>13768.04</td><td>363.07</td><td>Feb-2019</td><td>Apr-2019</td><td>2023-11-08 17:02:...</td></tr>\n",
       "<tr><td>68338832</td><td>1400.0</td><td>175.16</td><td>0.0</td><td>1575.1606</td><td>965.36</td><td>Mar-2017</td><td>null</td><td>2023-11-08 17:02:...</td></tr>\n",
       "<tr><td>66624733</td><td>3481.86</td><td>4351.98</td><td>0.0</td><td>9452.74</td><td>471.7</td><td>May-2017</td><td>null</td><td>2023-11-08 17:02:...</td></tr>\n",
       "<tr><td>68466961</td><td>28000.0</td><td>1939.02</td><td>0.0</td><td>29939.018</td><td>17093.51</td><td>May-2017</td><td>null</td><td>2023-11-08 17:02:...</td></tr>\n",
       "<tr><td>68354783</td><td>9600.0</td><td>1036.1</td><td>0.0</td><td>10636.099</td><td>3480.17</td><td>Feb-2018</td><td>null</td><td>2023-11-08 17:02:...</td></tr>\n",
       "<tr><td>68466916</td><td>25000.0</td><td>1224.23</td><td>0.0</td><td>26224.23</td><td>20807.39</td><td>Sep-2016</td><td>null</td><td>2023-11-08 17:02:...</td></tr>\n",
       "<tr><td>68577849</td><td>18000.0</td><td>387.22</td><td>0.0</td><td>18387.22</td><td>18004.9</td><td>Mar-2016</td><td>null</td><td>2023-11-08 17:02:...</td></tr>\n",
       "<tr><td>68506798</td><td>13419.8</td><td>4480.34</td><td>0.0</td><td>17900.14</td><td>471.77</td><td>Feb-2019</td><td>Apr-2019</td><td>2023-11-08 17:02:...</td></tr>\n",
       "<tr><td>68495092</td><td>8650.0</td><td>540.49</td><td>0.0</td><td>9190.49</td><td>8251.42</td><td>May-2016</td><td>null</td><td>2023-11-08 17:02:...</td></tr>\n",
       "</table>\n",
       "only showing top 20 rows\n"
      ],
      "text/plain": [
       "+--------+------------------------+-----------------------+-----------------------+----------------------+-------------------+-----------------+-----------------+--------------------+\n",
       "| loan_id|total_principal_received|total_interest_received|total_late_fee_received|total_payment_received|last_payment_amount|last_payment_date|next_payment_date|         ingest_date|\n",
       "+--------+------------------------+-----------------------+-----------------------+----------------------+-------------------+-----------------+-----------------+--------------------+\n",
       "|68407277|                  3600.0|                 821.72|                    0.0|              4421.724|             122.67|         Jan-2019|             null|2023-11-08 17:02:...|\n",
       "|68355089|                 24700.0|                 979.66|                    0.0|              25679.66|             926.35|         Jun-2016|             null|2023-11-08 17:02:...|\n",
       "|68341763|                 20000.0|                2705.92|                    0.0|             22705.924|            15813.3|         Jun-2017|             null|2023-11-08 17:02:...|\n",
       "|66310712|                19102.35|               12361.66|                    0.0|              31464.01|              829.9|         Feb-2019|         Apr-2019|2023-11-08 17:02:...|\n",
       "|68476807|                 10400.0|                 1340.5|                    0.0|               11740.5|           10128.96|         Jul-2016|             null|2023-11-08 17:02:...|\n",
       "|68426831|                 11950.0|                1758.95|                    0.0|             13708.948|            7653.56|         May-2017|             null|2023-11-08 17:02:...|\n",
       "|68476668|                 20000.0|                 1393.8|                    0.0|               21393.8|           15681.05|         Nov-2016|             null|2023-11-08 17:02:...|\n",
       "|67275481|                 20000.0|                1538.51|                    0.0|              21538.51|           14618.23|         Jan-2017|             null|2023-11-08 17:02:...|\n",
       "|68466926|                 10000.0|                 998.97|                    0.0|             10998.972|            1814.48|         Aug-2018|             null|2023-11-08 17:02:...|\n",
       "|68616873|                  8000.0|                 939.58|                    0.0|               8939.58|            4996.24|         Apr-2017|             null|2023-11-08 17:02:...|\n",
       "|68356421|                12487.12|                6788.21|                    0.0|              19275.33|              508.3|         Feb-2019|         Apr-2019|2023-11-08 17:02:...|\n",
       "|68426545|                  8919.3|                4848.74|                    0.0|              13768.04|             363.07|         Feb-2019|         Apr-2019|2023-11-08 17:02:...|\n",
       "|68338832|                  1400.0|                 175.16|                    0.0|             1575.1606|             965.36|         Mar-2017|             null|2023-11-08 17:02:...|\n",
       "|66624733|                 3481.86|                4351.98|                    0.0|               9452.74|              471.7|         May-2017|             null|2023-11-08 17:02:...|\n",
       "|68466961|                 28000.0|                1939.02|                    0.0|             29939.018|           17093.51|         May-2017|             null|2023-11-08 17:02:...|\n",
       "|68354783|                  9600.0|                 1036.1|                    0.0|             10636.099|            3480.17|         Feb-2018|             null|2023-11-08 17:02:...|\n",
       "|68466916|                 25000.0|                1224.23|                    0.0|              26224.23|           20807.39|         Sep-2016|             null|2023-11-08 17:02:...|\n",
       "|68577849|                 18000.0|                 387.22|                    0.0|              18387.22|            18004.9|         Mar-2016|             null|2023-11-08 17:02:...|\n",
       "|68506798|                 13419.8|                4480.34|                    0.0|              17900.14|             471.77|         Feb-2019|         Apr-2019|2023-11-08 17:02:...|\n",
       "|68495092|                  8650.0|                 540.49|                    0.0|               9190.49|            8251.42|         May-2016|             null|2023-11-08 17:02:...|\n",
       "+--------+------------------------+-----------------------+-----------------------+----------------------+-------------------+-----------------+-----------------+--------------------+\n",
       "only showing top 20 rows"
      ]
     },
     "execution_count": 8,
     "metadata": {},
     "output_type": "execute_result"
    }
   ],
   "source": [
    "loans_repay_df_ingestd"
   ]
  },
  {
   "cell_type": "markdown",
   "id": "31241c56",
   "metadata": {},
   "source": [
    "## 3. Drop any nulls"
   ]
  },
  {
   "cell_type": "code",
   "execution_count": 9,
   "id": "a01b3baa",
   "metadata": {},
   "outputs": [],
   "source": [
    "loans_repay_df_ingestd.createOrReplaceTempView(\"loan_repayments\")"
   ]
  },
  {
   "cell_type": "code",
   "execution_count": 10,
   "id": "9451767f",
   "metadata": {},
   "outputs": [
    {
     "data": {
      "text/html": [
       "<table border='1'>\n",
       "<tr><th>count(1)</th></tr>\n",
       "<tr><td>69</td></tr>\n",
       "</table>\n"
      ],
      "text/plain": [
       "+--------+\n",
       "|count(1)|\n",
       "+--------+\n",
       "|      69|\n",
       "+--------+"
      ]
     },
     "execution_count": 10,
     "metadata": {},
     "output_type": "execute_result"
    }
   ],
   "source": [
    "# check few columns if null exists\n",
    "spark.sql(\"select count(*) from loan_repayments where total_principal_received is null\")"
   ]
  },
  {
   "cell_type": "code",
   "execution_count": 11,
   "id": "b565a8eb",
   "metadata": {},
   "outputs": [],
   "source": [
    "columns_to_check = [\"total_principal_received\", \"total_interest_received\", \"total_late_fee_received\", \"total_payment_received\", \"last_payment_amount\"]"
   ]
  },
  {
   "cell_type": "code",
   "execution_count": 12,
   "id": "8006eb05",
   "metadata": {},
   "outputs": [],
   "source": [
    "loans_repay_filtered_df = loans_repay_df_ingestd.na.drop(subset=columns_to_check)"
   ]
  },
  {
   "cell_type": "markdown",
   "id": "82f8b304",
   "metadata": {},
   "source": [
    "## 4. Check if total_payment_received is zero, and total_principal_received is not zero. If there is such row then replace the value with sum of total_principal_received, total_interest_received, and total_late_fee_received"
   ]
  },
  {
   "cell_type": "code",
   "execution_count": 13,
   "id": "d866df46",
   "metadata": {},
   "outputs": [],
   "source": [
    "loans_repay_filtered_df.createOrReplaceTempView(\"loan_repayments\")"
   ]
  },
  {
   "cell_type": "code",
   "execution_count": 15,
   "id": "3ea6dda2",
   "metadata": {},
   "outputs": [
    {
     "data": {
      "text/html": [
       "<table border='1'>\n",
       "<tr><th>count(1)</th></tr>\n",
       "<tr><td>995</td></tr>\n",
       "</table>\n"
      ],
      "text/plain": [
       "+--------+\n",
       "|count(1)|\n",
       "+--------+\n",
       "|     995|\n",
       "+--------+"
      ]
     },
     "execution_count": 15,
     "metadata": {},
     "output_type": "execute_result"
    }
   ],
   "source": [
    "spark.sql(\"select count(*) from loan_repayments where total_payment_received = 0.0\")"
   ]
  },
  {
   "cell_type": "code",
   "execution_count": 14,
   "id": "69011066",
   "metadata": {},
   "outputs": [
    {
     "data": {
      "text/html": [
       "<table border='1'>\n",
       "<tr><th>count(1)</th></tr>\n",
       "<tr><td>46</td></tr>\n",
       "</table>\n"
      ],
      "text/plain": [
       "+--------+\n",
       "|count(1)|\n",
       "+--------+\n",
       "|      46|\n",
       "+--------+"
      ]
     },
     "execution_count": 14,
     "metadata": {},
     "output_type": "execute_result"
    }
   ],
   "source": [
    "spark.sql(\"select count(*) from loan_repayments where total_payment_received = 0.0 and total_principal_received > 0.0\")"
   ]
  },
  {
   "cell_type": "code",
   "execution_count": 17,
   "id": "fb356eca",
   "metadata": {},
   "outputs": [],
   "source": [
    "from pyspark.sql.functions import when, col\n",
    "\n",
    "loans_payments_fixed_df = loans_repay_filtered_df.withColumn(\n",
    "   \"total_payment_received\",\n",
    "    when(\n",
    "        (col(\"total_principal_received\") != 0.0) &\n",
    "        (col(\"total_payment_received\") == 0.0),\n",
    "        col(\"total_principal_received\") + col(\"total_interest_received\") + col(\"total_late_fee_received\")\n",
    "    ).otherwise(col(\"total_payment_received\"))\n",
    ")"
   ]
  },
  {
   "cell_type": "code",
   "execution_count": 18,
   "id": "3365bdb7",
   "metadata": {},
   "outputs": [
    {
     "data": {
      "text/html": [
       "<table border='1'>\n",
       "<tr><th>loan_id</th><th>total_principal_received</th><th>total_interest_received</th><th>total_late_fee_received</th><th>total_payment_received</th><th>last_payment_amount</th><th>last_payment_date</th><th>next_payment_date</th><th>ingest_date</th></tr>\n",
       "<tr><td>68407277</td><td>3600.0</td><td>821.72</td><td>0.0</td><td>4421.724</td><td>122.67</td><td>Jan-2019</td><td>null</td><td>2023-11-08 17:13:...</td></tr>\n",
       "<tr><td>68355089</td><td>24700.0</td><td>979.66</td><td>0.0</td><td>25679.66</td><td>926.35</td><td>Jun-2016</td><td>null</td><td>2023-11-08 17:13:...</td></tr>\n",
       "<tr><td>68341763</td><td>20000.0</td><td>2705.92</td><td>0.0</td><td>22705.924</td><td>15813.3</td><td>Jun-2017</td><td>null</td><td>2023-11-08 17:13:...</td></tr>\n",
       "<tr><td>66310712</td><td>19102.35</td><td>12361.66</td><td>0.0</td><td>31464.01</td><td>829.9</td><td>Feb-2019</td><td>Apr-2019</td><td>2023-11-08 17:13:...</td></tr>\n",
       "<tr><td>68476807</td><td>10400.0</td><td>1340.5</td><td>0.0</td><td>11740.5</td><td>10128.96</td><td>Jul-2016</td><td>null</td><td>2023-11-08 17:13:...</td></tr>\n",
       "<tr><td>68426831</td><td>11950.0</td><td>1758.95</td><td>0.0</td><td>13708.948</td><td>7653.56</td><td>May-2017</td><td>null</td><td>2023-11-08 17:13:...</td></tr>\n",
       "<tr><td>68476668</td><td>20000.0</td><td>1393.8</td><td>0.0</td><td>21393.8</td><td>15681.05</td><td>Nov-2016</td><td>null</td><td>2023-11-08 17:13:...</td></tr>\n",
       "<tr><td>67275481</td><td>20000.0</td><td>1538.51</td><td>0.0</td><td>21538.51</td><td>14618.23</td><td>Jan-2017</td><td>null</td><td>2023-11-08 17:13:...</td></tr>\n",
       "<tr><td>68466926</td><td>10000.0</td><td>998.97</td><td>0.0</td><td>10998.972</td><td>1814.48</td><td>Aug-2018</td><td>null</td><td>2023-11-08 17:13:...</td></tr>\n",
       "<tr><td>68616873</td><td>8000.0</td><td>939.58</td><td>0.0</td><td>8939.58</td><td>4996.24</td><td>Apr-2017</td><td>null</td><td>2023-11-08 17:13:...</td></tr>\n",
       "<tr><td>68356421</td><td>12487.12</td><td>6788.21</td><td>0.0</td><td>19275.33</td><td>508.3</td><td>Feb-2019</td><td>Apr-2019</td><td>2023-11-08 17:13:...</td></tr>\n",
       "<tr><td>68426545</td><td>8919.3</td><td>4848.74</td><td>0.0</td><td>13768.04</td><td>363.07</td><td>Feb-2019</td><td>Apr-2019</td><td>2023-11-08 17:13:...</td></tr>\n",
       "<tr><td>68338832</td><td>1400.0</td><td>175.16</td><td>0.0</td><td>1575.1606</td><td>965.36</td><td>Mar-2017</td><td>null</td><td>2023-11-08 17:13:...</td></tr>\n",
       "<tr><td>66624733</td><td>3481.86</td><td>4351.98</td><td>0.0</td><td>9452.74</td><td>471.7</td><td>May-2017</td><td>null</td><td>2023-11-08 17:13:...</td></tr>\n",
       "<tr><td>68466961</td><td>28000.0</td><td>1939.02</td><td>0.0</td><td>29939.018</td><td>17093.51</td><td>May-2017</td><td>null</td><td>2023-11-08 17:13:...</td></tr>\n",
       "<tr><td>68354783</td><td>9600.0</td><td>1036.1</td><td>0.0</td><td>10636.099</td><td>3480.17</td><td>Feb-2018</td><td>null</td><td>2023-11-08 17:13:...</td></tr>\n",
       "<tr><td>68466916</td><td>25000.0</td><td>1224.23</td><td>0.0</td><td>26224.23</td><td>20807.39</td><td>Sep-2016</td><td>null</td><td>2023-11-08 17:13:...</td></tr>\n",
       "<tr><td>68577849</td><td>18000.0</td><td>387.22</td><td>0.0</td><td>18387.22</td><td>18004.9</td><td>Mar-2016</td><td>null</td><td>2023-11-08 17:13:...</td></tr>\n",
       "<tr><td>68506798</td><td>13419.8</td><td>4480.34</td><td>0.0</td><td>17900.14</td><td>471.77</td><td>Feb-2019</td><td>Apr-2019</td><td>2023-11-08 17:13:...</td></tr>\n",
       "<tr><td>68495092</td><td>8650.0</td><td>540.49</td><td>0.0</td><td>9190.49</td><td>8251.42</td><td>May-2016</td><td>null</td><td>2023-11-08 17:13:...</td></tr>\n",
       "</table>\n",
       "only showing top 20 rows\n"
      ],
      "text/plain": [
       "+--------+------------------------+-----------------------+-----------------------+----------------------+-------------------+-----------------+-----------------+--------------------+\n",
       "| loan_id|total_principal_received|total_interest_received|total_late_fee_received|total_payment_received|last_payment_amount|last_payment_date|next_payment_date|         ingest_date|\n",
       "+--------+------------------------+-----------------------+-----------------------+----------------------+-------------------+-----------------+-----------------+--------------------+\n",
       "|68407277|                  3600.0|                 821.72|                    0.0|              4421.724|             122.67|         Jan-2019|             null|2023-11-08 17:13:...|\n",
       "|68355089|                 24700.0|                 979.66|                    0.0|              25679.66|             926.35|         Jun-2016|             null|2023-11-08 17:13:...|\n",
       "|68341763|                 20000.0|                2705.92|                    0.0|             22705.924|            15813.3|         Jun-2017|             null|2023-11-08 17:13:...|\n",
       "|66310712|                19102.35|               12361.66|                    0.0|              31464.01|              829.9|         Feb-2019|         Apr-2019|2023-11-08 17:13:...|\n",
       "|68476807|                 10400.0|                 1340.5|                    0.0|               11740.5|           10128.96|         Jul-2016|             null|2023-11-08 17:13:...|\n",
       "|68426831|                 11950.0|                1758.95|                    0.0|             13708.948|            7653.56|         May-2017|             null|2023-11-08 17:13:...|\n",
       "|68476668|                 20000.0|                 1393.8|                    0.0|               21393.8|           15681.05|         Nov-2016|             null|2023-11-08 17:13:...|\n",
       "|67275481|                 20000.0|                1538.51|                    0.0|              21538.51|           14618.23|         Jan-2017|             null|2023-11-08 17:13:...|\n",
       "|68466926|                 10000.0|                 998.97|                    0.0|             10998.972|            1814.48|         Aug-2018|             null|2023-11-08 17:13:...|\n",
       "|68616873|                  8000.0|                 939.58|                    0.0|               8939.58|            4996.24|         Apr-2017|             null|2023-11-08 17:13:...|\n",
       "|68356421|                12487.12|                6788.21|                    0.0|              19275.33|              508.3|         Feb-2019|         Apr-2019|2023-11-08 17:13:...|\n",
       "|68426545|                  8919.3|                4848.74|                    0.0|              13768.04|             363.07|         Feb-2019|         Apr-2019|2023-11-08 17:13:...|\n",
       "|68338832|                  1400.0|                 175.16|                    0.0|             1575.1606|             965.36|         Mar-2017|             null|2023-11-08 17:13:...|\n",
       "|66624733|                 3481.86|                4351.98|                    0.0|               9452.74|              471.7|         May-2017|             null|2023-11-08 17:13:...|\n",
       "|68466961|                 28000.0|                1939.02|                    0.0|             29939.018|           17093.51|         May-2017|             null|2023-11-08 17:13:...|\n",
       "|68354783|                  9600.0|                 1036.1|                    0.0|             10636.099|            3480.17|         Feb-2018|             null|2023-11-08 17:13:...|\n",
       "|68466916|                 25000.0|                1224.23|                    0.0|              26224.23|           20807.39|         Sep-2016|             null|2023-11-08 17:13:...|\n",
       "|68577849|                 18000.0|                 387.22|                    0.0|              18387.22|            18004.9|         Mar-2016|             null|2023-11-08 17:13:...|\n",
       "|68506798|                 13419.8|                4480.34|                    0.0|              17900.14|             471.77|         Feb-2019|         Apr-2019|2023-11-08 17:13:...|\n",
       "|68495092|                  8650.0|                 540.49|                    0.0|               9190.49|            8251.42|         May-2016|             null|2023-11-08 17:13:...|\n",
       "+--------+------------------------+-----------------------+-----------------------+----------------------+-------------------+-----------------+-----------------+--------------------+\n",
       "only showing top 20 rows"
      ]
     },
     "execution_count": 18,
     "metadata": {},
     "output_type": "execute_result"
    }
   ],
   "source": [
    "loans_payments_fixed_df"
   ]
  },
  {
   "cell_type": "markdown",
   "id": "d5199442",
   "metadata": {},
   "source": [
    "## 5.Remove rows with values 0.0 in column total_payment_received. \n",
    "\n",
    "These recoreds are not useful"
   ]
  },
  {
   "cell_type": "code",
   "execution_count": 20,
   "id": "61ef7bef",
   "metadata": {},
   "outputs": [],
   "source": [
    "loans_payments_fixed2_df = loans_payments_fixed_df.filter(\"total_payment_received != 0.0\")"
   ]
  },
  {
   "cell_type": "markdown",
   "id": "4162ce4d",
   "metadata": {},
   "source": [
    "## 6. Replace all non suitable values from column last_payment_date, and next_payment_date with null"
   ]
  },
  {
   "cell_type": "code",
   "execution_count": 21,
   "id": "6ed57ef4",
   "metadata": {},
   "outputs": [
    {
     "data": {
      "text/plain": [
       "48"
      ]
     },
     "execution_count": 21,
     "metadata": {},
     "output_type": "execute_result"
    }
   ],
   "source": [
    "loans_payments_fixed2_df.filter(\"last_payment_date = 0.0\").count()"
   ]
  },
  {
   "cell_type": "code",
   "execution_count": 22,
   "id": "811d1bff",
   "metadata": {},
   "outputs": [
    {
     "data": {
      "text/plain": [
       "24"
      ]
     },
     "execution_count": 22,
     "metadata": {},
     "output_type": "execute_result"
    }
   ],
   "source": [
    "loans_payments_fixed2_df.filter(\"next_payment_date = 0.0\").count()"
   ]
  },
  {
   "cell_type": "code",
   "execution_count": 23,
   "id": "e1d83b1f",
   "metadata": {},
   "outputs": [],
   "source": [
    "loans_payments_ldate_fixed_df = loans_payments_fixed2_df.withColumn(\n",
    "  \"last_payment_date\",\n",
    "   when(\n",
    "       (col(\"last_payment_date\") == 0.0),\n",
    "       None\n",
    "       ).otherwise(col(\"last_payment_date\"))\n",
    ")"
   ]
  },
  {
   "cell_type": "code",
   "execution_count": 24,
   "id": "d11f1c81",
   "metadata": {},
   "outputs": [],
   "source": [
    "loans_payments_ndate_fixed_df = loans_payments_ldate_fixed_df.withColumn(\n",
    "  \"last_payment_date\",\n",
    "   when(\n",
    "       (col(\"next_payment_date\") == 0.0),\n",
    "       None\n",
    "       ).otherwise(col(\"next_payment_date\"))\n",
    ")"
   ]
  },
  {
   "cell_type": "code",
   "execution_count": 25,
   "id": "a9108196",
   "metadata": {},
   "outputs": [
    {
     "data": {
      "text/plain": [
       "0"
      ]
     },
     "execution_count": 25,
     "metadata": {},
     "output_type": "execute_result"
    }
   ],
   "source": [
    "loans_payments_ndate_fixed_df.filter(\"last_payment_date = 0.0\").count()"
   ]
  },
  {
   "cell_type": "code",
   "execution_count": 26,
   "id": "4c908e7f",
   "metadata": {},
   "outputs": [
    {
     "data": {
      "text/plain": [
       "24"
      ]
     },
     "execution_count": 26,
     "metadata": {},
     "output_type": "execute_result"
    }
   ],
   "source": [
    "loans_payments_ndate_fixed_df.filter(\"next_payment_date = 0.0\").count()"
   ]
  },
  {
   "cell_type": "code",
   "execution_count": 27,
   "id": "3b0eb06c",
   "metadata": {},
   "outputs": [],
   "source": [
    "loans_payments_ndate_fixed_df.write \\\n",
    ".format(\"parquet\") \\\n",
    ".mode(\"overwrite\") \\\n",
    ".option(\"path\", \"/user/itv008299/lendingclubproject/cleaned/loans_repayments_parquet\") \\\n",
    ".save()"
   ]
  },
  {
   "cell_type": "code",
   "execution_count": 28,
   "id": "3d6c3f0b",
   "metadata": {},
   "outputs": [],
   "source": [
    "loans_payments_ndate_fixed_df.write \\\n",
    ".option(\"header\", True) \\\n",
    ".format(\"csv\") \\\n",
    ".mode(\"overwrite\") \\\n",
    ".option(\"path\", \"/user/itv008299/lendingclubproject/cleaned/loans_repayments_csv\") \\\n",
    ".save()"
   ]
  },
  {
   "cell_type": "code",
   "execution_count": null,
   "metadata": {},
   "outputs": [],
   "source": [
    "spark.stop()"
   ]
  }
 ],
 "metadata": {
  "kernelspec": {
   "display_name": "Pyspark 3",
   "language": "python",
   "name": "pyspark3"
  },
  "language_info": {
   "codemirror_mode": {
    "name": "ipython",
    "version": 3
   },
   "file_extension": ".py",
   "mimetype": "text/x-python",
   "name": "python",
   "nbconvert_exporter": "python",
   "pygments_lexer": "ipython3",
   "version": "3.6.12"
  }
 },
 "nbformat": 4,
 "nbformat_minor": 5
}
