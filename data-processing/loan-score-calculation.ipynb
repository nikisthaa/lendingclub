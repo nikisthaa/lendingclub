{
 "cells": [
  {
   "cell_type": "markdown",
   "id": "ca036fc5",
   "metadata": {},
   "source": [
    "# Loan Score Calculation\n",
    "\n",
    "## Requirement 4\n",
    "\n",
    "- Higher the loan score, higher the chances of getting your loan approved, and vice versa\n",
    "- 3 Major criteria to calculate loan score\n",
    "  - loan repayment history (last payment, total payment received) - only 20% weight\n",
    "    \n",
    "  - loan defaulters history (delinq-delinquet 2 yrs, pub_rec, ub_rec_bankruptcies, inq_last_6mnths) - only 45%\n",
    "\n",
    "  - financial health data (home_ownership, loan_status, funded amount, grade pts-) - only 35%\n"
   ]
  },
  {
   "cell_type": "code",
   "execution_count": 1,
   "id": "676d3474",
   "metadata": {},
   "outputs": [],
   "source": [
    "# Create spark session\n",
    "import getpass\n",
    "from pyspark.sql import SparkSession\n",
    "\n",
    "\n",
    "username = \"itv008299\"\n",
    "spark = SparkSession.builder.\\\n",
    "    config('spark.shuffle.useOldFetchProtocol','true').\\\n",
    "    config('spark.ui.port', '0').\\\n",
    "    config('spark.sql.warehouse.dir', f'/user/{username}/warehouse').\\\n",
    "    enableHiveSupport().\\\n",
    "    master('yarn').\\\n",
    "    getOrCreate()"
   ]
  },
  {
   "cell_type": "markdown",
   "id": "81bbfe38",
   "metadata": {},
   "source": [
    "## Associate points to the grades in order to calculate the loan score"
   ]
  },
  {
   "cell_type": "code",
   "execution_count": 2,
   "id": "5c86cf15",
   "metadata": {},
   "outputs": [],
   "source": [
    "unacceptable_rated_pts = 0\n",
    "very_bad_rated_pts = 100\n",
    "bad_rated_pts = 250\n",
    "good_rated_pts = 500\n",
    "very_good_rated_pts = 650\n",
    "excellent_rated_pts = 800"
   ]
  },
  {
   "cell_type": "code",
   "execution_count": 3,
   "id": "7787c227",
   "metadata": {},
   "outputs": [],
   "source": [
    "unacceptable_grade_pts = 750\n",
    "very_bad_grade_pts = 1000\n",
    "bad_grade_pts = 1500\n",
    "good_grade_pts = 2000\n",
    "very_good_grade_pts = 2500"
   ]
  },
  {
   "cell_type": "markdown",
   "id": "3489823f",
   "metadata": {},
   "source": [
    "## Tables required to calculate the loan score\n",
    "\n",
    "- customers_new\n",
    "- loan_def_delinq_new\n",
    "- loan_def_detail_record_enq_new"
   ]
  },
  {
   "cell_type": "markdown",
   "id": "e30e4a98",
   "metadata": {},
   "source": [
    "## Loan Score Calculation Criteria 1: Payment History\n",
    "\n",
    "- last payment amount < monthly installment * 0.5, then very_bad_rates_pts\n",
    "- last payment amount >= monthly installment * 0.5 and  < monthly installment, then bad_rates_pts\n",
    "- last payment amount = monthly installment, then good_rates_pts"
   ]
  },
  {
   "cell_type": "code",
   "execution_count": 4,
   "id": "b1c3452f",
   "metadata": {},
   "outputs": [],
   "source": [
    "bad_customer_data_df = spark.read\\\n",
    ".format(\"csv\")\\\n",
    ".option(\"header\", True)\\\n",
    ".option(\"inferSchema\", True)\\\n",
    ".load(\"/user/itv008299/lendingclubproject/bad_data/bad_customer_data_final\")"
   ]
  },
  {
   "cell_type": "code",
   "execution_count": 5,
   "id": "e9f35fb5",
   "metadata": {},
   "outputs": [],
   "source": [
    "bad_customer_data_df.createOrReplaceTempView(\"bad_data_customer\")"
   ]
  },
  {
   "cell_type": "code",
   "execution_count": 10,
   "id": "c6a30e50",
   "metadata": {},
   "outputs": [],
   "source": [
    "ph_df = spark.sql(f\"select c.member_id, \\\n",
    "   case \\\n",
    "       when p.last_payment_amount < (c.monthly_installment * 0.5) then {very_bad_rated_pts} \\\n",
    "       when p.last_payment_amount >= (c.monthly_installment * 0.5) and p.last_payment_amount < c.monthly_installment then {very_bad_rated_pts} \\\n",
    "       when (p.last_payment_amount = (c.monthly_installment)) then {good_rated_pts} \\\n",
    "       when p.last_payment_amount > (c.monthly_installment) and p.last_payment_amount <= (c.monthly_installment * 1.50) then {very_good_rated_pts} \\\n",
    "       when p.last_payment_amount > (c.monthly_installment * 1.50) then {excellent_rated_pts} \\\n",
    "       else {unacceptable_rated_pts} \\\n",
    "   end as last_payment_pts, \\\n",
    "   case \\\n",
    "       when p.total_payment_received >= (c.funded_amount * 0.50) then {very_good_rated_pts} \\\n",
    "       when p.total_payment_received < (c.funded_amount * 0.50) and p.total_payment_received > 0 then {good_rated_pts} \\\n",
    "       when p.total_payment_received = 0 or (p.total_payment_received) is null then {unacceptable_rated_pts} \\\n",
    "   end as total_payment_pts \\\n",
    "from itv008299_lending_club.loan_repayments p \\\n",
    "inner join itv008299_lending_club.loans c on c.loan_id = p.loan_id where member_id NOT IN (select member_id from bad_data_customer)\")"
   ]
  },
  {
   "cell_type": "code",
   "execution_count": 20,
   "id": "0a7cedc9",
   "metadata": {},
   "outputs": [],
   "source": [
    "ph_df.createOrReplaceTempView(\"ph_pts\")"
   ]
  },
  {
   "cell_type": "code",
   "execution_count": 22,
   "id": "2b84dc82",
   "metadata": {},
   "outputs": [
    {
     "data": {
      "text/html": [
       "<table border='1'>\n",
       "<tr><th>member_id</th><th>last_payment_pts</th><th>total_payment_pts</th></tr>\n",
       "<tr><td>dcec9334e70f1cc95...</td><td>800</td><td>650</td></tr>\n",
       "<tr><td>fc58ca61f51f9dcac...</td><td>500</td><td>650</td></tr>\n",
       "<tr><td>2fb62a6ca51063b11...</td><td>500</td><td>650</td></tr>\n",
       "<tr><td>488268a5531951622...</td><td>800</td><td>650</td></tr>\n",
       "<tr><td>ade6026208e48f5f9...</td><td>500</td><td>650</td></tr>\n",
       "<tr><td>7c8b0ca6acddfaeb1...</td><td>800</td><td>650</td></tr>\n",
       "<tr><td>a707b7fe7c38bad65...</td><td>800</td><td>650</td></tr>\n",
       "<tr><td>1df639cddea30c288...</td><td>800</td><td>650</td></tr>\n",
       "<tr><td>22d67005e12d8726d...</td><td>500</td><td>650</td></tr>\n",
       "<tr><td>009cf312bd46551b4...</td><td>500</td><td>650</td></tr>\n",
       "<tr><td>2d995d383622fa80e...</td><td>500</td><td>650</td></tr>\n",
       "<tr><td>88b97663d2562f239...</td><td>500</td><td>650</td></tr>\n",
       "<tr><td>097d871ba6f21ee37...</td><td>500</td><td>650</td></tr>\n",
       "<tr><td>82e698108e1b8b88a...</td><td>500</td><td>650</td></tr>\n",
       "<tr><td>9e89f004a01479234...</td><td>500</td><td>650</td></tr>\n",
       "<tr><td>28ea534e78570f8d1...</td><td>800</td><td>650</td></tr>\n",
       "<tr><td>27a6888d24e06f6e2...</td><td>500</td><td>650</td></tr>\n",
       "<tr><td>c0d144ae7ab17c793...</td><td>500</td><td>500</td></tr>\n",
       "<tr><td>56d1102515f7d6a32...</td><td>800</td><td>650</td></tr>\n",
       "<tr><td>ba484052baf1e604c...</td><td>800</td><td>650</td></tr>\n",
       "</table>\n",
       "only showing top 20 rows\n"
      ],
      "text/plain": [
       "+--------------------+----------------+-----------------+\n",
       "|           member_id|last_payment_pts|total_payment_pts|\n",
       "+--------------------+----------------+-----------------+\n",
       "|dcec9334e70f1cc95...|             800|              650|\n",
       "|fc58ca61f51f9dcac...|             500|              650|\n",
       "|2fb62a6ca51063b11...|             500|              650|\n",
       "|488268a5531951622...|             800|              650|\n",
       "|ade6026208e48f5f9...|             500|              650|\n",
       "|7c8b0ca6acddfaeb1...|             800|              650|\n",
       "|a707b7fe7c38bad65...|             800|              650|\n",
       "|1df639cddea30c288...|             800|              650|\n",
       "|22d67005e12d8726d...|             500|              650|\n",
       "|009cf312bd46551b4...|             500|              650|\n",
       "|2d995d383622fa80e...|             500|              650|\n",
       "|88b97663d2562f239...|             500|              650|\n",
       "|097d871ba6f21ee37...|             500|              650|\n",
       "|82e698108e1b8b88a...|             500|              650|\n",
       "|9e89f004a01479234...|             500|              650|\n",
       "|28ea534e78570f8d1...|             800|              650|\n",
       "|27a6888d24e06f6e2...|             500|              650|\n",
       "|c0d144ae7ab17c793...|             500|              500|\n",
       "|56d1102515f7d6a32...|             800|              650|\n",
       "|ba484052baf1e604c...|             800|              650|\n",
       "+--------------------+----------------+-----------------+\n",
       "only showing top 20 rows"
      ]
     },
     "execution_count": 22,
     "metadata": {},
     "output_type": "execute_result"
    }
   ],
   "source": [
    "spark.sql(\"select * from ph_pts\")"
   ]
  },
  {
   "cell_type": "markdown",
   "id": "8da43337",
   "metadata": {},
   "source": [
    "## Loan Score Calculation Criteria 2: Loan Defaulters History (ldh)"
   ]
  },
  {
   "cell_type": "code",
   "execution_count": 21,
   "id": "ef11ed93",
   "metadata": {},
   "outputs": [],
   "source": [
    "ldh_ph_df = spark.sql(\n",
    "    f\"select p.*, \\\n",
    "    CASE \\\n",
    "        WHEN d.delinq_2yrs = 0 THEN {excellent_rated_pts} \\\n",
    "        WHEN d.delinq_2yrs BETWEEN 1 AND 2 THEN {bad_rated_pts} \\\n",
    "        WHEN d.delinq_2yrs BETWEEN 3 AND 5 THEN {very_bad_rated_pts} \\\n",
    "        WHEN d.delinq_2yrs > 5 OR d.delinq_2yrs IS NULL THEN {unacceptable_grade_pts} \\\n",
    "    END AS delinq_pts, \\\n",
    "    CASE \\\n",
    "        WHEN l.pub_rec = 0 THEN {excellent_rated_pts} \\\n",
    "        WHEN l.pub_rec BETWEEN 1 AND 2 THEN {bad_rated_pts} \\\n",
    "        WHEN l.pub_rec BETWEEN 3 AND 5 THEN {very_bad_rated_pts} \\\n",
    "        WHEN l.pub_rec > 5 OR l.pub_rec IS NULL THEN {very_bad_rated_pts} \\\n",
    "    END AS public_records_pts, \\\n",
    "    CASE \\\n",
    "        WHEN l.pub_rec_bankruptcies = 0 THEN {excellent_rated_pts} \\\n",
    "        WHEN l.pub_rec_bankruptcies BETWEEN 1 AND 2 THEN {bad_rated_pts} \\\n",
    "        WHEN l.pub_rec_bankruptcies BETWEEN 3 AND 5 THEN {very_bad_rated_pts} \\\n",
    "        WHEN l.pub_rec_bankruptcies > 5 OR l.pub_rec_bankruptcies IS NULL THEN {very_bad_rated_pts} \\\n",
    "    END as public_bankruptcies_pts, \\\n",
    "    CASE \\\n",
    "        WHEN l.inq_last_6mths = 0 THEN {excellent_rated_pts} \\\n",
    "        WHEN l.inq_last_6mths BETWEEN 1 AND 2 THEN {bad_rated_pts} \\\n",
    "        WHEN l.inq_last_6mths BETWEEN 3 AND 5 THEN {very_bad_rated_pts} \\\n",
    "        WHEN l.inq_last_6mths > 5 OR l.inq_last_6mths IS NULL THEN {unacceptable_rated_pts} \\\n",
    "    END AS enq_pts \\\n",
    "    FROM itv008299_lending_club.loan_def_detail_record_enq_new l \\\n",
    "    INNER JOIN itv008299_lending_club.loan_def_delinq_new d ON d.member_id = l.member_id  \\\n",
    "    INNER JOIN ph_pts p ON p.member_id = l.member_id where l.member_id NOT IN (select member_id from bad_data_customer)\")"
   ]
  },
  {
   "cell_type": "code",
   "execution_count": 23,
   "id": "dc63c0b2",
   "metadata": {},
   "outputs": [],
   "source": [
    "ldh_ph_df.createOrReplaceTempView(\"ldh_ph_pts\")"
   ]
  },
  {
   "cell_type": "code",
   "execution_count": 24,
   "id": "f414e85c",
   "metadata": {},
   "outputs": [
    {
     "data": {
      "text/html": [
       "<table border='1'>\n",
       "<tr><th>member_id</th><th>last_payment_pts</th><th>total_payment_pts</th><th>delinq_pts</th><th>public_records_pts</th><th>public_bankruptcies_pts</th><th>enq_pts</th></tr>\n",
       "<tr><td>003e1e6cbd2920bbb...</td><td>500</td><td>650</td><td>250</td><td>250</td><td>250</td><td>800</td></tr>\n",
       "<tr><td>005b4c3db3fce07dc...</td><td>500</td><td>650</td><td>250</td><td>250</td><td>800</td><td>250</td></tr>\n",
       "<tr><td>00fc8144cb210ba8c...</td><td>500</td><td>650</td><td>250</td><td>250</td><td>250</td><td>800</td></tr>\n",
       "<tr><td>017ce564dc0d6f975...</td><td>500</td><td>500</td><td>250</td><td>800</td><td>800</td><td>250</td></tr>\n",
       "<tr><td>01b39bf7187932c4a...</td><td>800</td><td>650</td><td>250</td><td>250</td><td>800</td><td>800</td></tr>\n",
       "<tr><td>021a6ce1b67f3bc81...</td><td>500</td><td>500</td><td>250</td><td>250</td><td>250</td><td>250</td></tr>\n",
       "<tr><td>02844f1aff78c7121...</td><td>800</td><td>650</td><td>250</td><td>250</td><td>800</td><td>800</td></tr>\n",
       "<tr><td>02ad95cbf42e6d4dd...</td><td>800</td><td>650</td><td>250</td><td>800</td><td>800</td><td>250</td></tr>\n",
       "<tr><td>02f69de1384fcf78c...</td><td>100</td><td>650</td><td>250</td><td>800</td><td>800</td><td>250</td></tr>\n",
       "<tr><td>032503cc8f86dea72...</td><td>500</td><td>500</td><td>250</td><td>800</td><td>800</td><td>250</td></tr>\n",
       "<tr><td>0401f0eff7d188d40...</td><td>500</td><td>500</td><td>250</td><td>800</td><td>800</td><td>250</td></tr>\n",
       "<tr><td>047e58a29eaf50dea...</td><td>800</td><td>650</td><td>250</td><td>800</td><td>800</td><td>250</td></tr>\n",
       "<tr><td>049af7d32085b507b...</td><td>500</td><td>650</td><td>250</td><td>800</td><td>800</td><td>250</td></tr>\n",
       "<tr><td>0507405ffa21cc80b...</td><td>100</td><td>650</td><td>250</td><td>800</td><td>800</td><td>250</td></tr>\n",
       "<tr><td>0514f7ad4030ba481...</td><td>500</td><td>500</td><td>100</td><td>800</td><td>800</td><td>250</td></tr>\n",
       "<tr><td>053c3d4498bc0d4d6...</td><td>800</td><td>500</td><td>250</td><td>800</td><td>800</td><td>250</td></tr>\n",
       "<tr><td>057a544d7370db315...</td><td>500</td><td>500</td><td>250</td><td>800</td><td>800</td><td>250</td></tr>\n",
       "<tr><td>05ac6e455c9082aeb...</td><td>650</td><td>650</td><td>250</td><td>800</td><td>800</td><td>250</td></tr>\n",
       "<tr><td>06acbb3b5c9fa081e...</td><td>800</td><td>650</td><td>250</td><td>800</td><td>800</td><td>250</td></tr>\n",
       "<tr><td>06b37c615689495be...</td><td>500</td><td>650</td><td>250</td><td>800</td><td>800</td><td>100</td></tr>\n",
       "</table>\n",
       "only showing top 20 rows\n"
      ],
      "text/plain": [
       "+--------------------+----------------+-----------------+----------+------------------+-----------------------+-------+\n",
       "|           member_id|last_payment_pts|total_payment_pts|delinq_pts|public_records_pts|public_bankruptcies_pts|enq_pts|\n",
       "+--------------------+----------------+-----------------+----------+------------------+-----------------------+-------+\n",
       "|003e1e6cbd2920bbb...|             500|              650|       250|               250|                    250|    800|\n",
       "|005b4c3db3fce07dc...|             500|              650|       250|               250|                    800|    250|\n",
       "|00fc8144cb210ba8c...|             500|              650|       250|               250|                    250|    800|\n",
       "|017ce564dc0d6f975...|             500|              500|       250|               800|                    800|    250|\n",
       "|01b39bf7187932c4a...|             800|              650|       250|               250|                    800|    800|\n",
       "|021a6ce1b67f3bc81...|             500|              500|       250|               250|                    250|    250|\n",
       "|02844f1aff78c7121...|             800|              650|       250|               250|                    800|    800|\n",
       "|02ad95cbf42e6d4dd...|             800|              650|       250|               800|                    800|    250|\n",
       "|02f69de1384fcf78c...|             100|              650|       250|               800|                    800|    250|\n",
       "|032503cc8f86dea72...|             500|              500|       250|               800|                    800|    250|\n",
       "|0401f0eff7d188d40...|             500|              500|       250|               800|                    800|    250|\n",
       "|047e58a29eaf50dea...|             800|              650|       250|               800|                    800|    250|\n",
       "|049af7d32085b507b...|             500|              650|       250|               800|                    800|    250|\n",
       "|0507405ffa21cc80b...|             100|              650|       250|               800|                    800|    250|\n",
       "|0514f7ad4030ba481...|             500|              500|       100|               800|                    800|    250|\n",
       "|053c3d4498bc0d4d6...|             800|              500|       250|               800|                    800|    250|\n",
       "|057a544d7370db315...|             500|              500|       250|               800|                    800|    250|\n",
       "|05ac6e455c9082aeb...|             650|              650|       250|               800|                    800|    250|\n",
       "|06acbb3b5c9fa081e...|             800|              650|       250|               800|                    800|    250|\n",
       "|06b37c615689495be...|             500|              650|       250|               800|                    800|    100|\n",
       "+--------------------+----------------+-----------------+----------+------------------+-----------------------+-------+\n",
       "only showing top 20 rows"
      ]
     },
     "execution_count": 24,
     "metadata": {},
     "output_type": "execute_result"
    }
   ],
   "source": [
    "spark.sql(\"select * from ldh_ph_pts\")"
   ]
  },
  {
   "cell_type": "markdown",
   "id": "93380464",
   "metadata": {},
   "source": [
    "## Loan Score Calculation Criteria 3: Financial Health Data"
   ]
  },
  {
   "cell_type": "code",
   "execution_count": 27,
   "id": "85687941",
   "metadata": {},
   "outputs": [],
   "source": [
    "fh_ldh_ph_df = spark.sql(f\"select ldef.*, \\\n",
    "   CASE \\\n",
    "       WHEN LOWER(l.loan_status) LIKE '%fully paid%' THEN {excellent_rated_pts} \\\n",
    "       WHEN LOWER(l.loan_status) LIKE '%current%' THEN {good_rated_pts} \\\n",
    "       WHEN LOWER(l.loan_status) LIKE '%in grace period%' THEN {bad_rated_pts} \\\n",
    "       WHEN LOWER(l.loan_status) LIKE '%late (16-30 days)%' OR LOWER(l.loan_status) LIKE '%late (31-120 days)%' THEN {very_bad_rated_pts} \\\n",
    "       WHEN LOWER(l.loan_status) LIKE '%charged off%' THEN {unacceptable_rated_pts} \\\n",
    "       else {unacceptable_rated_pts} \\\n",
    "   END AS loan_status_pts, \\\n",
    "   CASE \\\n",
    "       WHEN LOWER(a.home_ownership) LIKE '%own' THEN {excellent_rated_pts} \\\n",
    "       WHEN LOWER(a.home_ownership) LIKE '%rent' THEN {good_rated_pts} \\\n",
    "       WHEN LOWER(a.home_ownership) LIKE '%mortgage' THEN {bad_rated_pts} \\\n",
    "       WHEN LOWER(a.home_ownership) LIKE '%any' OR LOWER(a.home_ownership) IS NULL THEN {very_bad_rated_pts} \\\n",
    "   END AS home_pts, \\\n",
    "   CASE \\\n",
    "       WHEN l.funded_amount <= (a.total_high_credit_limit * 0.10) THEN {excellent_rated_pts} \\\n",
    "       WHEN l.funded_amount > (a.total_high_credit_limit * 0.10) AND l.funded_amount <= (a.total_high_credit_limit * 0.20) THEN {very_good_rated_pts} \\\n",
    "       WHEN l.funded_amount > (a.total_high_credit_limit * 0.20) AND l.funded_amount <= (a.total_high_credit_limit * 0.30) THEN {good_rated_pts} \\\n",
    "       WHEN l.funded_amount > (a.total_high_credit_limit * 0.30) AND l.funded_amount <= (a.total_high_credit_limit * 0.50) THEN {bad_rated_pts} \\\n",
    "       WHEN l.funded_amount > (a.total_high_credit_limit * 0.50) AND l.funded_amount <= (a.total_high_credit_limit * 0.70) THEN {very_bad_rated_pts} \\\n",
    "       WHEN l.funded_amount > (a.total_high_credit_limit * 0.70) THEN {unacceptable_rated_pts} \\\n",
    "       else {unacceptable_rated_pts} \\\n",
    "   END AS credit_limit_pts, \\\n",
    "   CASE \\\n",
    "       WHEN (a.grade) = 'A' and (a.sub_grade)='A1' THEN {excellent_rated_pts} \\\n",
    "       WHEN (a.grade) = 'A' and (a.sub_grade)='A2' THEN ({excellent_rated_pts} * 0.95) \\\n",
    "       WHEN (a.grade) = 'A' and (a.sub_grade)='A3' THEN ({excellent_rated_pts} * 0.90) \\\n",
    "       WHEN (a.grade) = 'A' and (a.sub_grade)='A4' THEN ({excellent_rated_pts} * 0.85) \\\n",
    "       WHEN (a.grade) = 'A' and (a.sub_grade)='A5' THEN ({excellent_rated_pts} * 0.80) \\\n",
    "       WHEN (a.grade) = 'B' and (a.sub_grade)='B1' THEN ({very_good_rated_pts}) \\\n",
    "       WHEN (a.grade) = 'B' and (a.sub_grade)='B2' THEN ({very_good_rated_pts} * 0.95) \\\n",
    "       WHEN (a.grade) = 'B' and (a.sub_grade)='B3' THEN ({very_good_rated_pts} * 0.90) \\\n",
    "       WHEN (a.grade) = 'B' and (a.sub_grade)='B4' THEN ({very_good_rated_pts} * 0.85) \\\n",
    "       WHEN (a.grade) = 'B' and (a.sub_grade)='B5' THEN ({very_good_rated_pts} * 0.80) \\\n",
    "       WHEN (a.grade) = 'C' and (a.sub_grade)='C1' THEN ({good_rated_pts}) \\\n",
    "       WHEN (a.grade) = 'C' and (a.sub_grade)='C2' THEN ({good_rated_pts} * 0.95) \\\n",
    "       WHEN (a.grade) = 'C' and (a.sub_grade)='C3' THEN ({good_rated_pts} * 0.90) \\\n",
    "       WHEN (a.grade) = 'C' and (a.sub_grade)='C4' THEN ({good_rated_pts} * 0.85) \\\n",
    "       WHEN (a.grade) = 'C' and (a.sub_grade)='C5' THEN ({good_rated_pts} * 0.80) \\\n",
    "       WHEN (a.grade) = 'D' and (a.sub_grade)='D1' THEN ({bad_rated_pts}) \\\n",
    "       WHEN (a.grade) = 'D' and (a.sub_grade)='D2' THEN ({bad_rated_pts} * 0.95) \\\n",
    "       WHEN (a.grade) = 'D' and (a.sub_grade)='D3' THEN ({bad_rated_pts} * 0.90) \\\n",
    "       WHEN (a.grade) = 'D' and (a.sub_grade)='D4' THEN ({bad_rated_pts} * 0.85) \\\n",
    "       WHEN (a.grade) = 'D' and (a.sub_grade)='D5' THEN ({bad_rated_pts} * 0.80) \\\n",
    "       WHEN (a.grade) = 'E' and (a.sub_grade)='E1' THEN ({very_bad_rated_pts}) \\\n",
    "       WHEN (a.grade) = 'E' and (a.sub_grade)='E2' THEN ({very_bad_rated_pts} * 0.95) \\\n",
    "       WHEN (a.grade) = 'E' and (a.sub_grade)='E3' THEN ({very_bad_rated_pts} * 0.90) \\\n",
    "       WHEN (a.grade) = 'E' and (a.sub_grade)='E4' THEN ({very_bad_rated_pts} * 0.85) \\\n",
    "       WHEN (a.grade) = 'E' and (a.sub_grade)='E5' THEN ({very_bad_rated_pts} * 0.80) \\\n",
    "       WHEN (a.grade) in ('F', 'G') THEN ({unacceptable_rated_pts}) \\\n",
    "   END AS grade_pts \\\n",
    "   FROM ldh_ph_pts ldef \\\n",
    "   INNER JOIN itv008299_lending_club.loans l ON ldef.member_id = l.member_id \\\n",
    "   INNER JOIN itv008299_lending_club.customers_new a ON a.member_id = ldef.member_id where ldef.member_id NOT IN (select member_id from bad_data_customer)\") "
   ]
  },
  {
   "cell_type": "code",
   "execution_count": 28,
   "id": "fbf66675",
   "metadata": {},
   "outputs": [],
   "source": [
    "fh_ldh_ph_df.createOrReplaceTempView(\"fh_ldh_ph_pts\")"
   ]
  },
  {
   "cell_type": "markdown",
   "id": "5c12bda3",
   "metadata": {},
   "source": [
    "## FinL loan score calculation by considering all the 3 criterias with the following percentage\n",
    "\n",
    "1. payment history = 20%\n",
    "\n",
    "2. Loan defaults = 45%\n",
    "\n",
    "3. Financial health = 35%"
   ]
  },
  {
   "cell_type": "code",
   "execution_count": 30,
   "id": "313e4e6b",
   "metadata": {},
   "outputs": [],
   "source": [
    "loan_score = spark.sql(\"\"\"\n",
    "SELECT \n",
    "    member_id,\n",
    "    ((last_payment_pts+total_payment_pts)*0.20) as payment_history_pts,\n",
    "    ((delinq_pts + public_records_pts + public_bankruptcies_pts + enq_pts) * 0.45) as defaulters_history_pts,\n",
    "    ((loan_status_pts + home_pts + credit_limit_pts + grade_pts)*0.35) as financial_health_pts\n",
    "FROM fh_ldh_ph_pts\n",
    "\"\"\")"
   ]
  },
  {
   "cell_type": "code",
   "execution_count": 31,
   "id": "532cffac",
   "metadata": {},
   "outputs": [
    {
     "data": {
      "text/html": [
       "<table border='1'>\n",
       "<tr><th>member_id</th><th>payment_history_pts</th><th>defaulters_history_pts</th><th>financial_health_pts</th></tr>\n",
       "<tr><td>003e1e6cbd2920bbb...</td><td>230.00</td><td>697.50</td><td>766.5000</td></tr>\n",
       "<tr><td>005b4c3db3fce07dc...</td><td>230.00</td><td>697.50</td><td>619.5000</td></tr>\n",
       "<tr><td>00fc8144cb210ba8c...</td><td>230.00</td><td>697.50</td><td>717.5000</td></tr>\n",
       "<tr><td>017ce564dc0d6f975...</td><td>200.00</td><td>945.00</td><td>591.5000</td></tr>\n",
       "<tr><td>01b39bf7187932c4a...</td><td>290.00</td><td>945.00</td><td>939.7500</td></tr>\n",
       "<tr><td>021a6ce1b67f3bc81...</td><td>200.00</td><td>450.00</td><td>758.6250</td></tr>\n",
       "<tr><td>02844f1aff78c7121...</td><td>290.00</td><td>945.00</td><td>787.5000</td></tr>\n",
       "<tr><td>02ad95cbf42e6d4dd...</td><td>290.00</td><td>945.00</td><td>829.5000</td></tr>\n",
       "<tr><td>02f69de1384fcf78c...</td><td>150.00</td><td>945.00</td><td>864.5000</td></tr>\n",
       "<tr><td>032503cc8f86dea72...</td><td>200.00</td><td>945.00</td><td>647.5000</td></tr>\n",
       "<tr><td>0401f0eff7d188d40...</td><td>200.00</td><td>945.00</td><td>612.5000</td></tr>\n",
       "<tr><td>047e58a29eaf50dea...</td><td>290.00</td><td>945.00</td><td>675.5000</td></tr>\n",
       "<tr><td>049af7d32085b507b...</td><td>230.00</td><td>945.00</td><td>691.2500</td></tr>\n",
       "<tr><td>0507405ffa21cc80b...</td><td>150.00</td><td>945.00</td><td>813.7500</td></tr>\n",
       "<tr><td>0514f7ad4030ba481...</td><td>200.00</td><td>877.50</td><td>341.2500</td></tr>\n",
       "<tr><td>053c3d4498bc0d4d6...</td><td>260.00</td><td>945.00</td><td>682.5000</td></tr>\n",
       "<tr><td>057a544d7370db315...</td><td>200.00</td><td>945.00</td><td>794.5000</td></tr>\n",
       "<tr><td>05ac6e455c9082aeb...</td><td>260.00</td><td>945.00</td><td>481.2500</td></tr>\n",
       "<tr><td>06acbb3b5c9fa081e...</td><td>290.00</td><td>945.00</td><td>659.7500</td></tr>\n",
       "<tr><td>06b37c615689495be...</td><td>230.00</td><td>877.50</td><td>625.6250</td></tr>\n",
       "</table>\n",
       "only showing top 20 rows\n"
      ],
      "text/plain": [
       "+--------------------+-------------------+----------------------+--------------------+\n",
       "|           member_id|payment_history_pts|defaulters_history_pts|financial_health_pts|\n",
       "+--------------------+-------------------+----------------------+--------------------+\n",
       "|003e1e6cbd2920bbb...|             230.00|                697.50|            766.5000|\n",
       "|005b4c3db3fce07dc...|             230.00|                697.50|            619.5000|\n",
       "|00fc8144cb210ba8c...|             230.00|                697.50|            717.5000|\n",
       "|017ce564dc0d6f975...|             200.00|                945.00|            591.5000|\n",
       "|01b39bf7187932c4a...|             290.00|                945.00|            939.7500|\n",
       "|021a6ce1b67f3bc81...|             200.00|                450.00|            758.6250|\n",
       "|02844f1aff78c7121...|             290.00|                945.00|            787.5000|\n",
       "|02ad95cbf42e6d4dd...|             290.00|                945.00|            829.5000|\n",
       "|02f69de1384fcf78c...|             150.00|                945.00|            864.5000|\n",
       "|032503cc8f86dea72...|             200.00|                945.00|            647.5000|\n",
       "|0401f0eff7d188d40...|             200.00|                945.00|            612.5000|\n",
       "|047e58a29eaf50dea...|             290.00|                945.00|            675.5000|\n",
       "|049af7d32085b507b...|             230.00|                945.00|            691.2500|\n",
       "|0507405ffa21cc80b...|             150.00|                945.00|            813.7500|\n",
       "|0514f7ad4030ba481...|             200.00|                877.50|            341.2500|\n",
       "|053c3d4498bc0d4d6...|             260.00|                945.00|            682.5000|\n",
       "|057a544d7370db315...|             200.00|                945.00|            794.5000|\n",
       "|05ac6e455c9082aeb...|             260.00|                945.00|            481.2500|\n",
       "|06acbb3b5c9fa081e...|             290.00|                945.00|            659.7500|\n",
       "|06b37c615689495be...|             230.00|                877.50|            625.6250|\n",
       "+--------------------+-------------------+----------------------+--------------------+\n",
       "only showing top 20 rows"
      ]
     },
     "execution_count": 31,
     "metadata": {},
     "output_type": "execute_result"
    }
   ],
   "source": [
    "loan_score"
   ]
  },
  {
   "cell_type": "code",
   "execution_count": 32,
   "id": "e686822f",
   "metadata": {},
   "outputs": [],
   "source": [
    "final_loan_score = loan_score.withColumn('loan_score', loan_score.payment_history_pts + loan_score.defaulters_history_pts + loan_score.financial_health_pts)"
   ]
  },
  {
   "cell_type": "code",
   "execution_count": 33,
   "id": "4df6b20b",
   "metadata": {},
   "outputs": [],
   "source": [
    "final_loan_score.createOrReplaceTempView(\"loan_score_eval\")"
   ]
  },
  {
   "cell_type": "code",
   "execution_count": 35,
   "id": "1187d98d",
   "metadata": {},
   "outputs": [],
   "source": [
    "loan_score_final = spark.sql(f\"\"\"\n",
    "select ls.*, \n",
    "case \n",
    "    WHEN loan_score > {very_good_grade_pts} THEN 'A' \n",
    "    WHEN loan_score <= {very_good_grade_pts} AND loan_score > {good_grade_pts} THEN 'B' \n",
    "    WHEN loan_score <= {good_grade_pts} AND loan_score > {bad_grade_pts} THEN 'C' \n",
    "    WHEN loan_score <= {bad_grade_pts} AND loan_score  > {very_bad_grade_pts} THEN 'D' \n",
    "    WHEN loan_score <= {very_bad_grade_pts} AND loan_score > {unacceptable_grade_pts} THEN 'E'  \n",
    "    WHEN loan_score <= {unacceptable_grade_pts} THEN 'F' \n",
    "end as loan_final_grade \n",
    "from loan_score_eval ls\"\"\")"
   ]
  },
  {
   "cell_type": "code",
   "execution_count": 36,
   "id": "39ab64b6",
   "metadata": {},
   "outputs": [],
   "source": [
    "loan_score_final.createOrReplaceTempView(\"loan_final_table\")"
   ]
  },
  {
   "cell_type": "code",
   "execution_count": 37,
   "id": "1765246d",
   "metadata": {},
   "outputs": [],
   "source": [
    "loan_score_final.write \\\n",
    ".format(\"parquet\") \\\n",
    ".mode(\"overwrite\") \\\n",
    ".option(\"path\", \"/user/itv008299/lendingclubproject/processed/loan_score\") \\\n",
    ".save()"
   ]
  },
  {
   "cell_type": "code",
   "execution_count": 38,
   "id": "9511e3ba",
   "metadata": {},
   "outputs": [],
   "source": [
    "spark.stop()"
   ]
  }
 ],
 "metadata": {
  "kernelspec": {
   "display_name": "Pyspark 3",
   "language": "python",
   "name": "pyspark3"
  },
  "language_info": {
   "codemirror_mode": {
    "name": "ipython",
    "version": 3
   },
   "file_extension": ".py",
   "mimetype": "text/x-python",
   "name": "python",
   "nbconvert_exporter": "python",
   "pygments_lexer": "ipython3",
   "version": "3.6.12"
  }
 },
 "nbformat": 4,
 "nbformat_minor": 5
}
