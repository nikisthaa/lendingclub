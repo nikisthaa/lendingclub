{
 "cells": [
  {
   "cell_type": "code",
   "execution_count": 2,
   "id": "62d24231",
   "metadata": {},
   "outputs": [],
   "source": [
    "# Create spark session\n",
    "import getpass\n",
    "from pyspark.sql import SparkSession\n",
    "\n",
    "\n",
    "username = \"itv008299\"\n",
    "spark = SparkSession.builder.\\\n",
    "    config('spark.shuffle.useOldFetchProtocol','true').\\\n",
    "    config('spark.ui.port', '0').\\\n",
    "    config('spark.sql.warehouse.dir', f'/user/{username}/warehouse').\\\n",
    "    enableHiveSupport().\\\n",
    "    master('yarn').\\\n",
    "    getOrCreate()"
   ]
  },
  {
   "cell_type": "markdown",
   "id": "6e47b885",
   "metadata": {},
   "source": [
    "## Requirement 1\n",
    "\n",
    "Some people from other team wants to use cleaned data for analysis purpose. Need to create a permanent table on top of cleaned data"
   ]
  },
  {
   "cell_type": "code",
   "execution_count": 3,
   "id": "58c80be3",
   "metadata": {},
   "outputs": [],
   "source": [
    "customers_df = spark.read\\\n",
    ".format(\"parquet\")\\\n",
    ".load(\"/user/itv008299/lendingclubproject/cleaned/customers_parquet\")"
   ]
  },
  {
   "cell_type": "code",
   "execution_count": 4,
   "id": "c7214d71",
   "metadata": {},
   "outputs": [
    {
     "data": {
      "text/html": [
       "<table border='1'>\n",
       "<tr><th>member_id</th><th>emp_title</th><th>emp_length</th><th>home_ownership</th><th>annual_income</th><th>address_state</th><th>address_zipcode</th><th>address_country</th><th>grade</th><th>sub_grade</th><th>verification_status</th><th>total_high_credit_limit</th><th>application_type</th><th>join_annual_income</th><th>verification_status_joint</th><th>ingest_date</th></tr>\n",
       "<tr><td>ee35f3dc05bfbafbf...</td><td>feeder driver</td><td>10</td><td>MORTGAGE</td><td>96000.0</td><td>LA</td><td>707xx</td><td>USA</td><td>E</td><td>E3</td><td>Verified</td><td>205464.0</td><td>Individual</td><td>null</td><td>null</td><td>2023-11-08 16:31:...</td></tr>\n",
       "<tr><td>7d6f6da9248a96e63...</td><td>Senior Analyst</td><td>5</td><td>RENT</td><td>75000.0</td><td>GA</td><td>303xx</td><td>USA</td><td>B</td><td>B2</td><td>Source Verified</td><td>66737.0</td><td>Individual</td><td>null</td><td>null</td><td>2023-11-08 16:31:...</td></tr>\n",
       "<tr><td>22e3215f32f3f7b81...</td><td>Administrative As...</td><td>3</td><td>RENT</td><td>40000.0</td><td>FL</td><td>330xx</td><td>USA</td><td>B</td><td>B5</td><td>Not Verified</td><td>33169.0</td><td>Individual</td><td>null</td><td>null</td><td>2023-11-08 16:31:...</td></tr>\n",
       "<tr><td>d359a6e5fb7ef7e10...</td><td>Restorative aide</td><td>10</td><td>RENT</td><td>30000.0</td><td>WI</td><td>532xx</td><td>USA</td><td>C</td><td>C5</td><td>Not Verified</td><td>24233.0</td><td>Individual</td><td>null</td><td>null</td><td>2023-11-08 16:31:...</td></tr>\n",
       "<tr><td>dbda328611e10a659...</td><td>retail</td><td>4</td><td>MORTGAGE</td><td>38000.0</td><td>CA</td><td>902xx</td><td>USA</td><td>C</td><td>C3</td><td>Not Verified</td><td>17000.0</td><td>Individual</td><td>null</td><td>null</td><td>2023-11-08 16:31:...</td></tr>\n",
       "<tr><td>2364303f424375fed...</td><td>Network Engineer</td><td>5</td><td>MORTGAGE</td><td>82400.0</td><td>CA</td><td>906xx</td><td>USA</td><td>C</td><td>C2</td><td>Not Verified</td><td>473136.0</td><td>Individual</td><td>null</td><td>null</td><td>2023-11-08 16:31:...</td></tr>\n",
       "<tr><td>3615d2cff2237a960...</td><td>Producer</td><td>1</td><td>RENT</td><td>55000.0</td><td>CA</td><td>900xx</td><td>USA</td><td>B</td><td>B5</td><td>Source Verified</td><td>37946.0</td><td>Individual</td><td>null</td><td>null</td><td>2023-11-08 16:31:...</td></tr>\n",
       "<tr><td>bce7f62b189966a78...</td><td>Prestige Manager</td><td>1</td><td>RENT</td><td>20400.0</td><td>NC</td><td>272xx</td><td>USA</td><td>C</td><td>C1</td><td>Source Verified</td><td>8400.0</td><td>Individual</td><td>null</td><td>null</td><td>2023-11-08 16:31:...</td></tr>\n",
       "<tr><td>c60c8ff0ffaa0d738...</td><td>Commercial Lender</td><td>1</td><td>MORTGAGE</td><td>110000.0</td><td>CO</td><td>800xx</td><td>USA</td><td>B</td><td>B1</td><td>Verified</td><td>542500.0</td><td>Individual</td><td>null</td><td>null</td><td>2023-11-08 16:31:...</td></tr>\n",
       "<tr><td>958be73355adb951a...</td><td>SUPERVISOR</td><td>10</td><td>MORTGAGE</td><td>75000.0</td><td>PA</td><td>195xx</td><td>USA</td><td>B</td><td>B4</td><td>Source Verified</td><td>153692.0</td><td>Individual</td><td>null</td><td>null</td><td>2023-11-08 16:31:...</td></tr>\n",
       "<tr><td>378c87c538dd85c99...</td><td>EVS SUPERVISOR</td><td>6</td><td>MORTGAGE</td><td>32000.0</td><td>IL</td><td>627xx</td><td>USA</td><td>D</td><td>D4</td><td>Source Verified</td><td>46319.0</td><td>Individual</td><td>null</td><td>null</td><td>2023-11-08 16:31:...</td></tr>\n",
       "<tr><td>1dd76b1deba509af8...</td><td>Assistant Branch ...</td><td>4</td><td>RENT</td><td>46000.0</td><td>MA</td><td>017xx</td><td>USA</td><td>C</td><td>C4</td><td>Verified</td><td>47985.0</td><td>Individual</td><td>null</td><td>null</td><td>2023-11-08 16:31:...</td></tr>\n",
       "<tr><td>036ab621f1054a0e3...</td><td>Operations Manager</td><td>10</td><td>RENT</td><td>63180.0</td><td>CA</td><td>945xx</td><td>USA</td><td>B</td><td>B3</td><td>Source Verified</td><td>23275.0</td><td>Individual</td><td>null</td><td>null</td><td>2023-11-08 16:31:...</td></tr>\n",
       "<tr><td>6f4bafd9c3143f46e...</td><td>Assistant Principal</td><td>1</td><td>MORTGAGE</td><td>75800.0</td><td>TX</td><td>770xx</td><td>USA</td><td>A</td><td>A4</td><td>Source Verified</td><td>70322.0</td><td>Individual</td><td>null</td><td>null</td><td>2023-11-08 16:31:...</td></tr>\n",
       "<tr><td>21f0620d136a0660f...</td><td>Operations Assistant</td><td>5</td><td>RENT</td><td>39000.0</td><td>VA</td><td>223xx</td><td>USA</td><td>E</td><td>E4</td><td>Verified</td><td>48828.0</td><td>Individual</td><td>null</td><td>null</td><td>2023-11-08 16:31:...</td></tr>\n",
       "<tr><td>b80df2cf4131198dc...</td><td>Customer Care Eng...</td><td>2</td><td>RENT</td><td>48000.0</td><td>NC</td><td>276xx</td><td>USA</td><td>C</td><td>C1</td><td>Not Verified</td><td>18500.0</td><td>Individual</td><td>null</td><td>null</td><td>2023-11-08 16:31:...</td></tr>\n",
       "<tr><td>49189d52ad954cdf3...</td><td>Senior Geophysicist</td><td>7</td><td>MORTGAGE</td><td>130000.0</td><td>TX</td><td>774xx</td><td>USA</td><td>B</td><td>B2</td><td>Source Verified</td><td>408164.0</td><td>Individual</td><td>null</td><td>null</td><td>2023-11-08 16:31:...</td></tr>\n",
       "<tr><td>6e302e59cd9ddb3c3...</td><td>Claims Processor</td><td>10</td><td>RENT</td><td>58000.0</td><td>MI</td><td>481xx</td><td>USA</td><td>B</td><td>B1</td><td>Not Verified</td><td>53592.0</td><td>Individual</td><td>null</td><td>null</td><td>2023-11-08 16:31:...</td></tr>\n",
       "<tr><td>0fe5fd0a857c502f0...</td><td>null</td><td>6</td><td>MORTGAGE</td><td>33000.0</td><td>MO</td><td>641xx</td><td>USA</td><td>C</td><td>C2</td><td>Verified</td><td>122000.0</td><td>Individual</td><td>null</td><td>null</td><td>2023-11-08 16:31:...</td></tr>\n",
       "<tr><td>75acdb986a18deef3...</td><td>warehouse worker</td><td>7</td><td>RENT</td><td>35000.0</td><td>GA</td><td>313xx</td><td>USA</td><td>C</td><td>C4</td><td>Verified</td><td>35800.0</td><td>Individual</td><td>null</td><td>null</td><td>2023-11-08 16:31:...</td></tr>\n",
       "</table>\n",
       "only showing top 20 rows\n"
      ],
      "text/plain": [
       "+--------------------+--------------------+----------+--------------+-------------+-------------+---------------+---------------+-----+---------+-------------------+-----------------------+----------------+------------------+-------------------------+--------------------+\n",
       "|           member_id|           emp_title|emp_length|home_ownership|annual_income|address_state|address_zipcode|address_country|grade|sub_grade|verification_status|total_high_credit_limit|application_type|join_annual_income|verification_status_joint|         ingest_date|\n",
       "+--------------------+--------------------+----------+--------------+-------------+-------------+---------------+---------------+-----+---------+-------------------+-----------------------+----------------+------------------+-------------------------+--------------------+\n",
       "|ee35f3dc05bfbafbf...|       feeder driver|        10|      MORTGAGE|      96000.0|           LA|          707xx|            USA|    E|       E3|           Verified|               205464.0|      Individual|              null|                     null|2023-11-08 16:31:...|\n",
       "|7d6f6da9248a96e63...|      Senior Analyst|         5|          RENT|      75000.0|           GA|          303xx|            USA|    B|       B2|    Source Verified|                66737.0|      Individual|              null|                     null|2023-11-08 16:31:...|\n",
       "|22e3215f32f3f7b81...|Administrative As...|         3|          RENT|      40000.0|           FL|          330xx|            USA|    B|       B5|       Not Verified|                33169.0|      Individual|              null|                     null|2023-11-08 16:31:...|\n",
       "|d359a6e5fb7ef7e10...|    Restorative aide|        10|          RENT|      30000.0|           WI|          532xx|            USA|    C|       C5|       Not Verified|                24233.0|      Individual|              null|                     null|2023-11-08 16:31:...|\n",
       "|dbda328611e10a659...|              retail|         4|      MORTGAGE|      38000.0|           CA|          902xx|            USA|    C|       C3|       Not Verified|                17000.0|      Individual|              null|                     null|2023-11-08 16:31:...|\n",
       "|2364303f424375fed...|    Network Engineer|         5|      MORTGAGE|      82400.0|           CA|          906xx|            USA|    C|       C2|       Not Verified|               473136.0|      Individual|              null|                     null|2023-11-08 16:31:...|\n",
       "|3615d2cff2237a960...|            Producer|         1|          RENT|      55000.0|           CA|          900xx|            USA|    B|       B5|    Source Verified|                37946.0|      Individual|              null|                     null|2023-11-08 16:31:...|\n",
       "|bce7f62b189966a78...|    Prestige Manager|         1|          RENT|      20400.0|           NC|          272xx|            USA|    C|       C1|    Source Verified|                 8400.0|      Individual|              null|                     null|2023-11-08 16:31:...|\n",
       "|c60c8ff0ffaa0d738...|   Commercial Lender|         1|      MORTGAGE|     110000.0|           CO|          800xx|            USA|    B|       B1|           Verified|               542500.0|      Individual|              null|                     null|2023-11-08 16:31:...|\n",
       "|958be73355adb951a...|          SUPERVISOR|        10|      MORTGAGE|      75000.0|           PA|          195xx|            USA|    B|       B4|    Source Verified|               153692.0|      Individual|              null|                     null|2023-11-08 16:31:...|\n",
       "|378c87c538dd85c99...|      EVS SUPERVISOR|         6|      MORTGAGE|      32000.0|           IL|          627xx|            USA|    D|       D4|    Source Verified|                46319.0|      Individual|              null|                     null|2023-11-08 16:31:...|\n",
       "|1dd76b1deba509af8...|Assistant Branch ...|         4|          RENT|      46000.0|           MA|          017xx|            USA|    C|       C4|           Verified|                47985.0|      Individual|              null|                     null|2023-11-08 16:31:...|\n",
       "|036ab621f1054a0e3...|  Operations Manager|        10|          RENT|      63180.0|           CA|          945xx|            USA|    B|       B3|    Source Verified|                23275.0|      Individual|              null|                     null|2023-11-08 16:31:...|\n",
       "|6f4bafd9c3143f46e...| Assistant Principal|         1|      MORTGAGE|      75800.0|           TX|          770xx|            USA|    A|       A4|    Source Verified|                70322.0|      Individual|              null|                     null|2023-11-08 16:31:...|\n",
       "|21f0620d136a0660f...|Operations Assistant|         5|          RENT|      39000.0|           VA|          223xx|            USA|    E|       E4|           Verified|                48828.0|      Individual|              null|                     null|2023-11-08 16:31:...|\n",
       "|b80df2cf4131198dc...|Customer Care Eng...|         2|          RENT|      48000.0|           NC|          276xx|            USA|    C|       C1|       Not Verified|                18500.0|      Individual|              null|                     null|2023-11-08 16:31:...|\n",
       "|49189d52ad954cdf3...| Senior Geophysicist|         7|      MORTGAGE|     130000.0|           TX|          774xx|            USA|    B|       B2|    Source Verified|               408164.0|      Individual|              null|                     null|2023-11-08 16:31:...|\n",
       "|6e302e59cd9ddb3c3...|    Claims Processor|        10|          RENT|      58000.0|           MI|          481xx|            USA|    B|       B1|       Not Verified|                53592.0|      Individual|              null|                     null|2023-11-08 16:31:...|\n",
       "|0fe5fd0a857c502f0...|                null|         6|      MORTGAGE|      33000.0|           MO|          641xx|            USA|    C|       C2|           Verified|               122000.0|      Individual|              null|                     null|2023-11-08 16:31:...|\n",
       "|75acdb986a18deef3...|    warehouse worker|         7|          RENT|      35000.0|           GA|          313xx|            USA|    C|       C4|           Verified|                35800.0|      Individual|              null|                     null|2023-11-08 16:31:...|\n",
       "+--------------------+--------------------+----------+--------------+-------------+-------------+---------------+---------------+-----+---------+-------------------+-----------------------+----------------+------------------+-------------------------+--------------------+\n",
       "only showing top 20 rows"
      ]
     },
     "execution_count": 4,
     "metadata": {},
     "output_type": "execute_result"
    }
   ],
   "source": [
    "customers_df"
   ]
  },
  {
   "cell_type": "code",
   "execution_count": 5,
   "id": "86c7476b",
   "metadata": {},
   "outputs": [
    {
     "data": {
      "text/html": [
       "<table border='1'>\n",
       "<tr><th></th></tr>\n",
       "</table>\n"
      ],
      "text/plain": [
       "++\n",
       "||\n",
       "++\n",
       "++"
      ]
     },
     "execution_count": 5,
     "metadata": {},
     "output_type": "execute_result"
    }
   ],
   "source": [
    "# Create a database to store all our relevant datas\n",
    "spark.sql(\"create database itv008299_lending_club\")"
   ]
  },
  {
   "cell_type": "code",
   "execution_count": 6,
   "id": "d9805a10",
   "metadata": {},
   "outputs": [
    {
     "name": "stdout",
     "output_type": "stream",
     "text": [
      "root\n",
      " |-- member_id: string (nullable = true)\n",
      " |-- emp_title: string (nullable = true)\n",
      " |-- emp_length: integer (nullable = true)\n",
      " |-- home_ownership: string (nullable = true)\n",
      " |-- annual_income: float (nullable = true)\n",
      " |-- address_state: string (nullable = true)\n",
      " |-- address_zipcode: string (nullable = true)\n",
      " |-- address_country: string (nullable = true)\n",
      " |-- grade: string (nullable = true)\n",
      " |-- sub_grade: string (nullable = true)\n",
      " |-- verification_status: string (nullable = true)\n",
      " |-- total_high_credit_limit: float (nullable = true)\n",
      " |-- application_type: string (nullable = true)\n",
      " |-- join_annual_income: float (nullable = true)\n",
      " |-- verification_status_joint: string (nullable = true)\n",
      " |-- ingest_date: timestamp (nullable = true)\n",
      "\n"
     ]
    }
   ],
   "source": [
    "customers_df.printSchema()"
   ]
  },
  {
   "cell_type": "markdown",
   "id": "9b65d89e",
   "metadata": {},
   "source": [
    "## 1. Create customers table"
   ]
  },
  {
   "cell_type": "code",
   "execution_count": 10,
   "id": "54fc4fd3",
   "metadata": {},
   "outputs": [
    {
     "data": {
      "text/html": [
       "<table border='1'>\n",
       "<tr><th></th></tr>\n",
       "</table>\n"
      ],
      "text/plain": [
       "++\n",
       "||\n",
       "++\n",
       "++"
      ]
     },
     "execution_count": 10,
     "metadata": {},
     "output_type": "execute_result"
    }
   ],
   "source": [
    "spark.sql(\"DROP TABLE IF EXISTS itv008299_lending_club.customers\")"
   ]
  },
  {
   "cell_type": "code",
   "execution_count": 11,
   "id": "627fc2d2",
   "metadata": {},
   "outputs": [
    {
     "data": {
      "text/html": [
       "<table border='1'>\n",
       "<tr><th></th></tr>\n",
       "</table>\n"
      ],
      "text/plain": [
       "++\n",
       "||\n",
       "++\n",
       "++"
      ]
     },
     "execution_count": 11,
     "metadata": {},
     "output_type": "execute_result"
    }
   ],
   "source": [
    "spark.sql(\"\"\"\n",
    "CREATE EXTERNAL TABLE itv008299_lending_club.customers(\n",
    "    member_id string,\n",
    "    emp_title string,\n",
    "    emp_length int,\n",
    "    home_ownership string,\n",
    "    annual_income float,\n",
    "    address_state string,\n",
    "    address_zipcode string,\n",
    "    address_country string,\n",
    "    grade string,\n",
    "    sub_grade string,\n",
    "    verification_status string,\n",
    "    total_high_credit_limit float,\n",
    "    application_type string,\n",
    "    joint_annual_income float,\n",
    "    verification_status_joint string,\n",
    "    ingest_date timestamp\n",
    ") stored as parquet\n",
    "LOCATION '/user/itv008299/lendingclubproject/cleaned/customers_parquet'\n",
    "\"\"\")"
   ]
  },
  {
   "cell_type": "code",
   "execution_count": 12,
   "id": "a96f818e",
   "metadata": {},
   "outputs": [
    {
     "data": {
      "text/html": [
       "<table border='1'>\n",
       "<tr><th>member_id</th><th>emp_title</th><th>emp_length</th><th>home_ownership</th><th>annual_income</th><th>address_state</th><th>address_zipcode</th><th>address_country</th><th>grade</th><th>sub_grade</th><th>verification_status</th><th>total_high_credit_limit</th><th>application_type</th><th>joint_annual_income</th><th>verification_status_joint</th><th>ingest_date</th></tr>\n",
       "<tr><td>ee35f3dc05bfbafbf...</td><td>feeder driver</td><td>10</td><td>MORTGAGE</td><td>96000.0</td><td>LA</td><td>707xx</td><td>USA</td><td>E</td><td>E3</td><td>Verified</td><td>205464.0</td><td>Individual</td><td>null</td><td>null</td><td>2023-11-08 16:31:...</td></tr>\n",
       "<tr><td>7d6f6da9248a96e63...</td><td>Senior Analyst</td><td>5</td><td>RENT</td><td>75000.0</td><td>GA</td><td>303xx</td><td>USA</td><td>B</td><td>B2</td><td>Source Verified</td><td>66737.0</td><td>Individual</td><td>null</td><td>null</td><td>2023-11-08 16:31:...</td></tr>\n",
       "<tr><td>22e3215f32f3f7b81...</td><td>Administrative As...</td><td>3</td><td>RENT</td><td>40000.0</td><td>FL</td><td>330xx</td><td>USA</td><td>B</td><td>B5</td><td>Not Verified</td><td>33169.0</td><td>Individual</td><td>null</td><td>null</td><td>2023-11-08 16:31:...</td></tr>\n",
       "<tr><td>d359a6e5fb7ef7e10...</td><td>Restorative aide</td><td>10</td><td>RENT</td><td>30000.0</td><td>WI</td><td>532xx</td><td>USA</td><td>C</td><td>C5</td><td>Not Verified</td><td>24233.0</td><td>Individual</td><td>null</td><td>null</td><td>2023-11-08 16:31:...</td></tr>\n",
       "<tr><td>dbda328611e10a659...</td><td>retail</td><td>4</td><td>MORTGAGE</td><td>38000.0</td><td>CA</td><td>902xx</td><td>USA</td><td>C</td><td>C3</td><td>Not Verified</td><td>17000.0</td><td>Individual</td><td>null</td><td>null</td><td>2023-11-08 16:31:...</td></tr>\n",
       "<tr><td>2364303f424375fed...</td><td>Network Engineer</td><td>5</td><td>MORTGAGE</td><td>82400.0</td><td>CA</td><td>906xx</td><td>USA</td><td>C</td><td>C2</td><td>Not Verified</td><td>473136.0</td><td>Individual</td><td>null</td><td>null</td><td>2023-11-08 16:31:...</td></tr>\n",
       "<tr><td>3615d2cff2237a960...</td><td>Producer</td><td>1</td><td>RENT</td><td>55000.0</td><td>CA</td><td>900xx</td><td>USA</td><td>B</td><td>B5</td><td>Source Verified</td><td>37946.0</td><td>Individual</td><td>null</td><td>null</td><td>2023-11-08 16:31:...</td></tr>\n",
       "<tr><td>bce7f62b189966a78...</td><td>Prestige Manager</td><td>1</td><td>RENT</td><td>20400.0</td><td>NC</td><td>272xx</td><td>USA</td><td>C</td><td>C1</td><td>Source Verified</td><td>8400.0</td><td>Individual</td><td>null</td><td>null</td><td>2023-11-08 16:31:...</td></tr>\n",
       "<tr><td>c60c8ff0ffaa0d738...</td><td>Commercial Lender</td><td>1</td><td>MORTGAGE</td><td>110000.0</td><td>CO</td><td>800xx</td><td>USA</td><td>B</td><td>B1</td><td>Verified</td><td>542500.0</td><td>Individual</td><td>null</td><td>null</td><td>2023-11-08 16:31:...</td></tr>\n",
       "<tr><td>958be73355adb951a...</td><td>SUPERVISOR</td><td>10</td><td>MORTGAGE</td><td>75000.0</td><td>PA</td><td>195xx</td><td>USA</td><td>B</td><td>B4</td><td>Source Verified</td><td>153692.0</td><td>Individual</td><td>null</td><td>null</td><td>2023-11-08 16:31:...</td></tr>\n",
       "<tr><td>378c87c538dd85c99...</td><td>EVS SUPERVISOR</td><td>6</td><td>MORTGAGE</td><td>32000.0</td><td>IL</td><td>627xx</td><td>USA</td><td>D</td><td>D4</td><td>Source Verified</td><td>46319.0</td><td>Individual</td><td>null</td><td>null</td><td>2023-11-08 16:31:...</td></tr>\n",
       "<tr><td>1dd76b1deba509af8...</td><td>Assistant Branch ...</td><td>4</td><td>RENT</td><td>46000.0</td><td>MA</td><td>017xx</td><td>USA</td><td>C</td><td>C4</td><td>Verified</td><td>47985.0</td><td>Individual</td><td>null</td><td>null</td><td>2023-11-08 16:31:...</td></tr>\n",
       "<tr><td>036ab621f1054a0e3...</td><td>Operations Manager</td><td>10</td><td>RENT</td><td>63180.0</td><td>CA</td><td>945xx</td><td>USA</td><td>B</td><td>B3</td><td>Source Verified</td><td>23275.0</td><td>Individual</td><td>null</td><td>null</td><td>2023-11-08 16:31:...</td></tr>\n",
       "<tr><td>6f4bafd9c3143f46e...</td><td>Assistant Principal</td><td>1</td><td>MORTGAGE</td><td>75800.0</td><td>TX</td><td>770xx</td><td>USA</td><td>A</td><td>A4</td><td>Source Verified</td><td>70322.0</td><td>Individual</td><td>null</td><td>null</td><td>2023-11-08 16:31:...</td></tr>\n",
       "<tr><td>21f0620d136a0660f...</td><td>Operations Assistant</td><td>5</td><td>RENT</td><td>39000.0</td><td>VA</td><td>223xx</td><td>USA</td><td>E</td><td>E4</td><td>Verified</td><td>48828.0</td><td>Individual</td><td>null</td><td>null</td><td>2023-11-08 16:31:...</td></tr>\n",
       "<tr><td>b80df2cf4131198dc...</td><td>Customer Care Eng...</td><td>2</td><td>RENT</td><td>48000.0</td><td>NC</td><td>276xx</td><td>USA</td><td>C</td><td>C1</td><td>Not Verified</td><td>18500.0</td><td>Individual</td><td>null</td><td>null</td><td>2023-11-08 16:31:...</td></tr>\n",
       "<tr><td>49189d52ad954cdf3...</td><td>Senior Geophysicist</td><td>7</td><td>MORTGAGE</td><td>130000.0</td><td>TX</td><td>774xx</td><td>USA</td><td>B</td><td>B2</td><td>Source Verified</td><td>408164.0</td><td>Individual</td><td>null</td><td>null</td><td>2023-11-08 16:31:...</td></tr>\n",
       "<tr><td>6e302e59cd9ddb3c3...</td><td>Claims Processor</td><td>10</td><td>RENT</td><td>58000.0</td><td>MI</td><td>481xx</td><td>USA</td><td>B</td><td>B1</td><td>Not Verified</td><td>53592.0</td><td>Individual</td><td>null</td><td>null</td><td>2023-11-08 16:31:...</td></tr>\n",
       "<tr><td>0fe5fd0a857c502f0...</td><td>null</td><td>6</td><td>MORTGAGE</td><td>33000.0</td><td>MO</td><td>641xx</td><td>USA</td><td>C</td><td>C2</td><td>Verified</td><td>122000.0</td><td>Individual</td><td>null</td><td>null</td><td>2023-11-08 16:31:...</td></tr>\n",
       "<tr><td>75acdb986a18deef3...</td><td>warehouse worker</td><td>7</td><td>RENT</td><td>35000.0</td><td>GA</td><td>313xx</td><td>USA</td><td>C</td><td>C4</td><td>Verified</td><td>35800.0</td><td>Individual</td><td>null</td><td>null</td><td>2023-11-08 16:31:...</td></tr>\n",
       "</table>\n",
       "only showing top 20 rows\n"
      ],
      "text/plain": [
       "+--------------------+--------------------+----------+--------------+-------------+-------------+---------------+---------------+-----+---------+-------------------+-----------------------+----------------+-------------------+-------------------------+--------------------+\n",
       "|           member_id|           emp_title|emp_length|home_ownership|annual_income|address_state|address_zipcode|address_country|grade|sub_grade|verification_status|total_high_credit_limit|application_type|joint_annual_income|verification_status_joint|         ingest_date|\n",
       "+--------------------+--------------------+----------+--------------+-------------+-------------+---------------+---------------+-----+---------+-------------------+-----------------------+----------------+-------------------+-------------------------+--------------------+\n",
       "|ee35f3dc05bfbafbf...|       feeder driver|        10|      MORTGAGE|      96000.0|           LA|          707xx|            USA|    E|       E3|           Verified|               205464.0|      Individual|               null|                     null|2023-11-08 16:31:...|\n",
       "|7d6f6da9248a96e63...|      Senior Analyst|         5|          RENT|      75000.0|           GA|          303xx|            USA|    B|       B2|    Source Verified|                66737.0|      Individual|               null|                     null|2023-11-08 16:31:...|\n",
       "|22e3215f32f3f7b81...|Administrative As...|         3|          RENT|      40000.0|           FL|          330xx|            USA|    B|       B5|       Not Verified|                33169.0|      Individual|               null|                     null|2023-11-08 16:31:...|\n",
       "|d359a6e5fb7ef7e10...|    Restorative aide|        10|          RENT|      30000.0|           WI|          532xx|            USA|    C|       C5|       Not Verified|                24233.0|      Individual|               null|                     null|2023-11-08 16:31:...|\n",
       "|dbda328611e10a659...|              retail|         4|      MORTGAGE|      38000.0|           CA|          902xx|            USA|    C|       C3|       Not Verified|                17000.0|      Individual|               null|                     null|2023-11-08 16:31:...|\n",
       "|2364303f424375fed...|    Network Engineer|         5|      MORTGAGE|      82400.0|           CA|          906xx|            USA|    C|       C2|       Not Verified|               473136.0|      Individual|               null|                     null|2023-11-08 16:31:...|\n",
       "|3615d2cff2237a960...|            Producer|         1|          RENT|      55000.0|           CA|          900xx|            USA|    B|       B5|    Source Verified|                37946.0|      Individual|               null|                     null|2023-11-08 16:31:...|\n",
       "|bce7f62b189966a78...|    Prestige Manager|         1|          RENT|      20400.0|           NC|          272xx|            USA|    C|       C1|    Source Verified|                 8400.0|      Individual|               null|                     null|2023-11-08 16:31:...|\n",
       "|c60c8ff0ffaa0d738...|   Commercial Lender|         1|      MORTGAGE|     110000.0|           CO|          800xx|            USA|    B|       B1|           Verified|               542500.0|      Individual|               null|                     null|2023-11-08 16:31:...|\n",
       "|958be73355adb951a...|          SUPERVISOR|        10|      MORTGAGE|      75000.0|           PA|          195xx|            USA|    B|       B4|    Source Verified|               153692.0|      Individual|               null|                     null|2023-11-08 16:31:...|\n",
       "|378c87c538dd85c99...|      EVS SUPERVISOR|         6|      MORTGAGE|      32000.0|           IL|          627xx|            USA|    D|       D4|    Source Verified|                46319.0|      Individual|               null|                     null|2023-11-08 16:31:...|\n",
       "|1dd76b1deba509af8...|Assistant Branch ...|         4|          RENT|      46000.0|           MA|          017xx|            USA|    C|       C4|           Verified|                47985.0|      Individual|               null|                     null|2023-11-08 16:31:...|\n",
       "|036ab621f1054a0e3...|  Operations Manager|        10|          RENT|      63180.0|           CA|          945xx|            USA|    B|       B3|    Source Verified|                23275.0|      Individual|               null|                     null|2023-11-08 16:31:...|\n",
       "|6f4bafd9c3143f46e...| Assistant Principal|         1|      MORTGAGE|      75800.0|           TX|          770xx|            USA|    A|       A4|    Source Verified|                70322.0|      Individual|               null|                     null|2023-11-08 16:31:...|\n",
       "|21f0620d136a0660f...|Operations Assistant|         5|          RENT|      39000.0|           VA|          223xx|            USA|    E|       E4|           Verified|                48828.0|      Individual|               null|                     null|2023-11-08 16:31:...|\n",
       "|b80df2cf4131198dc...|Customer Care Eng...|         2|          RENT|      48000.0|           NC|          276xx|            USA|    C|       C1|       Not Verified|                18500.0|      Individual|               null|                     null|2023-11-08 16:31:...|\n",
       "|49189d52ad954cdf3...| Senior Geophysicist|         7|      MORTGAGE|     130000.0|           TX|          774xx|            USA|    B|       B2|    Source Verified|               408164.0|      Individual|               null|                     null|2023-11-08 16:31:...|\n",
       "|6e302e59cd9ddb3c3...|    Claims Processor|        10|          RENT|      58000.0|           MI|          481xx|            USA|    B|       B1|       Not Verified|                53592.0|      Individual|               null|                     null|2023-11-08 16:31:...|\n",
       "|0fe5fd0a857c502f0...|                null|         6|      MORTGAGE|      33000.0|           MO|          641xx|            USA|    C|       C2|           Verified|               122000.0|      Individual|               null|                     null|2023-11-08 16:31:...|\n",
       "|75acdb986a18deef3...|    warehouse worker|         7|          RENT|      35000.0|           GA|          313xx|            USA|    C|       C4|           Verified|                35800.0|      Individual|               null|                     null|2023-11-08 16:31:...|\n",
       "+--------------------+--------------------+----------+--------------+-------------+-------------+---------------+---------------+-----+---------+-------------------+-----------------------+----------------+-------------------+-------------------------+--------------------+\n",
       "only showing top 20 rows"
      ]
     },
     "execution_count": 12,
     "metadata": {},
     "output_type": "execute_result"
    }
   ],
   "source": [
    "spark.sql(\"select * from itv008299_lending_club.customers\")"
   ]
  },
  {
   "cell_type": "markdown",
   "id": "936c20f2",
   "metadata": {},
   "source": [
    "## 2. Create loans table"
   ]
  },
  {
   "cell_type": "code",
   "execution_count": 13,
   "id": "183a8a7c",
   "metadata": {},
   "outputs": [],
   "source": [
    "loans_df = spark.read\\\n",
    ".format(\"parquet\")\\\n",
    ".load(\"/user/itv008299/lendingclubproject/cleaned/loans_parquet\")"
   ]
  },
  {
   "cell_type": "code",
   "execution_count": 14,
   "id": "95b34a66",
   "metadata": {},
   "outputs": [
    {
     "name": "stdout",
     "output_type": "stream",
     "text": [
      "root\n",
      " |-- loan_id: string (nullable = true)\n",
      " |-- member_id: string (nullable = true)\n",
      " |-- loan_amount: float (nullable = true)\n",
      " |-- funded_amount: float (nullable = true)\n",
      " |-- loan_term_years: integer (nullable = true)\n",
      " |-- interest_rate: float (nullable = true)\n",
      " |-- monthly_installment: float (nullable = true)\n",
      " |-- issue_date: string (nullable = true)\n",
      " |-- loan_status: string (nullable = true)\n",
      " |-- loan_purpose: string (nullable = true)\n",
      " |-- loan_title: string (nullable = true)\n",
      " |-- ingest_date: timestamp (nullable = true)\n",
      "\n"
     ]
    }
   ],
   "source": [
    "loans_df.printSchema()"
   ]
  },
  {
   "cell_type": "code",
   "execution_count": 15,
   "id": "d8da3a9c",
   "metadata": {},
   "outputs": [
    {
     "data": {
      "text/html": [
       "<table border='1'>\n",
       "<tr><th></th></tr>\n",
       "</table>\n"
      ],
      "text/plain": [
       "++\n",
       "||\n",
       "++\n",
       "++"
      ]
     },
     "execution_count": 15,
     "metadata": {},
     "output_type": "execute_result"
    }
   ],
   "source": [
    "spark.sql(\"\"\"\n",
    "CREATE EXTERNAL TABLE itv008299_lending_club.loans(\n",
    "    loan_id string,\n",
    "    member_id string,\n",
    "    loan_amount float,\n",
    "    funded_amount float,\n",
    "    loan_term_years int,\n",
    "    interest_rate float,\n",
    "    monthly_installment float,\n",
    "    issue_date string,\n",
    "    loan_status string,\n",
    "    loan_purpose string,\n",
    "    loan_title string,\n",
    "    ingest_date timestamp\n",
    ") stored as parquet\n",
    "LOCATION '/user/itv008299/lendingclubproject/cleaned/loans_parquet'\n",
    "\"\"\")"
   ]
  },
  {
   "cell_type": "markdown",
   "id": "51c14995",
   "metadata": {},
   "source": [
    "## 3. Create loan repayments table"
   ]
  },
  {
   "cell_type": "code",
   "execution_count": 16,
   "id": "bb1400f1",
   "metadata": {},
   "outputs": [],
   "source": [
    "loan_repayments_df = spark.read\\\n",
    ".format(\"parquet\")\\\n",
    ".load(\"/user/itv008299/lendingclubproject/cleaned/loans_repayments_parquet\")"
   ]
  },
  {
   "cell_type": "code",
   "execution_count": 17,
   "id": "bcd6169a",
   "metadata": {},
   "outputs": [
    {
     "name": "stdout",
     "output_type": "stream",
     "text": [
      "root\n",
      " |-- loan_id: string (nullable = true)\n",
      " |-- total_principal_received: float (nullable = true)\n",
      " |-- total_interest_received: float (nullable = true)\n",
      " |-- total_late_fee_received: float (nullable = true)\n",
      " |-- total_payment_received: float (nullable = true)\n",
      " |-- last_payment_amount: float (nullable = true)\n",
      " |-- last_payment_date: string (nullable = true)\n",
      " |-- next_payment_date: string (nullable = true)\n",
      " |-- ingest_date: timestamp (nullable = true)\n",
      "\n"
     ]
    }
   ],
   "source": [
    "loan_repayments_df.printSchema()"
   ]
  },
  {
   "cell_type": "code",
   "execution_count": 18,
   "id": "72e49287",
   "metadata": {},
   "outputs": [
    {
     "data": {
      "text/html": [
       "<table border='1'>\n",
       "<tr><th></th></tr>\n",
       "</table>\n"
      ],
      "text/plain": [
       "++\n",
       "||\n",
       "++\n",
       "++"
      ]
     },
     "execution_count": 18,
     "metadata": {},
     "output_type": "execute_result"
    }
   ],
   "source": [
    "spark.sql(\"\"\"\n",
    "CREATE EXTERNAL TABLE itv008299_lending_club.loan_repayments(\n",
    "    loan_id string,\n",
    "    total_principal_received float,\n",
    "    total_interest_received float,\n",
    "    total_late_fee_received float,\n",
    "    total_payment_received float,\n",
    "    last_payment_amount float,\n",
    "    last_payment_date string,\n",
    "    next_payment_date string, \n",
    "    ingest_date timestamp\n",
    ") stored as parquet\n",
    "LOCATION '/user/itv008299/lendingclubproject/cleaned/loan_repayments_parquet'\n",
    "\"\"\")"
   ]
  },
  {
   "cell_type": "markdown",
   "id": "da50a299",
   "metadata": {},
   "source": [
    "## 4. Create loan defaulters delinq"
   ]
  },
  {
   "cell_type": "code",
   "execution_count": 19,
   "id": "48f64d89",
   "metadata": {},
   "outputs": [],
   "source": [
    "loan_defaulters_delinq_df = spark.read\\\n",
    ".format(\"parquet\")\\\n",
    ".load(\"/user/itv008299/lendingclubproject/cleaned/loan_defaulters_delinq_parquet\")"
   ]
  },
  {
   "cell_type": "code",
   "execution_count": 20,
   "id": "9ef88236",
   "metadata": {},
   "outputs": [
    {
     "name": "stdout",
     "output_type": "stream",
     "text": [
      "root\n",
      " |-- member_id: string (nullable = true)\n",
      " |-- delinq_2yrs: integer (nullable = true)\n",
      " |-- delinq_amnt: float (nullable = true)\n",
      " |-- mths_since_last_delinq: integer (nullable = true)\n",
      " |-- ingest_date: timestamp (nullable = true)\n",
      "\n"
     ]
    }
   ],
   "source": [
    "loan_defaulters_delinq_df.printSchema()"
   ]
  },
  {
   "cell_type": "code",
   "execution_count": 21,
   "id": "7709b926",
   "metadata": {},
   "outputs": [
    {
     "data": {
      "text/html": [
       "<table border='1'>\n",
       "<tr><th></th></tr>\n",
       "</table>\n"
      ],
      "text/plain": [
       "++\n",
       "||\n",
       "++\n",
       "++"
      ]
     },
     "execution_count": 21,
     "metadata": {},
     "output_type": "execute_result"
    }
   ],
   "source": [
    "spark.sql(\"\"\"\n",
    "CREATE EXTERNAL TABLE itv008299_lending_club.loan_def_delinq(\n",
    "    member_id string,\n",
    "    delinq_2yrs int,\n",
    "    delinq_amnt float,\n",
    "    mths_since_last_delinq int,\n",
    "    ingest_date timestamp\n",
    ") stored as parquet\n",
    "LOCATION '/user/itv008299/lendingclubproject/cleaned/loan_defaulters_delinq_parquet'\n",
    "\"\"\")"
   ]
  },
  {
   "cell_type": "markdown",
   "id": "f1495c47",
   "metadata": {},
   "source": [
    "## 5. Create loan defaulters detail enquiry table"
   ]
  },
  {
   "cell_type": "code",
   "execution_count": 22,
   "id": "71593f31",
   "metadata": {},
   "outputs": [],
   "source": [
    "loan_defaulters_detail_records_df =  spark.read\\\n",
    ".format(\"parquet\")\\\n",
    ".load(\"/user/itv008299/lendingclubproject/cleaned/loan_defaulters_detail_records_enq_parquet\")"
   ]
  },
  {
   "cell_type": "code",
   "execution_count": 23,
   "id": "09214d07",
   "metadata": {},
   "outputs": [
    {
     "name": "stdout",
     "output_type": "stream",
     "text": [
      "root\n",
      " |-- member_id: string (nullable = true)\n",
      " |-- pub_rec: integer (nullable = true)\n",
      " |-- pub_rec_bankruptcies: integer (nullable = true)\n",
      " |-- inq_last_6mths: integer (nullable = true)\n",
      " |-- ingest_date: timestamp (nullable = true)\n",
      "\n"
     ]
    }
   ],
   "source": [
    "loan_defaulters_detail_records_df.printSchema()"
   ]
  },
  {
   "cell_type": "code",
   "execution_count": 25,
   "id": "8596ce0e",
   "metadata": {},
   "outputs": [
    {
     "data": {
      "text/html": [
       "<table border='1'>\n",
       "<tr><th></th></tr>\n",
       "</table>\n"
      ],
      "text/plain": [
       "++\n",
       "||\n",
       "++\n",
       "++"
      ]
     },
     "execution_count": 25,
     "metadata": {},
     "output_type": "execute_result"
    }
   ],
   "source": [
    "spark.sql(\"\"\"\n",
    "CREATE EXTERNAL TABLE itv008299_lending_club.loan_def_detail_record_enq(\n",
    "    member_id string,\n",
    "    pub_rec int,\n",
    "    pub_rec_bankruptcies int,\n",
    "    inq_last_6mths int,\n",
    "    ingest_date timestamp\n",
    ") stored as parquet\n",
    "LOCATION '/user/itv008299/lendingclubproject/cleaned/loan_defaulters_detail_records_enq_parquet'\n",
    "\"\"\")"
   ]
  },
  {
   "cell_type": "markdown",
   "id": "40e401a4",
   "metadata": {},
   "source": [
    "## Requirement 2\n",
    "\n",
    "- A complete view of these 5 datasets in one single view.\n",
    "- Need the most upto date data\n",
    "- New data comes every 24 hrs, the underlying tables are refreshed every 24 hrs\n",
    "- For this, as a solution we will create view"
   ]
  },
  {
   "cell_type": "code",
   "execution_count": 26,
   "id": "792e6091",
   "metadata": {},
   "outputs": [
    {
     "data": {
      "text/html": [
       "<table border='1'>\n",
       "<tr><th></th></tr>\n",
       "</table>\n"
      ],
      "text/plain": [
       "++\n",
       "||\n",
       "++\n",
       "++"
      ]
     },
     "execution_count": 26,
     "metadata": {},
     "output_type": "execute_result"
    }
   ],
   "source": [
    "spark.sql(\"\"\"\n",
    "CREATE OR REPLACE VIEW itv008299_lending_club.customers_loan_vw AS \n",
    "    SELECT\n",
    "        l.loan_id,\n",
    "        c.member_id,\n",
    "        c.emp_title,\n",
    "        c.emp_length,\n",
    "        c.home_ownership,\n",
    "        c.annual_income,\n",
    "        c.address_state,\n",
    "        c.address_zipcode,\n",
    "        c.address_country,\n",
    "        c.grade,\n",
    "        c.sub_grade,\n",
    "        c.verification_status,\n",
    "        c.total_high_credit_limit,\n",
    "        c.application_type,\n",
    "        c.joint_annual_income,\n",
    "        c.verification_status_joint,\n",
    "        l.loan_amount,\n",
    "        l.funded_amount,\n",
    "        l.loan_term_years,\n",
    "        l.interest_rate,\n",
    "        l.monthly_installment,\n",
    "        l.issue_date,\n",
    "        l.loan_status,\n",
    "        l.loan_purpose,\n",
    "        lr.total_principal_received,\n",
    "        lr.total_interest_received,\n",
    "        lr.total_late_fee_received,\n",
    "        lr.total_payment_received,\n",
    "        lr.last_payment_amount,\n",
    "        lr.last_payment_date,\n",
    "        lr.next_payment_date,\n",
    "        ldq.delinq_2yrs,\n",
    "        ldq.delinq_amnt,\n",
    "        ldq.mths_since_last_delinq,\n",
    "        lde.pub_rec,\n",
    "        lde.pub_rec_bankruptcies,\n",
    "        lde.inq_last_6mths\n",
    "    FROM itv008299_lending_club.customers c\n",
    "    LEFT JOIN itv008299_lending_club.loans l \n",
    "        ON c.member_id = l.member_id\n",
    "    LEFT JOIN itv008299_lending_club.loan_repayments lr\n",
    "        ON l.loan_id = lr.loan_id\n",
    "    LEFT JOIN itv008299_lending_club.loan_def_delinq ldq\n",
    "        ON c.member_id = ldq.member_id\n",
    "    LEFT JOIN itv008299_lending_club.loan_def_detail_record_enq lde\n",
    "        ON c.member_id = lde.member_id\n",
    "\"\"\")"
   ]
  },
  {
   "cell_type": "markdown",
   "id": "f3318aac",
   "metadata": {},
   "source": [
    "## Requirement 3\n",
    "\n",
    "- Another team came and asked that they would need a very quick access of datas from the view table ceated above.\n",
    "\n",
    "- Solution 1: we have a job that runs every 7 DAYS ONE TIME, THE JOIN OF 5 TABLE IS DONE AND THE RESULTS ARE PUT IN A TABLE\n",
    "The results are faster but the data might be older in this case ( max 7 days old ). Since its heavy job, we cannot affor running it daily. So, we need to communicate if the team is okay with this."
   ]
  },
  {
   "cell_type": "code",
   "execution_count": 27,
   "id": "45aa3239",
   "metadata": {},
   "outputs": [
    {
     "data": {
      "text/html": [
       "<table border='1'>\n",
       "<tr><th></th></tr>\n",
       "</table>\n"
      ],
      "text/plain": [
       "++\n",
       "||\n",
       "++\n",
       "++"
      ]
     },
     "execution_count": 27,
     "metadata": {},
     "output_type": "execute_result"
    }
   ],
   "source": [
    "spark.sql(\"\"\"\n",
    "CREATE TABLE itv008299_lending_club.customers_loan AS \n",
    "    SELECT\n",
    "        l.loan_id,\n",
    "        c.member_id,\n",
    "        c.emp_title,\n",
    "        c.emp_length,\n",
    "        c.home_ownership,\n",
    "        c.annual_income,\n",
    "        c.address_state,\n",
    "        c.address_zipcode,\n",
    "        c.address_country,\n",
    "        c.grade,\n",
    "        c.sub_grade,\n",
    "        c.verification_status,\n",
    "        c.total_high_credit_limit,\n",
    "        c.application_type,\n",
    "        c.joint_annual_income,\n",
    "        c.verification_status_joint,\n",
    "        l.loan_amount,\n",
    "        l.funded_amount,\n",
    "        l.loan_term_years,\n",
    "        l.interest_rate,\n",
    "        l.monthly_installment,\n",
    "        l.issue_date,\n",
    "        l.loan_status,\n",
    "        l.loan_purpose,\n",
    "        lr.total_principal_received,\n",
    "        lr.total_interest_received,\n",
    "        lr.total_late_fee_received,\n",
    "        lr.total_payment_received,\n",
    "        lr.last_payment_amount,\n",
    "        lr.last_payment_date,\n",
    "        lr.next_payment_date,\n",
    "        ldq.delinq_2yrs,\n",
    "        ldq.delinq_amnt,\n",
    "        ldq.mths_since_last_delinq,\n",
    "        lde.pub_rec,\n",
    "        lde.pub_rec_bankruptcies,\n",
    "        lde.inq_last_6mths\n",
    "    FROM itv008299_lending_club.customers c\n",
    "    LEFT JOIN itv008299_lending_club.loans l \n",
    "        ON c.member_id = l.member_id\n",
    "    LEFT JOIN itv008299_lending_club.loan_repayments lr\n",
    "        ON l.loan_id = lr.loan_id\n",
    "    LEFT JOIN itv008299_lending_club.loan_def_delinq ldq\n",
    "        ON c.member_id = ldq.member_id\n",
    "    LEFT JOIN itv008299_lending_club.loan_def_detail_record_enq lde\n",
    "        ON c.member_id = lde.member_id\n",
    "\"\"\")"
   ]
  },
  {
   "cell_type": "code",
   "execution_count": 13,
   "id": "105a0649",
   "metadata": {},
   "outputs": [
    {
     "data": {
      "text/html": [
       "<table border='1'>\n",
       "<tr><th>loan_id</th><th>member_id</th><th>emp_title</th><th>emp_length</th><th>home_ownership</th><th>annual_income</th><th>address_state</th><th>address_zipcode</th><th>address_country</th><th>grade</th><th>sub_grade</th><th>verification_status</th><th>tot_hi_credit_limit</th><th>application_type</th><th>joint_annual_income</th><th>verification_status_joint</th><th>loan_amount</th><th>funded_amount</th><th>loan_term_years</th><th>interest_rate</th><th>monthly_installment</th><th>issue_date</th><th>loan_status</th><th>loan_purpose</th><th>total_principal_received</th><th>total_interest_received</th><th>total_late_fee_received</th><th>total_payment_received</th><th>last_payment_amount</th><th>last_payment_date</th><th>next_payment_date</th><th>delinq_2yrs</th><th>delinq_amnt</th><th>mths_since_last_delinq</th><th>pub_rec</th><th>pub_rec_bankruptcies</th><th>inq_last_6mths</th></tr>\n",
       "<tr><td>71175798</td><td>000c8875b71a6b47c...</td><td>Director of Gvt O...</td><td>1</td><td>MORTGAGE</td><td>100000.0</td><td>CA</td><td>920xx</td><td>USA</td><td>A</td><td>A4</td><td>Not Verified</td><td>null</td><td>Individual</td><td>null</td><td>null</td><td>3000.0</td><td>3000.0</td><td>3</td><td>7.39</td><td>93.17</td><td>Feb-2016</td><td>Fully Paid</td><td>debt_consolidation</td><td>3000.0</td><td>114.47</td><td>0.0</td><td>3114.47</td><td>2647.45</td><td>Aug-2016</td><td>null</td><td>1</td><td>0.0</td><td>13</td><td>null</td><td>null</td><td>null</td></tr>\n",
       "<tr><td>139313300</td><td>000fc98fc1ca5faa3...</td><td>coord</td><td>10</td><td>MORTGAGE</td><td>220000.0</td><td>CA</td><td>952xx</td><td>USA</td><td>A</td><td>A3</td><td>Not Verified</td><td>null</td><td>Joint App</td><td>null</td><td>null</td><td>20000.0</td><td>20000.0</td><td>3</td><td>7.21</td><td>619.47</td><td>Aug-2018</td><td>Current</td><td>credit_card</td><td>3558.76</td><td>769.52</td><td>0.0</td><td>4328.28</td><td>619.47</td><td>Mar-2019</td><td>Apr-2019</td><td>null</td><td>null</td><td>null</td><td>null</td><td>null</td><td>null</td></tr>\n",
       "<tr><td>143195702</td><td>0012728d9f616bdf2...</td><td>null</td><td>6</td><td>OWN</td><td>35000.0</td><td>SC</td><td>294xx</td><td>USA</td><td>A</td><td>A5</td><td>Not Verified</td><td>null</td><td>Individual</td><td>null</td><td>null</td><td>9000.0</td><td>9000.0</td><td>3</td><td>8.46</td><td>283.95</td><td>Dec-2018</td><td>Current</td><td>debt_consolidation</td><td>666.17</td><td>181.45</td><td>0.0</td><td>847.62</td><td>283.95</td><td>Mar-2019</td><td>Apr-2019</td><td>null</td><td>null</td><td>null</td><td>null</td><td>null</td><td>null</td></tr>\n",
       "<tr><td>2284564</td><td>00151ece27c7ca280...</td><td>Northglenn Police...</td><td>8</td><td>RENT</td><td>54000.0</td><td>CO</td><td>802xx</td><td>USA</td><td>C</td><td>C1</td><td>Not Verified</td><td>null</td><td>Individual</td><td>null</td><td>null</td><td>12800.0</td><td>12800.0</td><td>3</td><td>14.33</td><td>439.53</td><td>Nov-2012</td><td>Fully Paid</td><td>debt_consolidation</td><td>12800.0</td><td>2192.68</td><td>0.0</td><td>14992.676</td><td>7529.95</td><td>Jun-2014</td><td>null</td><td>null</td><td>null</td><td>null</td><td>0</td><td>0</td><td>1</td></tr>\n",
       "<tr><td>3845340</td><td>002800d49886390d2...</td><td>RehabCare</td><td>2</td><td>RENT</td><td>60000.0</td><td>TX</td><td>787xx</td><td>USA</td><td>D</td><td>D3</td><td>Not Verified</td><td>null</td><td>Individual</td><td>null</td><td>null</td><td>15000.0</td><td>15000.0</td><td>3</td><td>18.75</td><td>547.95</td><td>Mar-2013</td><td>Charged Off</td><td>debt_consolidation</td><td>12856.06</td><td>4702.54</td><td>0.0</td><td>17835.81</td><td>547.95</td><td>Dec-2015</td><td>null</td><td>null</td><td>null</td><td>null</td><td>null</td><td>null</td><td>null</td></tr>\n",
       "<tr><td>360493</td><td>003715c2aec34dd43...</td><td>Apex Technologies...</td><td>1</td><td>MORTGAGE</td><td>90000.0</td><td>PA</td><td>171xx</td><td>USA</td><td>C</td><td>C3</td><td>Not Verified</td><td>null</td><td>Individual</td><td>null</td><td>null</td><td>12000.0</td><td>12000.0</td><td>3</td><td>12.41</td><td>400.93</td><td>Oct-2008</td><td>Fully Paid</td><td>debt_consolidation</td><td>12000.0</td><td>208.02</td><td>0.0</td><td>12208.02</td><td>1.07</td><td>Apr-2009</td><td>null</td><td>null</td><td>null</td><td>null</td><td>0</td><td>0</td><td>2</td></tr>\n",
       "<tr><td>95004059</td><td>003769d7f54c7859e...</td><td>Trainer</td><td>10</td><td>MORTGAGE</td><td>35000.0</td><td>NC</td><td>282xx</td><td>USA</td><td>E</td><td>E1</td><td>Verified</td><td>null</td><td>Individual</td><td>null</td><td>null</td><td>10000.0</td><td>10000.0</td><td>5</td><td>22.74</td><td>280.42</td><td>Dec-2016</td><td>Charged Off</td><td>medical</td><td>90.92</td><td>176.87</td><td>0.0</td><td>1492.05</td><td>280.42</td><td>Jan-2017</td><td>null</td><td>1</td><td>0.0</td><td>20</td><td>null</td><td>null</td><td>null</td></tr>\n",
       "<tr><td>142641777</td><td>0037bb910c0a758f5...</td><td>Network Engineer</td><td>2</td><td>RENT</td><td>105000.0</td><td>IL</td><td>601xx</td><td>USA</td><td>C</td><td>C3</td><td>Source Verified</td><td>null</td><td>Individual</td><td>null</td><td>null</td><td>2000.0</td><td>2000.0</td><td>3</td><td>15.02</td><td>69.36</td><td>Oct-2018</td><td>Current</td><td>other</td><td>227.25</td><td>116.21</td><td>0.0</td><td>343.46</td><td>69.36</td><td>Mar-2019</td><td>Apr-2019</td><td>null</td><td>null</td><td>null</td><td>null</td><td>null</td><td>null</td></tr>\n",
       "<tr><td>91518424</td><td>003d7bee408492f11...</td><td>Flight Attendant</td><td>10</td><td>RENT</td><td>75000.0</td><td>AZ</td><td>852xx</td><td>USA</td><td>A</td><td>A5</td><td>Not Verified</td><td>null</td><td>Individual</td><td>null</td><td>null</td><td>10000.0</td><td>10000.0</td><td>3</td><td>7.99</td><td>313.32</td><td>Oct-2016</td><td>Current</td><td>other</td><td>7864.12</td><td>1213.28</td><td>0.0</td><td>9077.4</td><td>313.32</td><td>Mar-2019</td><td>Apr-2019</td><td>null</td><td>null</td><td>null</td><td>null</td><td>null</td><td>null</td></tr>\n",
       "<tr><td>116883875</td><td>003e1e6cbd2920bbb...</td><td>Operations Superv...</td><td>9</td><td>MORTGAGE</td><td>92000.0</td><td>LA</td><td>705xx</td><td>USA</td><td>A</td><td>A5</td><td>Source Verified</td><td>null</td><td>Individual</td><td>null</td><td>null</td><td>10000.0</td><td>10000.0</td><td>3</td><td>7.97</td><td>313.23</td><td>Aug-2017</td><td>Current</td><td>debt_consolidation</td><td>4980.61</td><td>970.21</td><td>0.0</td><td>5950.82</td><td>313.23</td><td>Mar-2019</td><td>Apr-2019</td><td>1</td><td>0.0</td><td>23</td><td>1</td><td>1</td><td>0</td></tr>\n",
       "<tr><td>10616863</td><td>004017b21bd4d6271...</td><td>Regional Rehab Di...</td><td>9</td><td>MORTGAGE</td><td>113000.0</td><td>NC</td><td>276xx</td><td>USA</td><td>C</td><td>C1</td><td>Not Verified</td><td>null</td><td>Individual</td><td>null</td><td>null</td><td>3000.0</td><td>3000.0</td><td>3</td><td>13.98</td><td>102.51</td><td>Jan-2014</td><td>Fully Paid</td><td>debt_consolidation</td><td>3000.0</td><td>685.71</td><td>15.0</td><td>3700.7124</td><td>43.24</td><td>Dec-2016</td><td>null</td><td>6</td><td>0.0</td><td>9</td><td>null</td><td>null</td><td>null</td></tr>\n",
       "<tr><td>58882363</td><td>004dbe6698f1482be...</td><td>Project Manager</td><td>3</td><td>MORTGAGE</td><td>130000.0</td><td>NY</td><td>109xx</td><td>USA</td><td>D</td><td>D4</td><td>Verified</td><td>null</td><td>Individual</td><td>null</td><td>null</td><td>35000.0</td><td>35000.0</td><td>3</td><td>17.57</td><td>1257.8</td><td>Sep-2015</td><td>Fully Paid</td><td>credit_card</td><td>35000.0</td><td>10246.49</td><td>0.0</td><td>45246.492</td><td>1257.65</td><td>Sep-2018</td><td>null</td><td>null</td><td>null</td><td>null</td><td>0</td><td>0</td><td>2</td></tr>\n",
       "<tr><td>27681731</td><td>004f73beb41d739e1...</td><td>Staff Research As...</td><td>6</td><td>RENT</td><td>60000.0</td><td>CA</td><td>921xx</td><td>USA</td><td>C</td><td>C4</td><td>Source Verified</td><td>null</td><td>Individual</td><td>null</td><td>null</td><td>15775.0</td><td>15775.0</td><td>5</td><td>14.49</td><td>371.08</td><td>Sep-2014</td><td>Current</td><td>debt_consolidation</td><td>13639.96</td><td>6398.36</td><td>0.0</td><td>20038.32</td><td>371.08</td><td>Mar-2019</td><td>Apr-2019</td><td>null</td><td>null</td><td>null</td><td>null</td><td>null</td><td>null</td></tr>\n",
       "<tr><td>35236401</td><td>0059ce602b84a1bdd...</td><td>correctional officer</td><td>10</td><td>MORTGAGE</td><td>75000.0</td><td>CA</td><td>933xx</td><td>USA</td><td>D</td><td>D4</td><td>Verified</td><td>null</td><td>Individual</td><td>null</td><td>null</td><td>31450.0</td><td>31450.0</td><td>3</td><td>17.14</td><td>1123.48</td><td>Dec-2014</td><td>Fully Paid</td><td>debt_consolidation</td><td>31450.0</td><td>8693.53</td><td>0.0</td><td>40143.527</td><td>505.1</td><td>Dec-2017</td><td>null</td><td>null</td><td>null</td><td>null</td><td>0</td><td>0</td><td>1</td></tr>\n",
       "<tr><td>83648322</td><td>005b4c3db3fce07dc...</td><td>office manager</td><td>9</td><td>MORTGAGE</td><td>61000.0</td><td>FL</td><td>334xx</td><td>USA</td><td>B</td><td>B5</td><td>Source Verified</td><td>null</td><td>Individual</td><td>null</td><td>null</td><td>6000.0</td><td>6000.0</td><td>3</td><td>11.49</td><td>197.83</td><td>Jun-2016</td><td>Current</td><td>credit_card</td><td>5417.8</td><td>1102.93</td><td>0.0</td><td>6520.73</td><td>197.83</td><td>Mar-2019</td><td>Apr-2019</td><td>1</td><td>0.0</td><td>18</td><td>1</td><td>0</td><td>1</td></tr>\n",
       "<tr><td>60615493</td><td>005d5e3c98a159671...</td><td>Staff Accountant</td><td>5</td><td>RENT</td><td>57000.0</td><td>NY</td><td>113xx</td><td>USA</td><td>C</td><td>C5</td><td>Source Verified</td><td>null</td><td>Individual</td><td>null</td><td>null</td><td>9000.0</td><td>9000.0</td><td>3</td><td>14.65</td><td>310.45</td><td>Sep-2015</td><td>Fully Paid</td><td>credit_card</td><td>9000.0</td><td>440.68</td><td>0.0</td><td>9440.68</td><td>8516.65</td><td>Jan-2016</td><td>null</td><td>null</td><td>null</td><td>null</td><td>null</td><td>null</td><td>null</td></tr>\n",
       "<tr><td>15650801</td><td>005daa54678e6fdfe...</td><td>Account Manager</td><td>1</td><td>MORTGAGE</td><td>105000.0</td><td>TX</td><td>761xx</td><td>USA</td><td>B</td><td>B5</td><td>Not Verified</td><td>null</td><td>Individual</td><td>null</td><td>null</td><td>10000.0</td><td>10000.0</td><td>3</td><td>12.99</td><td>336.9</td><td>May-2014</td><td>Charged Off</td><td>debt_consolidation</td><td>1900.02</td><td>795.18</td><td>0.0</td><td>4141.46</td><td>336.9</td><td>Jan-2015</td><td>null</td><td>null</td><td>null</td><td>null</td><td>0</td><td>0</td><td>2</td></tr>\n",
       "<tr><td>55452248</td><td>0061cd647ed984d65...</td><td>Interview Specialist</td><td>10</td><td>MORTGAGE</td><td>34944.0</td><td>FL</td><td>334xx</td><td>USA</td><td>D</td><td>D2</td><td>Verified</td><td>null</td><td>Individual</td><td>null</td><td>null</td><td>8900.0</td><td>8900.0</td><td>3</td><td>16.55</td><td>315.32</td><td>Jul-2015</td><td>Fully Paid</td><td>debt_consolidation</td><td>8900.0</td><td>1772.08</td><td>0.0</td><td>10672.078</td><td>5315.73</td><td>Feb-2017</td><td>null</td><td>null</td><td>null</td><td>null</td><td>null</td><td>null</td><td>null</td></tr>\n",
       "<tr><td>51646280</td><td>0068aeffe996677c2...</td><td>Partner</td><td>10</td><td>MORTGAGE</td><td>120000.0</td><td>AK</td><td>998xx</td><td>USA</td><td>D</td><td>D1</td><td>Not Verified</td><td>null</td><td>Individual</td><td>null</td><td>null</td><td>20000.0</td><td>20000.0</td><td>3</td><td>15.61</td><td>699.3</td><td>Jun-2015</td><td>Fully Paid</td><td>home_improvement</td><td>20000.0</td><td>5157.27</td><td>0.0</td><td>25157.271</td><td>699.11</td><td>Jun-2018</td><td>null</td><td>null</td><td>null</td><td>null</td><td>0</td><td>0</td><td>2</td></tr>\n",
       "<tr><td>49954749</td><td>00710707c563c2119...</td><td>owner</td><td>3</td><td>MORTGAGE</td><td>109000.0</td><td>FL</td><td>324xx</td><td>USA</td><td>B</td><td>B5</td><td>Source Verified</td><td>null</td><td>Individual</td><td>null</td><td>null</td><td>15000.0</td><td>15000.0</td><td>3</td><td>11.53</td><td>494.86</td><td>Jun-2015</td><td>Fully Paid</td><td>debt_consolidation</td><td>15000.0</td><td>2595.47</td><td>0.0</td><td>17595.467</td><td>1857.95</td><td>Oct-2017</td><td>null</td><td>1</td><td>0.0</td><td>8</td><td>null</td><td>null</td><td>null</td></tr>\n",
       "</table>\n",
       "only showing top 20 rows\n"
      ],
      "text/plain": [
       "+---------+--------------------+--------------------+----------+--------------+-------------+-------------+---------------+---------------+-----+---------+-------------------+-------------------+----------------+-------------------+-------------------------+-----------+-------------+---------------+-------------+-------------------+----------+-----------+------------------+------------------------+-----------------------+-----------------------+----------------------+-------------------+-----------------+-----------------+-----------+-----------+----------------------+-------+--------------------+--------------+\n",
       "|  loan_id|           member_id|           emp_title|emp_length|home_ownership|annual_income|address_state|address_zipcode|address_country|grade|sub_grade|verification_status|tot_hi_credit_limit|application_type|joint_annual_income|verification_status_joint|loan_amount|funded_amount|loan_term_years|interest_rate|monthly_installment|issue_date|loan_status|      loan_purpose|total_principal_received|total_interest_received|total_late_fee_received|total_payment_received|last_payment_amount|last_payment_date|next_payment_date|delinq_2yrs|delinq_amnt|mths_since_last_delinq|pub_rec|pub_rec_bankruptcies|inq_last_6mths|\n",
       "+---------+--------------------+--------------------+----------+--------------+-------------+-------------+---------------+---------------+-----+---------+-------------------+-------------------+----------------+-------------------+-------------------------+-----------+-------------+---------------+-------------+-------------------+----------+-----------+------------------+------------------------+-----------------------+-----------------------+----------------------+-------------------+-----------------+-----------------+-----------+-----------+----------------------+-------+--------------------+--------------+\n",
       "| 71175798|000c8875b71a6b47c...|Director of Gvt O...|         1|      MORTGAGE|     100000.0|           CA|          920xx|            USA|    A|       A4|       Not Verified|               null|      Individual|               null|                     null|     3000.0|       3000.0|              3|         7.39|              93.17|  Feb-2016| Fully Paid|debt_consolidation|                  3000.0|                 114.47|                    0.0|               3114.47|            2647.45|         Aug-2016|             null|          1|        0.0|                    13|   null|                null|          null|\n",
       "|139313300|000fc98fc1ca5faa3...|               coord|        10|      MORTGAGE|     220000.0|           CA|          952xx|            USA|    A|       A3|       Not Verified|               null|       Joint App|               null|                     null|    20000.0|      20000.0|              3|         7.21|             619.47|  Aug-2018|    Current|       credit_card|                 3558.76|                 769.52|                    0.0|               4328.28|             619.47|         Mar-2019|         Apr-2019|       null|       null|                  null|   null|                null|          null|\n",
       "|143195702|0012728d9f616bdf2...|                null|         6|           OWN|      35000.0|           SC|          294xx|            USA|    A|       A5|       Not Verified|               null|      Individual|               null|                     null|     9000.0|       9000.0|              3|         8.46|             283.95|  Dec-2018|    Current|debt_consolidation|                  666.17|                 181.45|                    0.0|                847.62|             283.95|         Mar-2019|         Apr-2019|       null|       null|                  null|   null|                null|          null|\n",
       "|  2284564|00151ece27c7ca280...|Northglenn Police...|         8|          RENT|      54000.0|           CO|          802xx|            USA|    C|       C1|       Not Verified|               null|      Individual|               null|                     null|    12800.0|      12800.0|              3|        14.33|             439.53|  Nov-2012| Fully Paid|debt_consolidation|                 12800.0|                2192.68|                    0.0|             14992.676|            7529.95|         Jun-2014|             null|       null|       null|                  null|      0|                   0|             1|\n",
       "|  3845340|002800d49886390d2...|           RehabCare|         2|          RENT|      60000.0|           TX|          787xx|            USA|    D|       D3|       Not Verified|               null|      Individual|               null|                     null|    15000.0|      15000.0|              3|        18.75|             547.95|  Mar-2013|Charged Off|debt_consolidation|                12856.06|                4702.54|                    0.0|              17835.81|             547.95|         Dec-2015|             null|       null|       null|                  null|   null|                null|          null|\n",
       "|   360493|003715c2aec34dd43...|Apex Technologies...|         1|      MORTGAGE|      90000.0|           PA|          171xx|            USA|    C|       C3|       Not Verified|               null|      Individual|               null|                     null|    12000.0|      12000.0|              3|        12.41|             400.93|  Oct-2008| Fully Paid|debt_consolidation|                 12000.0|                 208.02|                    0.0|              12208.02|               1.07|         Apr-2009|             null|       null|       null|                  null|      0|                   0|             2|\n",
       "| 95004059|003769d7f54c7859e...|             Trainer|        10|      MORTGAGE|      35000.0|           NC|          282xx|            USA|    E|       E1|           Verified|               null|      Individual|               null|                     null|    10000.0|      10000.0|              5|        22.74|             280.42|  Dec-2016|Charged Off|           medical|                   90.92|                 176.87|                    0.0|               1492.05|             280.42|         Jan-2017|             null|          1|        0.0|                    20|   null|                null|          null|\n",
       "|142641777|0037bb910c0a758f5...|    Network Engineer|         2|          RENT|     105000.0|           IL|          601xx|            USA|    C|       C3|    Source Verified|               null|      Individual|               null|                     null|     2000.0|       2000.0|              3|        15.02|              69.36|  Oct-2018|    Current|             other|                  227.25|                 116.21|                    0.0|                343.46|              69.36|         Mar-2019|         Apr-2019|       null|       null|                  null|   null|                null|          null|\n",
       "| 91518424|003d7bee408492f11...|    Flight Attendant|        10|          RENT|      75000.0|           AZ|          852xx|            USA|    A|       A5|       Not Verified|               null|      Individual|               null|                     null|    10000.0|      10000.0|              3|         7.99|             313.32|  Oct-2016|    Current|             other|                 7864.12|                1213.28|                    0.0|                9077.4|             313.32|         Mar-2019|         Apr-2019|       null|       null|                  null|   null|                null|          null|\n",
       "|116883875|003e1e6cbd2920bbb...|Operations Superv...|         9|      MORTGAGE|      92000.0|           LA|          705xx|            USA|    A|       A5|    Source Verified|               null|      Individual|               null|                     null|    10000.0|      10000.0|              3|         7.97|             313.23|  Aug-2017|    Current|debt_consolidation|                 4980.61|                 970.21|                    0.0|               5950.82|             313.23|         Mar-2019|         Apr-2019|          1|        0.0|                    23|      1|                   1|             0|\n",
       "| 10616863|004017b21bd4d6271...|Regional Rehab Di...|         9|      MORTGAGE|     113000.0|           NC|          276xx|            USA|    C|       C1|       Not Verified|               null|      Individual|               null|                     null|     3000.0|       3000.0|              3|        13.98|             102.51|  Jan-2014| Fully Paid|debt_consolidation|                  3000.0|                 685.71|                   15.0|             3700.7124|              43.24|         Dec-2016|             null|          6|        0.0|                     9|   null|                null|          null|\n",
       "| 58882363|004dbe6698f1482be...|     Project Manager|         3|      MORTGAGE|     130000.0|           NY|          109xx|            USA|    D|       D4|           Verified|               null|      Individual|               null|                     null|    35000.0|      35000.0|              3|        17.57|             1257.8|  Sep-2015| Fully Paid|       credit_card|                 35000.0|               10246.49|                    0.0|             45246.492|            1257.65|         Sep-2018|             null|       null|       null|                  null|      0|                   0|             2|\n",
       "| 27681731|004f73beb41d739e1...|Staff Research As...|         6|          RENT|      60000.0|           CA|          921xx|            USA|    C|       C4|    Source Verified|               null|      Individual|               null|                     null|    15775.0|      15775.0|              5|        14.49|             371.08|  Sep-2014|    Current|debt_consolidation|                13639.96|                6398.36|                    0.0|              20038.32|             371.08|         Mar-2019|         Apr-2019|       null|       null|                  null|   null|                null|          null|\n",
       "| 35236401|0059ce602b84a1bdd...|correctional officer|        10|      MORTGAGE|      75000.0|           CA|          933xx|            USA|    D|       D4|           Verified|               null|      Individual|               null|                     null|    31450.0|      31450.0|              3|        17.14|            1123.48|  Dec-2014| Fully Paid|debt_consolidation|                 31450.0|                8693.53|                    0.0|             40143.527|              505.1|         Dec-2017|             null|       null|       null|                  null|      0|                   0|             1|\n",
       "| 83648322|005b4c3db3fce07dc...|      office manager|         9|      MORTGAGE|      61000.0|           FL|          334xx|            USA|    B|       B5|    Source Verified|               null|      Individual|               null|                     null|     6000.0|       6000.0|              3|        11.49|             197.83|  Jun-2016|    Current|       credit_card|                  5417.8|                1102.93|                    0.0|               6520.73|             197.83|         Mar-2019|         Apr-2019|          1|        0.0|                    18|      1|                   0|             1|\n",
       "| 60615493|005d5e3c98a159671...|    Staff Accountant|         5|          RENT|      57000.0|           NY|          113xx|            USA|    C|       C5|    Source Verified|               null|      Individual|               null|                     null|     9000.0|       9000.0|              3|        14.65|             310.45|  Sep-2015| Fully Paid|       credit_card|                  9000.0|                 440.68|                    0.0|               9440.68|            8516.65|         Jan-2016|             null|       null|       null|                  null|   null|                null|          null|\n",
       "| 15650801|005daa54678e6fdfe...|     Account Manager|         1|      MORTGAGE|     105000.0|           TX|          761xx|            USA|    B|       B5|       Not Verified|               null|      Individual|               null|                     null|    10000.0|      10000.0|              3|        12.99|              336.9|  May-2014|Charged Off|debt_consolidation|                 1900.02|                 795.18|                    0.0|               4141.46|              336.9|         Jan-2015|             null|       null|       null|                  null|      0|                   0|             2|\n",
       "| 55452248|0061cd647ed984d65...|Interview Specialist|        10|      MORTGAGE|      34944.0|           FL|          334xx|            USA|    D|       D2|           Verified|               null|      Individual|               null|                     null|     8900.0|       8900.0|              3|        16.55|             315.32|  Jul-2015| Fully Paid|debt_consolidation|                  8900.0|                1772.08|                    0.0|             10672.078|            5315.73|         Feb-2017|             null|       null|       null|                  null|   null|                null|          null|\n",
       "| 51646280|0068aeffe996677c2...|             Partner|        10|      MORTGAGE|     120000.0|           AK|          998xx|            USA|    D|       D1|       Not Verified|               null|      Individual|               null|                     null|    20000.0|      20000.0|              3|        15.61|              699.3|  Jun-2015| Fully Paid|  home_improvement|                 20000.0|                5157.27|                    0.0|             25157.271|             699.11|         Jun-2018|             null|       null|       null|                  null|      0|                   0|             2|\n",
       "| 49954749|00710707c563c2119...|               owner|         3|      MORTGAGE|     109000.0|           FL|          324xx|            USA|    B|       B5|    Source Verified|               null|      Individual|               null|                     null|    15000.0|      15000.0|              3|        11.53|             494.86|  Jun-2015| Fully Paid|debt_consolidation|                 15000.0|                2595.47|                    0.0|             17595.467|            1857.95|         Oct-2017|             null|          1|        0.0|                     8|   null|                null|          null|\n",
       "+---------+--------------------+--------------------+----------+--------------+-------------+-------------+---------------+---------------+-----+---------+-------------------+-------------------+----------------+-------------------+-------------------------+-----------+-------------+---------------+-------------+-------------------+----------+-----------+------------------+------------------------+-----------------------+-----------------------+----------------------+-------------------+-----------------+-----------------+-----------+-----------+----------------------+-------+--------------------+--------------+\n",
       "only showing top 20 rows"
      ]
     },
     "execution_count": 13,
     "metadata": {},
     "output_type": "execute_result"
    }
   ],
   "source": [
    "spark.sql(\"SELECT * FROM itv008299_lending_club.customers_loan\")"
   ]
  },
  {
   "cell_type": "markdown",
   "id": "61b21369",
   "metadata": {},
   "source": [
    "## Requirement 4 \n",
    "\n",
    "- Calculate the loan score\n",
    "- Higher the loan score, higher the chances of getting your loan approved, and vice versa\n",
    "- 3 Major criteria to calculate loan score\n",
    "-- loan repayment history (last payment, total payment received)  - only 20% weight\n",
    "-- loan defaulters history (delinq-delinquet 2 yrs, pub_rec, ub_rec_bankruptcies, inq_last_6mnths) - only 45 %\n",
    "-- financial health data (home_ownership, loan_status, funded amount, grade pts-) - only 35%\n",
    "\n",
    "if our credit limit is 40k, and you just take 2 k loan then this is good.\n",
    "\n",
    "\n",
    "customers - home_ownership, grade, high credit limit\n",
    "\n",
    "loans - monthly installment, loan_status, funded amount\n",
    "\n",
    "loans_repayments - last payment, toal payment received\n",
    "\n",
    "loan_def_delinq - delinq-delinquet 2 yrs\n",
    "\n",
    "loan_def_detail_record_enq - pub_rec, ub_rec_bankruptcies, inq_last_6mnths\n",
    "\n",
    "\n",
    "customers - member id should be unique\n",
    "loan_def_delinq - member id unique\n",
    "loan_def_detail_record_enq - member id unique\n",
    "\n",
    "Bad data should be sent to upstream team, and ask what is valid record"
   ]
  },
  {
   "cell_type": "code",
   "execution_count": 28,
   "id": "e4a953c2",
   "metadata": {},
   "outputs": [
    {
     "data": {
      "text/html": [
       "<table border='1'>\n",
       "<tr><th>member_id</th><th>total</th></tr>\n",
       "<tr><td>e4c167053d5418230...</td><td>5</td></tr>\n",
       "<tr><td>76b577467eda5bdbc...</td><td>4</td></tr>\n",
       "<tr><td>3f87585a20f702838...</td><td>4</td></tr>\n",
       "<tr><td>ad8e5d384dae17e06...</td><td>4</td></tr>\n",
       "<tr><td>498bb6b1f0099cb47...</td><td>3</td></tr>\n",
       "<tr><td>f54295a60946dedad...</td><td>3</td></tr>\n",
       "<tr><td>d9ce4046daf599732...</td><td>3</td></tr>\n",
       "<tr><td>53789bea7edc660ed...</td><td>3</td></tr>\n",
       "<tr><td>819453be77718d747...</td><td>3</td></tr>\n",
       "<tr><td>4ab6205de571ccb7b...</td><td>3</td></tr>\n",
       "<tr><td>035bf3d8288d803bd...</td><td>3</td></tr>\n",
       "<tr><td>22593a1870543b2db...</td><td>3</td></tr>\n",
       "<tr><td>c92062bb371842b3d...</td><td>3</td></tr>\n",
       "<tr><td>e7d8d16928817ec8f...</td><td>3</td></tr>\n",
       "<tr><td>291ca1b09ef11ca3e...</td><td>3</td></tr>\n",
       "<tr><td>a2356725aa9da92c6...</td><td>3</td></tr>\n",
       "<tr><td>5d52e7773cb0efff3...</td><td>3</td></tr>\n",
       "<tr><td>c563428cb58da48ff...</td><td>3</td></tr>\n",
       "<tr><td>d3731bad3e6a82515...</td><td>3</td></tr>\n",
       "<tr><td>059d401bb603d9a80...</td><td>3</td></tr>\n",
       "</table>\n",
       "only showing top 20 rows\n"
      ],
      "text/plain": [
       "+--------------------+-----+\n",
       "|           member_id|total|\n",
       "+--------------------+-----+\n",
       "|e4c167053d5418230...|    5|\n",
       "|ad8e5d384dae17e06...|    4|\n",
       "|76b577467eda5bdbc...|    4|\n",
       "|3f87585a20f702838...|    4|\n",
       "|819453be77718d747...|    3|\n",
       "|3ae415acd6bbfaac1...|    3|\n",
       "|035bf3d8288d803bd...|    3|\n",
       "|22593a1870543b2db...|    3|\n",
       "|291ca1b09ef11ca3e...|    3|\n",
       "|4ab6205de571ccb7b...|    3|\n",
       "|d3731bad3e6a82515...|    3|\n",
       "|53789bea7edc660ed...|    3|\n",
       "|f54295a60946dedad...|    3|\n",
       "|e7d8d16928817ec8f...|    3|\n",
       "|498bb6b1f0099cb47...|    3|\n",
       "|a2356725aa9da92c6...|    3|\n",
       "|5d52e7773cb0efff3...|    3|\n",
       "|c563428cb58da48ff...|    3|\n",
       "|066ddaa64bee66dff...|    3|\n",
       "|059d401bb603d9a80...|    3|\n",
       "+--------------------+-----+\n",
       "only showing top 20 rows"
      ]
     },
     "execution_count": 28,
     "metadata": {},
     "output_type": "execute_result"
    }
   ],
   "source": [
    "# Checking number of records per customer\n",
    "spark.sql(\"\"\"\n",
    "SELECT \n",
    "    member_id, \n",
    "    COUNT(*) total \n",
    "FROM itv008299_lending_club.customers \n",
    "GROUP BY member_id \n",
    "ORDER BY total DESC\"\"\")"
   ]
  },
  {
   "cell_type": "code",
   "execution_count": 29,
   "id": "6532aa10",
   "metadata": {},
   "outputs": [
    {
     "data": {
      "text/html": [
       "<table border='1'>\n",
       "<tr><th>member_id</th><th>emp_title</th><th>emp_length</th><th>home_ownership</th><th>annual_income</th><th>address_state</th><th>address_zipcode</th><th>address_country</th><th>grade</th><th>sub_grade</th><th>verification_status</th><th>total_high_credit_limit</th><th>application_type</th><th>joint_annual_income</th><th>verification_status_joint</th><th>ingest_date</th></tr>\n",
       "<tr><td>e4c167053d5418230...</td><td>null</td><td>6</td><td>MORTGAGE</td><td>55000.0</td><td>IL</td><td>604xx</td><td>USA</td><td>B</td><td>B5</td><td>Verified</td><td>207300.0</td><td>Individual</td><td>null</td><td>null</td><td>2023-11-08 16:31:...</td></tr>\n",
       "<tr><td>e4c167053d5418230...</td><td>null</td><td>6</td><td>MORTGAGE</td><td>55000.0</td><td>IL</td><td>604xx</td><td>USA</td><td>B</td><td>B5</td><td>Verified</td><td>171165.0</td><td>Individual</td><td>null</td><td>null</td><td>2023-11-08 16:31:...</td></tr>\n",
       "<tr><td>e4c167053d5418230...</td><td>null</td><td>6</td><td>MORTGAGE</td><td>55000.0</td><td>IL</td><td>604xx</td><td>USA</td><td>B</td><td>B5</td><td>Verified</td><td>138780.0</td><td>Individual</td><td>null</td><td>null</td><td>2023-11-08 16:31:...</td></tr>\n",
       "<tr><td>e4c167053d5418230...</td><td>null</td><td>6</td><td>MORTGAGE</td><td>55000.0</td><td>IL</td><td>604xx</td><td>USA</td><td>B</td><td>B5</td><td>Verified</td><td>110907.0</td><td>Individual</td><td>null</td><td>null</td><td>2023-11-08 16:31:...</td></tr>\n",
       "<tr><td>e4c167053d5418230...</td><td>null</td><td>6</td><td>MORTGAGE</td><td>55000.0</td><td>IL</td><td>604xx</td><td>USA</td><td>B</td><td>B5</td><td>Verified</td><td>129833.0</td><td>Individual</td><td>null</td><td>null</td><td>2023-11-08 16:31:...</td></tr>\n",
       "</table>\n"
      ],
      "text/plain": [
       "+--------------------+---------+----------+--------------+-------------+-------------+---------------+---------------+-----+---------+-------------------+-----------------------+----------------+-------------------+-------------------------+--------------------+\n",
       "|           member_id|emp_title|emp_length|home_ownership|annual_income|address_state|address_zipcode|address_country|grade|sub_grade|verification_status|total_high_credit_limit|application_type|joint_annual_income|verification_status_joint|         ingest_date|\n",
       "+--------------------+---------+----------+--------------+-------------+-------------+---------------+---------------+-----+---------+-------------------+-----------------------+----------------+-------------------+-------------------------+--------------------+\n",
       "|e4c167053d5418230...|     null|         6|      MORTGAGE|      55000.0|           IL|          604xx|            USA|    B|       B5|           Verified|               207300.0|      Individual|               null|                     null|2023-11-08 16:31:...|\n",
       "|e4c167053d5418230...|     null|         6|      MORTGAGE|      55000.0|           IL|          604xx|            USA|    B|       B5|           Verified|               171165.0|      Individual|               null|                     null|2023-11-08 16:31:...|\n",
       "|e4c167053d5418230...|     null|         6|      MORTGAGE|      55000.0|           IL|          604xx|            USA|    B|       B5|           Verified|               138780.0|      Individual|               null|                     null|2023-11-08 16:31:...|\n",
       "|e4c167053d5418230...|     null|         6|      MORTGAGE|      55000.0|           IL|          604xx|            USA|    B|       B5|           Verified|               110907.0|      Individual|               null|                     null|2023-11-08 16:31:...|\n",
       "|e4c167053d5418230...|     null|         6|      MORTGAGE|      55000.0|           IL|          604xx|            USA|    B|       B5|           Verified|               129833.0|      Individual|               null|                     null|2023-11-08 16:31:...|\n",
       "+--------------------+---------+----------+--------------+-------------+-------------+---------------+---------------+-----+---------+-------------------+-----------------------+----------------+-------------------+-------------------------+--------------------+"
      ]
     },
     "execution_count": 29,
     "metadata": {},
     "output_type": "execute_result"
    }
   ],
   "source": [
    "spark.sql(\"\"\"\n",
    "SELECT * FROM itv008299_lending_club.customers\n",
    "WHERE member_id LIKE 'e4c167053d5418230%'\n",
    "\"\"\")"
   ]
  },
  {
   "cell_type": "markdown",
   "id": "7c5c538d",
   "metadata": {},
   "source": [
    "### In the above data, we can see that for a single member there are different records. As a developer we would not know which record to keep, so we need to compile such records and send it to our clients/upstream teams for further analysis"
   ]
  },
  {
   "cell_type": "code",
   "execution_count": 30,
   "id": "c7d24a5e",
   "metadata": {},
   "outputs": [
    {
     "data": {
      "text/html": [
       "<table border='1'>\n",
       "<tr><th>member_id</th><th>total</th></tr>\n",
       "<tr><td>e4c167053d5418230...</td><td>3</td></tr>\n",
       "<tr><td>55d55d97420671a1c...</td><td>2</td></tr>\n",
       "<tr><td>4f7579700cd9d49d7...</td><td>2</td></tr>\n",
       "<tr><td>ac9a3da3b89f9228e...</td><td>2</td></tr>\n",
       "<tr><td>694c6cb86608015e9...</td><td>2</td></tr>\n",
       "<tr><td>77db5fdf951dd04b2...</td><td>2</td></tr>\n",
       "<tr><td>343344c3c65b023af...</td><td>2</td></tr>\n",
       "<tr><td>c23eb88fed4893030...</td><td>2</td></tr>\n",
       "<tr><td>6918b9861ba5a4c67...</td><td>2</td></tr>\n",
       "<tr><td>6c2b63ff231e520d4...</td><td>2</td></tr>\n",
       "<tr><td>0b44a10bc749eabb2...</td><td>2</td></tr>\n",
       "<tr><td>62394e3f9d063413b...</td><td>2</td></tr>\n",
       "<tr><td>dbe5ec23d01598dbf...</td><td>2</td></tr>\n",
       "<tr><td>17d76ba5141e1c33a...</td><td>2</td></tr>\n",
       "<tr><td>c16e1f92ae5ccc785...</td><td>2</td></tr>\n",
       "<tr><td>db887c1d4cb004ca8...</td><td>2</td></tr>\n",
       "<tr><td>8d2c605c7ad9209cc...</td><td>2</td></tr>\n",
       "<tr><td>bbe43331566910d55...</td><td>2</td></tr>\n",
       "<tr><td>a93a44c9d83793451...</td><td>2</td></tr>\n",
       "<tr><td>b5ded5638e54e1692...</td><td>2</td></tr>\n",
       "</table>\n",
       "only showing top 20 rows\n"
      ],
      "text/plain": [
       "+--------------------+-----+\n",
       "|           member_id|total|\n",
       "+--------------------+-----+\n",
       "|e4c167053d5418230...|    3|\n",
       "|f1ebb6edb9b07de5f...|    2|\n",
       "|4f7579700cd9d49d7...|    2|\n",
       "|ac9a3da3b89f9228e...|    2|\n",
       "|694c6cb86608015e9...|    2|\n",
       "|77db5fdf951dd04b2...|    2|\n",
       "|343344c3c65b023af...|    2|\n",
       "|db887c1d4cb004ca8...|    2|\n",
       "|6918b9861ba5a4c67...|    2|\n",
       "|6c2b63ff231e520d4...|    2|\n",
       "|0b44a10bc749eabb2...|    2|\n",
       "|62394e3f9d063413b...|    2|\n",
       "|dbe5ec23d01598dbf...|    2|\n",
       "|17d76ba5141e1c33a...|    2|\n",
       "|c16e1f92ae5ccc785...|    2|\n",
       "|c23eb88fed4893030...|    2|\n",
       "|8d2c605c7ad9209cc...|    2|\n",
       "|bbe43331566910d55...|    2|\n",
       "|a93a44c9d83793451...|    2|\n",
       "|b5ded5638e54e1692...|    2|\n",
       "+--------------------+-----+\n",
       "only showing top 20 rows"
      ]
     },
     "execution_count": 30,
     "metadata": {},
     "output_type": "execute_result"
    }
   ],
   "source": [
    "# Checking number of records per customer\n",
    "\n",
    "spark.sql(\"\"\"\n",
    "SELECT \n",
    "    member_id, \n",
    "    COUNT(*) total \n",
    "FROM itv008299_lending_club.loan_def_delinq \n",
    "GROUP BY member_id \n",
    "ORDER BY total DESC\"\"\")"
   ]
  },
  {
   "cell_type": "code",
   "execution_count": 31,
   "id": "84c4e7fa",
   "metadata": {},
   "outputs": [
    {
     "data": {
      "text/html": [
       "<table border='1'>\n",
       "<tr><th>member_id</th><th>delinq_2yrs</th><th>delinq_amnt</th><th>mths_since_last_delinq</th><th>ingest_date</th></tr>\n",
       "<tr><td>e4c167053d5418230...</td><td>1</td><td>0.0</td><td>37</td><td>2023-11-08 17:32:...</td></tr>\n",
       "<tr><td>e4c167053d5418230...</td><td>3</td><td>0.0</td><td>13</td><td>2023-11-08 17:32:...</td></tr>\n",
       "<tr><td>e4c167053d5418230...</td><td>1</td><td>0.0</td><td>16</td><td>2023-11-08 17:32:...</td></tr>\n",
       "</table>\n"
      ],
      "text/plain": [
       "+--------------------+-----------+-----------+----------------------+--------------------+\n",
       "|           member_id|delinq_2yrs|delinq_amnt|mths_since_last_delinq|         ingest_date|\n",
       "+--------------------+-----------+-----------+----------------------+--------------------+\n",
       "|e4c167053d5418230...|          1|        0.0|                    37|2023-11-08 17:32:...|\n",
       "|e4c167053d5418230...|          3|        0.0|                    13|2023-11-08 17:32:...|\n",
       "|e4c167053d5418230...|          1|        0.0|                    16|2023-11-08 17:32:...|\n",
       "+--------------------+-----------+-----------+----------------------+--------------------+"
      ]
     },
     "execution_count": 31,
     "metadata": {},
     "output_type": "execute_result"
    }
   ],
   "source": [
    "spark.sql(\"\"\"\n",
    "SELECT * FROM itv008299_lending_club.loan_def_delinq\n",
    "WHERE member_id LIKE 'e4c167053d5418230%'\n",
    "\"\"\")"
   ]
  },
  {
   "cell_type": "code",
   "execution_count": 32,
   "id": "596e4230",
   "metadata": {},
   "outputs": [
    {
     "data": {
      "text/html": [
       "<table border='1'>\n",
       "<tr><th>member_id</th><th>total</th></tr>\n",
       "<tr><td>c80b3e1938d2f7fad...</td><td>3</td></tr>\n",
       "<tr><td>092e68fe2b907d655...</td><td>3</td></tr>\n",
       "<tr><td>a3be755503ee43a84...</td><td>3</td></tr>\n",
       "<tr><td>c0c09bafdbf0655d8...</td><td>3</td></tr>\n",
       "<tr><td>d93573e2883e37904...</td><td>3</td></tr>\n",
       "<tr><td>ee2d0dd6ad9e048b8...</td><td>3</td></tr>\n",
       "<tr><td>5d47bf75f686431f9...</td><td>3</td></tr>\n",
       "<tr><td>1f392553105eebc55...</td><td>3</td></tr>\n",
       "<tr><td>170b46bb6a9d00bb1...</td><td>3</td></tr>\n",
       "<tr><td>e4c167053d5418230...</td><td>3</td></tr>\n",
       "<tr><td>819453be77718d747...</td><td>3</td></tr>\n",
       "<tr><td>c563428cb58da48ff...</td><td>3</td></tr>\n",
       "<tr><td>ab24ad29f19da3d84...</td><td>3</td></tr>\n",
       "<tr><td>5a51c9bedd4e3c663...</td><td>3</td></tr>\n",
       "<tr><td>667ee603e3de74630...</td><td>3</td></tr>\n",
       "<tr><td>09afb4e74f1234220...</td><td>3</td></tr>\n",
       "<tr><td>01b2223757c3b62e7...</td><td>2</td></tr>\n",
       "<tr><td>df51e1f6c20da2046...</td><td>2</td></tr>\n",
       "<tr><td>49c4eefda5b7b9c21...</td><td>2</td></tr>\n",
       "<tr><td>73a5bbf6f0ba325d8...</td><td>2</td></tr>\n",
       "</table>\n",
       "only showing top 20 rows\n"
      ],
      "text/plain": [
       "+--------------------+-----+\n",
       "|           member_id|total|\n",
       "+--------------------+-----+\n",
       "|c80b3e1938d2f7fad...|    3|\n",
       "|092e68fe2b907d655...|    3|\n",
       "|a3be755503ee43a84...|    3|\n",
       "|c0c09bafdbf0655d8...|    3|\n",
       "|d93573e2883e37904...|    3|\n",
       "|ee2d0dd6ad9e048b8...|    3|\n",
       "|5d47bf75f686431f9...|    3|\n",
       "|1f392553105eebc55...|    3|\n",
       "|170b46bb6a9d00bb1...|    3|\n",
       "|e4c167053d5418230...|    3|\n",
       "|819453be77718d747...|    3|\n",
       "|c563428cb58da48ff...|    3|\n",
       "|ab24ad29f19da3d84...|    3|\n",
       "|5a51c9bedd4e3c663...|    3|\n",
       "|667ee603e3de74630...|    3|\n",
       "|09afb4e74f1234220...|    3|\n",
       "|e884f4108b3c6b1f4...|    2|\n",
       "|066ddaa64bee66dff...|    2|\n",
       "|6918b9861ba5a4c67...|    2|\n",
       "|981a0200552d3e4c1...|    2|\n",
       "+--------------------+-----+\n",
       "only showing top 20 rows"
      ]
     },
     "execution_count": 32,
     "metadata": {},
     "output_type": "execute_result"
    }
   ],
   "source": [
    "spark.sql(\"\"\"\n",
    "SELECT \n",
    "    member_id, \n",
    "    COUNT(*) total \n",
    "FROM itv008299_lending_club.loan_def_detail_record_enq \n",
    "GROUP BY member_id \n",
    "ORDER BY total DESC\"\"\")"
   ]
  },
  {
   "cell_type": "code",
   "execution_count": 33,
   "id": "7a8dcf78",
   "metadata": {},
   "outputs": [
    {
     "data": {
      "text/html": [
       "<table border='1'>\n",
       "<tr><th>member_id</th><th>pub_rec</th><th>pub_rec_bankruptcies</th><th>inq_last_6mths</th><th>ingest_date</th></tr>\n",
       "<tr><td>c80b3e1938d2f7fad...</td><td>1</td><td>1</td><td>0</td><td>2023-11-08 17:35:...</td></tr>\n",
       "<tr><td>c80b3e1938d2f7fad...</td><td>0</td><td>0</td><td>1</td><td>2023-11-08 17:35:...</td></tr>\n",
       "<tr><td>c80b3e1938d2f7fad...</td><td>1</td><td>1</td><td>0</td><td>2023-11-08 17:35:...</td></tr>\n",
       "</table>\n"
      ],
      "text/plain": [
       "+--------------------+-------+--------------------+--------------+--------------------+\n",
       "|           member_id|pub_rec|pub_rec_bankruptcies|inq_last_6mths|         ingest_date|\n",
       "+--------------------+-------+--------------------+--------------+--------------------+\n",
       "|c80b3e1938d2f7fad...|      1|                   1|             0|2023-11-08 17:35:...|\n",
       "|c80b3e1938d2f7fad...|      0|                   0|             1|2023-11-08 17:35:...|\n",
       "|c80b3e1938d2f7fad...|      1|                   1|             0|2023-11-08 17:35:...|\n",
       "+--------------------+-------+--------------------+--------------+--------------------+"
      ]
     },
     "execution_count": 33,
     "metadata": {},
     "output_type": "execute_result"
    }
   ],
   "source": [
    "spark.sql(\"\"\"\n",
    "SELECT * FROM itv008299_lending_club.loan_def_detail_record_enq\n",
    "WHERE member_id LIKE 'c80b3e1938d2f7fad%'\n",
    "\"\"\")"
   ]
  },
  {
   "cell_type": "code",
   "execution_count": 34,
   "id": "b270487f",
   "metadata": {},
   "outputs": [],
   "source": [
    "bad_data_customers_df = spark.sql(\"\"\"\n",
    "select member_id from(\n",
    "    select \n",
    "        member_id, count(*) as total \n",
    "    from itv008299_lending_club.customers\n",
    "    group by member_id \n",
    "    having total > 1\n",
    ")\n",
    "\"\"\")"
   ]
  },
  {
   "cell_type": "code",
   "execution_count": 35,
   "id": "6c1c9e05",
   "metadata": {},
   "outputs": [
    {
     "data": {
      "text/plain": [
       "3157"
      ]
     },
     "execution_count": 35,
     "metadata": {},
     "output_type": "execute_result"
    }
   ],
   "source": [
    "bad_data_customers_df.count()"
   ]
  },
  {
   "cell_type": "code",
   "execution_count": 36,
   "id": "14d5175e",
   "metadata": {},
   "outputs": [],
   "source": [
    "bad_data_loan_def_delinq_df = spark.sql(\"\"\"\n",
    "select member_id from(\n",
    "    select \n",
    "        member_id, count(*) as total \n",
    "    from itv008299_lending_club.loan_def_delinq\n",
    "    group by member_id \n",
    "    having total > 1\n",
    ")\n",
    "\"\"\")"
   ]
  },
  {
   "cell_type": "code",
   "execution_count": 37,
   "id": "560446c2",
   "metadata": {},
   "outputs": [
    {
     "data": {
      "text/plain": [
       "144"
      ]
     },
     "execution_count": 37,
     "metadata": {},
     "output_type": "execute_result"
    }
   ],
   "source": [
    "bad_data_loan_def_delinq_df.count()"
   ]
  },
  {
   "cell_type": "code",
   "execution_count": 38,
   "id": "ccb43c2e",
   "metadata": {},
   "outputs": [],
   "source": [
    "bad_data_loan_def_detail_enq_df = spark.sql(\"\"\"\n",
    "select member_id from(\n",
    "    select \n",
    "        member_id, count(*) as total \n",
    "    from itv008299_lending_club.loan_def_detail_record_enq\n",
    "    group by member_id \n",
    "    having total > 1\n",
    ")\n",
    "\"\"\")"
   ]
  },
  {
   "cell_type": "code",
   "execution_count": 39,
   "id": "4dbf99a8",
   "metadata": {},
   "outputs": [
    {
     "data": {
      "text/plain": [
       "848"
      ]
     },
     "execution_count": 39,
     "metadata": {},
     "output_type": "execute_result"
    }
   ],
   "source": [
    "bad_data_loan_def_detail_enq_df.count()"
   ]
  },
  {
   "cell_type": "markdown",
   "id": "9c3a1e8d",
   "metadata": {},
   "source": [
    "Store all bad records in a folder to review later on"
   ]
  },
  {
   "cell_type": "code",
   "execution_count": 40,
   "id": "94412cf1",
   "metadata": {},
   "outputs": [],
   "source": [
    "bad_data_customers_df.repartition(1).write\\\n",
    ".format(\"csv\")\\\n",
    ".mode(\"overwrite\")\\\n",
    ".option(\"header\", True)\\\n",
    ".option(\"path\", \"/user/itv008299/lendingclubproject/bad_data/bad_data_customers\")\\\n",
    ".save()"
   ]
  },
  {
   "cell_type": "code",
   "execution_count": 41,
   "id": "a2220064",
   "metadata": {},
   "outputs": [],
   "source": [
    "bad_data_loan_def_delinq_df.repartition(1).write\\\n",
    ".format(\"csv\")\\\n",
    ".mode(\"overwrite\")\\\n",
    ".option(\"header\", True)\\\n",
    ".option(\"path\", \"/user/itv008299/lendingclubproject/bad_data/bad_data_loan_def_delinq\")\\\n",
    ".save()"
   ]
  },
  {
   "cell_type": "code",
   "execution_count": 42,
   "id": "ce626651",
   "metadata": {},
   "outputs": [],
   "source": [
    "bad_data_loan_def_detail_enq_df.repartition(1).write\\\n",
    ".format(\"csv\")\\\n",
    ".mode(\"overwrite\")\\\n",
    ".option(\"header\", True)\\\n",
    ".option(\"path\", \"/user/itv008299/lendingclubproject/bad_data/bad_data_loan_def_detail_enq\")\\\n",
    ".save()"
   ]
  },
  {
   "cell_type": "markdown",
   "id": "4ddd9a6e",
   "metadata": {},
   "source": [
    "### I want to create a consolidated files which have all member ids uniquely from above three"
   ]
  },
  {
   "cell_type": "code",
   "execution_count": 43,
   "id": "4faedac0",
   "metadata": {},
   "outputs": [],
   "source": [
    "# union followed by distinct\n",
    "bad_data_distinct_customers_df = bad_data_customers_df.select(\"member_id\")\\\n",
    ".union(bad_data_loan_def_delinq_df.select(\"member_id\"))\\\n",
    ".union(bad_data_loan_def_detail_enq_df.select(\"member_id\"))"
   ]
  },
  {
   "cell_type": "code",
   "execution_count": 44,
   "id": "39b9a081",
   "metadata": {},
   "outputs": [],
   "source": [
    "bad_data_distinct_final_df = bad_data_distinct_customers_df.distinct()"
   ]
  },
  {
   "cell_type": "code",
   "execution_count": 45,
   "id": "781f2bd4",
   "metadata": {},
   "outputs": [],
   "source": [
    "bad_data_distinct_final_df.write\\\n",
    ".format(\"csv\")\\\n",
    ".mode(\"overwrite\")\\\n",
    ".option(\"header\", True)\\\n",
    ".option(\"path\", \"/user/itv008299/lendingclubproject/bad_data/bad_customer_data_final\")\\\n",
    ".save()"
   ]
  },
  {
   "cell_type": "code",
   "execution_count": 46,
   "id": "663efc88",
   "metadata": {},
   "outputs": [],
   "source": [
    "bad_data_distinct_final_df.createOrReplaceTempView(\"bad_data_customers\")"
   ]
  },
  {
   "cell_type": "markdown",
   "id": "6df66329",
   "metadata": {},
   "source": [
    "## For our future analysis\n",
    "\n",
    "We will remove records of all those customers who fall under bad data category for now"
   ]
  },
  {
   "cell_type": "code",
   "execution_count": 47,
   "id": "9c6dddd3",
   "metadata": {},
   "outputs": [],
   "source": [
    "customers_df = spark.sql(\"\"\"\n",
    "    select * from itv008299_lending_club.customers \n",
    "    where member_id not in (\n",
    "        select member_id from bad_data_customers\n",
    "    )\n",
    "\"\"\")"
   ]
  },
  {
   "cell_type": "code",
   "execution_count": 48,
   "id": "4ba44f10",
   "metadata": {},
   "outputs": [],
   "source": [
    "customers_df.write\\\n",
    ".format(\"parquet\")\\\n",
    ".mode(\"overwrite\")\\\n",
    ".option(\"path\", \"/user/itv008299/lendingclubproject/cleaned_new/customers_parquet\")\\\n",
    ".save()"
   ]
  },
  {
   "cell_type": "code",
   "execution_count": 49,
   "id": "aacb244b",
   "metadata": {},
   "outputs": [],
   "source": [
    "loan_def_delinq_df = spark.sql(\"\"\"\n",
    "    select * from itv008299_lending_club.loan_def_delinq \n",
    "    where member_id not in (\n",
    "        select member_id from bad_data_customers\n",
    "    )\n",
    "\"\"\")"
   ]
  },
  {
   "cell_type": "code",
   "execution_count": 50,
   "id": "c1c004e1",
   "metadata": {},
   "outputs": [],
   "source": [
    "loan_def_delinq_df.write\\\n",
    ".format(\"parquet\")\\\n",
    ".mode(\"overwrite\")\\\n",
    ".option(\"path\", \"/user/itv008299/lendingclubproject/cleaned_new/loan_def_delinq_parquet\")\\\n",
    ".save()"
   ]
  },
  {
   "cell_type": "code",
   "execution_count": 51,
   "id": "1558765d",
   "metadata": {},
   "outputs": [],
   "source": [
    "loan_def_detail_record_enq_df = spark.sql(\"\"\"\n",
    "    select * from itv008299_lending_club.loan_def_detail_record_enq \n",
    "    where member_id not in (\n",
    "        select member_id from bad_data_customers\n",
    "    )\n",
    "\"\"\")"
   ]
  },
  {
   "cell_type": "code",
   "execution_count": 52,
   "id": "ebffe0ea",
   "metadata": {},
   "outputs": [],
   "source": [
    "loan_def_detail_record_enq_df.write\\\n",
    ".format(\"parquet\")\\\n",
    ".mode(\"overwrite\")\\\n",
    ".option(\"path\", \"/user/itv008299/lendingclubproject/cleaned_new/loan_def_detail_record_enq_parquet\")\\\n",
    ".save()"
   ]
  },
  {
   "cell_type": "code",
   "execution_count": 53,
   "id": "bedcd2f0",
   "metadata": {},
   "outputs": [
    {
     "data": {
      "text/html": [
       "<table border='1'>\n",
       "<tr><th></th></tr>\n",
       "</table>\n"
      ],
      "text/plain": [
       "++\n",
       "||\n",
       "++\n",
       "++"
      ]
     },
     "execution_count": 53,
     "metadata": {},
     "output_type": "execute_result"
    }
   ],
   "source": [
    "spark.sql(\"\"\"\n",
    "CREATE EXTERNAL TABLE itv008299_lending_club.customers_new(\n",
    "    member_id string,\n",
    "    emp_title string,\n",
    "    emp_length int,\n",
    "    home_ownership string,\n",
    "    annual_income float,\n",
    "    address_state string,\n",
    "    address_zipcode string,\n",
    "    address_country string,\n",
    "    grade string,\n",
    "    sub_grade string,\n",
    "    verification_status string,\n",
    "    total_high_credit_limit float,\n",
    "    application_type string,\n",
    "    joint_annual_income float,\n",
    "    verification_status_joint string,\n",
    "    ingest_date timestamp\n",
    ") stored as parquet\n",
    "LOCATION '/user/itv008299/lendingclubproject/cleaned_new/customers_parquet'\n",
    "\"\"\")"
   ]
  },
  {
   "cell_type": "code",
   "execution_count": 54,
   "id": "2ea4da78",
   "metadata": {},
   "outputs": [
    {
     "data": {
      "text/html": [
       "<table border='1'>\n",
       "<tr><th></th></tr>\n",
       "</table>\n"
      ],
      "text/plain": [
       "++\n",
       "||\n",
       "++\n",
       "++"
      ]
     },
     "execution_count": 54,
     "metadata": {},
     "output_type": "execute_result"
    }
   ],
   "source": [
    "spark.sql(\"\"\"\n",
    "CREATE EXTERNAL TABLE itv008299_lending_club.loan_def_delinq_new(\n",
    "    member_id string,\n",
    "    delinq_2yrs int,\n",
    "    delinq_amnt float,\n",
    "    mths_since_last_delinq int,\n",
    "    ingest_date timestamp\n",
    ") stored as parquet\n",
    "LOCATION '/user/itv008299/lendingclubproject/cleaned_new/loan_def_delinq_parquet'\n",
    "\"\"\")"
   ]
  },
  {
   "cell_type": "code",
   "execution_count": 55,
   "id": "ea616aed",
   "metadata": {},
   "outputs": [
    {
     "data": {
      "text/html": [
       "<table border='1'>\n",
       "<tr><th></th></tr>\n",
       "</table>\n"
      ],
      "text/plain": [
       "++\n",
       "||\n",
       "++\n",
       "++"
      ]
     },
     "execution_count": 55,
     "metadata": {},
     "output_type": "execute_result"
    }
   ],
   "source": [
    "spark.sql(\"\"\"\n",
    "CREATE EXTERNAL TABLE itv008299_lending_club.loan_def_detail_record_enq_new(\n",
    "    member_id string,\n",
    "    pub_rec int,\n",
    "    pub_rec_bankruptcies int,\n",
    "    inq_last_6mths int,\n",
    "    ingest_date timestamp\n",
    ") stored as parquet\n",
    "LOCATION '/user/itv008299/lendingclubproject/cleaned_new/loan_def_detail_record_enq_parquet'\n",
    "\"\"\")"
   ]
  },
  {
   "cell_type": "code",
   "execution_count": 56,
   "id": "0177bcce",
   "metadata": {},
   "outputs": [],
   "source": [
    "spark.stop()"
   ]
  }
 ],
 "metadata": {
  "kernelspec": {
   "display_name": "Pyspark 3",
   "language": "python",
   "name": "pyspark3"
  },
  "language_info": {
   "codemirror_mode": {
    "name": "ipython",
    "version": 3
   },
   "file_extension": ".py",
   "mimetype": "text/x-python",
   "name": "python",
   "nbconvert_exporter": "python",
   "pygments_lexer": "ipython3",
   "version": "3.6.12"
  }
 },
 "nbformat": 4,
 "nbformat_minor": 5
}
